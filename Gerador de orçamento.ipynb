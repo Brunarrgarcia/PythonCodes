{
 "cells": [
  {
   "cell_type": "code",
   "execution_count": 12,
   "id": "97b62cf1",
   "metadata": {},
   "outputs": [
    {
     "name": "stdout",
     "output_type": "stream",
     "text": [
      "Digite a descrição do projeto: web\n",
      "Digite o total de horas estimadas: 20\n",
      "Digite o valor da hora trabalhada: 30\n",
      "Digite o prazo estimado: 2 dias\n"
     ]
    }
   ],
   "source": [
    "projeto = input(\"Digite a descrição do projeto: \")\n",
    "horas_estimadas = input(\"Digite o total de horas estimadas: \")\n",
    "valor_hora = input(\"Digite o valor da hora trabalhada: \")\n",
    "prazo = input(\"Digite o prazo estimado: \")"
   ]
  },
  {
   "cell_type": "code",
   "execution_count": 13,
   "id": "b5d6b19a",
   "metadata": {},
   "outputs": [
    {
     "name": "stdout",
     "output_type": "stream",
     "text": [
      "600\n"
     ]
    }
   ],
   "source": [
    "valor_total = int(horas_estimadas)*int(valor_hora)\n",
    "print(valor_total)"
   ]
  },
  {
   "cell_type": "markdown",
   "id": "e2f7eff3",
   "metadata": {},
   "source": [
    "# Gerando o PDF"
   ]
  },
  {
   "cell_type": "code",
   "execution_count": 14,
   "id": "f8838db8",
   "metadata": {},
   "outputs": [
    {
     "name": "stdout",
     "output_type": "stream",
     "text": [
      "Requirement already satisfied: fpdf in c:\\users\\bruna garcia\\anaconda3\\lib\\site-packages (1.7.2)\n"
     ]
    }
   ],
   "source": [
    "!pip install fpdf"
   ]
  },
  {
   "cell_type": "code",
   "execution_count": 18,
   "id": "ca10d888",
   "metadata": {
    "scrolled": true
   },
   "outputs": [
    {
     "name": "stdout",
     "output_type": "stream",
     "text": [
      "Orçamento gerado com sucesso!\n"
     ]
    }
   ],
   "source": [
    "from fpdf import FPDF\n",
    "pdf = FPDF()\n",
    "pdf.add_page()\n",
    "pdf.set_font(\"Arial\")\n",
    "\n",
    "pdf.image(\"C://PYTHON//template.png\", x=0,y=0)\n",
    "pdf.text(115,145, projeto)\n",
    "pdf.text(115,160, horas_estimadas)\n",
    "pdf.text(115, 175, valor_hora)\n",
    "pdf.text(115,190, prazo)\n",
    "pdf.text(115,205, str(valor_total))\n",
    "\n",
    "pdf.output(\"Orçamento.pdf\")\n",
    "print(\"Orçamento gerado com sucesso!\")"
   ]
  }
 ],
 "metadata": {
  "kernelspec": {
   "display_name": "Python 3 (ipykernel)",
   "language": "python",
   "name": "python3"
  },
  "language_info": {
   "codemirror_mode": {
    "name": "ipython",
    "version": 3
   },
   "file_extension": ".py",
   "mimetype": "text/x-python",
   "name": "python",
   "nbconvert_exporter": "python",
   "pygments_lexer": "ipython3",
   "version": "3.9.13"
  }
 },
 "nbformat": 4,
 "nbformat_minor": 5
}
