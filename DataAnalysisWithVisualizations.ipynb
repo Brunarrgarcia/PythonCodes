{
 "cells": [
  {
   "cell_type": "markdown",
   "id": "a8df3dc3",
   "metadata": {},
   "source": [
    "# Análise de dados / Data Analysis"
   ]
  },
  {
   "cell_type": "markdown",
   "id": "c149f507",
   "metadata": {},
   "source": [
    "## Carregando dados - Pandas/ Loading data - Pandas"
   ]
  },
  {
   "cell_type": "code",
   "execution_count": 83,
   "id": "e1e93b27",
   "metadata": {},
   "outputs": [],
   "source": [
    "import pandas as pd"
   ]
  },
  {
   "cell_type": "code",
   "execution_count": 84,
   "id": "8977ddab",
   "metadata": {},
   "outputs": [],
   "source": [
    "dados = pd.read_excel(\"vendas.xlsx\")"
   ]
  },
  {
   "cell_type": "markdown",
   "id": "df9da072",
   "metadata": {},
   "source": [
    "# Análise Exploratória/ Exploratory Analysis"
   ]
  },
  {
   "cell_type": "code",
   "execution_count": 85,
   "id": "bbd4089d",
   "metadata": {},
   "outputs": [
    {
     "data": {
      "text/html": [
       "<div>\n",
       "<style scoped>\n",
       "    .dataframe tbody tr th:only-of-type {\n",
       "        vertical-align: middle;\n",
       "    }\n",
       "\n",
       "    .dataframe tbody tr th {\n",
       "        vertical-align: top;\n",
       "    }\n",
       "\n",
       "    .dataframe thead th {\n",
       "        text-align: right;\n",
       "    }\n",
       "</style>\n",
       "<table border=\"1\" class=\"dataframe\">\n",
       "  <thead>\n",
       "    <tr style=\"text-align: right;\">\n",
       "      <th></th>\n",
       "      <th>id_pedido</th>\n",
       "      <th>data</th>\n",
       "      <th>loja</th>\n",
       "      <th>cidade</th>\n",
       "      <th>estado</th>\n",
       "      <th>regiao</th>\n",
       "      <th>tamanho</th>\n",
       "      <th>local_consumo</th>\n",
       "      <th>preco</th>\n",
       "      <th>forma_pagamento</th>\n",
       "      <th>ano_mes</th>\n",
       "    </tr>\n",
       "  </thead>\n",
       "  <tbody>\n",
       "    <tr>\n",
       "      <th>69995</th>\n",
       "      <td>PED67084</td>\n",
       "      <td>2022-12-31</td>\n",
       "      <td>Loja 6</td>\n",
       "      <td>Florianópolis</td>\n",
       "      <td>Santa Catarina</td>\n",
       "      <td>Sul</td>\n",
       "      <td>500ml</td>\n",
       "      <td>Consumo no local</td>\n",
       "      <td>11</td>\n",
       "      <td>Crédito</td>\n",
       "      <td>2022-12</td>\n",
       "    </tr>\n",
       "    <tr>\n",
       "      <th>69996</th>\n",
       "      <td>PED67857</td>\n",
       "      <td>2022-12-31</td>\n",
       "      <td>Loja 3</td>\n",
       "      <td>Rio de Janeiro</td>\n",
       "      <td>Rio de Janeiro</td>\n",
       "      <td>Sudeste</td>\n",
       "      <td>200ml</td>\n",
       "      <td>Consumo no local</td>\n",
       "      <td>7</td>\n",
       "      <td>Pix</td>\n",
       "      <td>2022-12</td>\n",
       "    </tr>\n",
       "    <tr>\n",
       "      <th>69997</th>\n",
       "      <td>PED69171</td>\n",
       "      <td>2022-12-31</td>\n",
       "      <td>Loja 4</td>\n",
       "      <td>Santos</td>\n",
       "      <td>São Paulo</td>\n",
       "      <td>Sudeste</td>\n",
       "      <td>500ml</td>\n",
       "      <td>Consumo no local</td>\n",
       "      <td>5</td>\n",
       "      <td>Dinheiro</td>\n",
       "      <td>2022-12</td>\n",
       "    </tr>\n",
       "    <tr>\n",
       "      <th>69998</th>\n",
       "      <td>PED69229</td>\n",
       "      <td>2022-12-31</td>\n",
       "      <td>Loja 4</td>\n",
       "      <td>Santos</td>\n",
       "      <td>São Paulo</td>\n",
       "      <td>Sudeste</td>\n",
       "      <td>300ml</td>\n",
       "      <td>Consumo no local</td>\n",
       "      <td>9</td>\n",
       "      <td>Pix</td>\n",
       "      <td>2022-12</td>\n",
       "    </tr>\n",
       "    <tr>\n",
       "      <th>69999</th>\n",
       "      <td>PED69356</td>\n",
       "      <td>2022-12-31</td>\n",
       "      <td>Loja 1</td>\n",
       "      <td>Fortaleza</td>\n",
       "      <td>Ceará</td>\n",
       "      <td>Nordeste</td>\n",
       "      <td>300ml</td>\n",
       "      <td>Delivery</td>\n",
       "      <td>9</td>\n",
       "      <td>Pix</td>\n",
       "      <td>2022-12</td>\n",
       "    </tr>\n",
       "  </tbody>\n",
       "</table>\n",
       "</div>"
      ],
      "text/plain": [
       "      id_pedido       data    loja          cidade          estado    regiao  \\\n",
       "69995  PED67084 2022-12-31  Loja 6   Florianópolis  Santa Catarina       Sul   \n",
       "69996  PED67857 2022-12-31  Loja 3  Rio de Janeiro  Rio de Janeiro   Sudeste   \n",
       "69997  PED69171 2022-12-31  Loja 4          Santos       São Paulo   Sudeste   \n",
       "69998  PED69229 2022-12-31  Loja 4          Santos       São Paulo   Sudeste   \n",
       "69999  PED69356 2022-12-31  Loja 1       Fortaleza           Ceará  Nordeste   \n",
       "\n",
       "      tamanho     local_consumo  preco forma_pagamento  ano_mes  \n",
       "69995   500ml  Consumo no local     11         Crédito  2022-12  \n",
       "69996   200ml  Consumo no local      7             Pix  2022-12  \n",
       "69997   500ml  Consumo no local      5        Dinheiro  2022-12  \n",
       "69998   300ml  Consumo no local      9             Pix  2022-12  \n",
       "69999   300ml          Delivery      9             Pix  2022-12  "
      ]
     },
     "execution_count": 85,
     "metadata": {},
     "output_type": "execute_result"
    }
   ],
   "source": [
    "dados.tail()"
   ]
  },
  {
   "cell_type": "code",
   "execution_count": 86,
   "id": "44b843a4",
   "metadata": {},
   "outputs": [
    {
     "data": {
      "text/html": [
       "<div>\n",
       "<style scoped>\n",
       "    .dataframe tbody tr th:only-of-type {\n",
       "        vertical-align: middle;\n",
       "    }\n",
       "\n",
       "    .dataframe tbody tr th {\n",
       "        vertical-align: top;\n",
       "    }\n",
       "\n",
       "    .dataframe thead th {\n",
       "        text-align: right;\n",
       "    }\n",
       "</style>\n",
       "<table border=\"1\" class=\"dataframe\">\n",
       "  <thead>\n",
       "    <tr style=\"text-align: right;\">\n",
       "      <th></th>\n",
       "      <th>id_pedido</th>\n",
       "      <th>data</th>\n",
       "      <th>loja</th>\n",
       "      <th>cidade</th>\n",
       "      <th>estado</th>\n",
       "      <th>regiao</th>\n",
       "      <th>tamanho</th>\n",
       "      <th>local_consumo</th>\n",
       "      <th>preco</th>\n",
       "      <th>forma_pagamento</th>\n",
       "      <th>ano_mes</th>\n",
       "    </tr>\n",
       "  </thead>\n",
       "  <tbody>\n",
       "    <tr>\n",
       "      <th>0</th>\n",
       "      <td>PED1994</td>\n",
       "      <td>2020-01-01</td>\n",
       "      <td>Loja 4</td>\n",
       "      <td>Santos</td>\n",
       "      <td>São Paulo</td>\n",
       "      <td>Sudeste</td>\n",
       "      <td>300ml</td>\n",
       "      <td>Consumo no local</td>\n",
       "      <td>5</td>\n",
       "      <td>Dinheiro</td>\n",
       "      <td>2020-01</td>\n",
       "    </tr>\n",
       "    <tr>\n",
       "      <th>1</th>\n",
       "      <td>PED2246</td>\n",
       "      <td>2020-01-01</td>\n",
       "      <td>Loja 6</td>\n",
       "      <td>Florianópolis</td>\n",
       "      <td>Santa Catarina</td>\n",
       "      <td>Sul</td>\n",
       "      <td>500ml</td>\n",
       "      <td>Consumo no local</td>\n",
       "      <td>11</td>\n",
       "      <td>Débito</td>\n",
       "      <td>2020-01</td>\n",
       "    </tr>\n",
       "    <tr>\n",
       "      <th>2</th>\n",
       "      <td>PED3876</td>\n",
       "      <td>2020-01-01</td>\n",
       "      <td>Loja 3</td>\n",
       "      <td>Rio de Janeiro</td>\n",
       "      <td>Rio de Janeiro</td>\n",
       "      <td>Sudeste</td>\n",
       "      <td>300ml</td>\n",
       "      <td>Delivery</td>\n",
       "      <td>7</td>\n",
       "      <td>Crédito</td>\n",
       "      <td>2020-01</td>\n",
       "    </tr>\n",
       "    <tr>\n",
       "      <th>3</th>\n",
       "      <td>PED4352</td>\n",
       "      <td>2020-01-01</td>\n",
       "      <td>Loja 1</td>\n",
       "      <td>Fortaleza</td>\n",
       "      <td>Ceará</td>\n",
       "      <td>Nordeste</td>\n",
       "      <td>1000ml</td>\n",
       "      <td>Consumo no local</td>\n",
       "      <td>7</td>\n",
       "      <td>Débito</td>\n",
       "      <td>2020-01</td>\n",
       "    </tr>\n",
       "    <tr>\n",
       "      <th>4</th>\n",
       "      <td>PED8633</td>\n",
       "      <td>2020-01-01</td>\n",
       "      <td>Loja 5</td>\n",
       "      <td>São Paulo</td>\n",
       "      <td>São Paulo</td>\n",
       "      <td>Sudeste</td>\n",
       "      <td>200ml</td>\n",
       "      <td>Delivery</td>\n",
       "      <td>9</td>\n",
       "      <td>Crédito</td>\n",
       "      <td>2020-01</td>\n",
       "    </tr>\n",
       "  </tbody>\n",
       "</table>\n",
       "</div>"
      ],
      "text/plain": [
       "  id_pedido       data    loja          cidade          estado    regiao  \\\n",
       "0   PED1994 2020-01-01  Loja 4          Santos       São Paulo   Sudeste   \n",
       "1   PED2246 2020-01-01  Loja 6   Florianópolis  Santa Catarina       Sul   \n",
       "2   PED3876 2020-01-01  Loja 3  Rio de Janeiro  Rio de Janeiro   Sudeste   \n",
       "3   PED4352 2020-01-01  Loja 1       Fortaleza           Ceará  Nordeste   \n",
       "4   PED8633 2020-01-01  Loja 5       São Paulo       São Paulo   Sudeste   \n",
       "\n",
       "  tamanho     local_consumo  preco forma_pagamento  ano_mes  \n",
       "0   300ml  Consumo no local      5        Dinheiro  2020-01  \n",
       "1   500ml  Consumo no local     11          Débito  2020-01  \n",
       "2   300ml          Delivery      7         Crédito  2020-01  \n",
       "3  1000ml  Consumo no local      7          Débito  2020-01  \n",
       "4   200ml          Delivery      9         Crédito  2020-01  "
      ]
     },
     "execution_count": 86,
     "metadata": {},
     "output_type": "execute_result"
    }
   ],
   "source": [
    "dados.head()"
   ]
  },
  {
   "cell_type": "code",
   "execution_count": 87,
   "id": "3a8ae049",
   "metadata": {},
   "outputs": [
    {
     "data": {
      "text/plain": [
       "(70000, 11)"
      ]
     },
     "execution_count": 87,
     "metadata": {},
     "output_type": "execute_result"
    }
   ],
   "source": [
    "dados.shape"
   ]
  },
  {
   "cell_type": "markdown",
   "id": "cd96042b",
   "metadata": {},
   "source": [
    "# Estatísticas/ Statistics \n"
   ]
  },
  {
   "cell_type": "code",
   "execution_count": 88,
   "id": "51599b26",
   "metadata": {},
   "outputs": [
    {
     "data": {
      "text/html": [
       "<div>\n",
       "<style scoped>\n",
       "    .dataframe tbody tr th:only-of-type {\n",
       "        vertical-align: middle;\n",
       "    }\n",
       "\n",
       "    .dataframe tbody tr th {\n",
       "        vertical-align: top;\n",
       "    }\n",
       "\n",
       "    .dataframe thead th {\n",
       "        text-align: right;\n",
       "    }\n",
       "</style>\n",
       "<table border=\"1\" class=\"dataframe\">\n",
       "  <thead>\n",
       "    <tr style=\"text-align: right;\">\n",
       "      <th></th>\n",
       "      <th>preco</th>\n",
       "    </tr>\n",
       "  </thead>\n",
       "  <tbody>\n",
       "    <tr>\n",
       "      <th>count</th>\n",
       "      <td>70000.000000</td>\n",
       "    </tr>\n",
       "    <tr>\n",
       "      <th>mean</th>\n",
       "      <td>8.355200</td>\n",
       "    </tr>\n",
       "    <tr>\n",
       "      <th>std</th>\n",
       "      <td>2.653061</td>\n",
       "    </tr>\n",
       "    <tr>\n",
       "      <th>min</th>\n",
       "      <td>5.000000</td>\n",
       "    </tr>\n",
       "    <tr>\n",
       "      <th>25%</th>\n",
       "      <td>7.000000</td>\n",
       "    </tr>\n",
       "    <tr>\n",
       "      <th>50%</th>\n",
       "      <td>7.000000</td>\n",
       "    </tr>\n",
       "    <tr>\n",
       "      <th>75%</th>\n",
       "      <td>11.000000</td>\n",
       "    </tr>\n",
       "    <tr>\n",
       "      <th>max</th>\n",
       "      <td>13.000000</td>\n",
       "    </tr>\n",
       "  </tbody>\n",
       "</table>\n",
       "</div>"
      ],
      "text/plain": [
       "              preco\n",
       "count  70000.000000\n",
       "mean       8.355200\n",
       "std        2.653061\n",
       "min        5.000000\n",
       "25%        7.000000\n",
       "50%        7.000000\n",
       "75%       11.000000\n",
       "max       13.000000"
      ]
     },
     "execution_count": 88,
     "metadata": {},
     "output_type": "execute_result"
    }
   ],
   "source": [
    "dados.describe()"
   ]
  },
  {
   "cell_type": "markdown",
   "id": "7755c8b2",
   "metadata": {},
   "source": [
    "## Análises/ Analyses"
   ]
  },
  {
   "cell_type": "code",
   "execution_count": 89,
   "id": "6a74f195",
   "metadata": {},
   "outputs": [
    {
     "data": {
      "text/plain": [
       "Loja 4    13483\n",
       "Loja 6    13075\n",
       "Loja 1    12344\n",
       "Loja 5    12177\n",
       "Loja 3    10603\n",
       "Loja 2     8318\n",
       "Name: loja, dtype: int64"
      ]
     },
     "execution_count": 89,
     "metadata": {},
     "output_type": "execute_result"
    }
   ],
   "source": [
    "# total de pedidos por loja \n",
    "# total of orders per store\n",
    "dados.loja.value_counts()"
   ]
  },
  {
   "cell_type": "code",
   "execution_count": 90,
   "id": "adda0e2b",
   "metadata": {},
   "outputs": [
    {
     "data": {
      "text/plain": [
       "Crédito     26063\n",
       "Débito      20427\n",
       "Dinheiro    14709\n",
       "Pix          8801\n",
       "Name: forma_pagamento, dtype: int64"
      ]
     },
     "execution_count": 90,
     "metadata": {},
     "output_type": "execute_result"
    }
   ],
   "source": [
    "# total de pedido por forma de pagamento\n",
    "# total of orders per payment form\n",
    "\n",
    "dados.forma_pagamento.value_counts()"
   ]
  },
  {
   "cell_type": "code",
   "execution_count": 91,
   "id": "aaa3f4bf",
   "metadata": {},
   "outputs": [
    {
     "data": {
      "text/plain": [
       "300ml     20475\n",
       "200ml     15804\n",
       "500ml     13591\n",
       "700ml     11158\n",
       "1000ml     8972\n",
       "Name: tamanho, dtype: int64"
      ]
     },
     "execution_count": 91,
     "metadata": {},
     "output_type": "execute_result"
    }
   ],
   "source": [
    "# total de pedidos por tamanho de copo\n",
    "# total of orders per bowl size\n",
    "\n",
    "dados.tamanho.value_counts()"
   ]
  },
  {
   "cell_type": "markdown",
   "id": "39f0aaca",
   "metadata": {},
   "source": [
    "## Faturamento/ Revenue"
   ]
  },
  {
   "cell_type": "code",
   "execution_count": 92,
   "id": "c94d253a",
   "metadata": {},
   "outputs": [
    {
     "data": {
      "text/html": [
       "<div>\n",
       "<style scoped>\n",
       "    .dataframe tbody tr th:only-of-type {\n",
       "        vertical-align: middle;\n",
       "    }\n",
       "\n",
       "    .dataframe tbody tr th {\n",
       "        vertical-align: top;\n",
       "    }\n",
       "\n",
       "    .dataframe thead th {\n",
       "        text-align: right;\n",
       "    }\n",
       "</style>\n",
       "<table border=\"1\" class=\"dataframe\">\n",
       "  <thead>\n",
       "    <tr style=\"text-align: right;\">\n",
       "      <th></th>\n",
       "      <th>preco</th>\n",
       "    </tr>\n",
       "    <tr>\n",
       "      <th>loja</th>\n",
       "      <th></th>\n",
       "    </tr>\n",
       "  </thead>\n",
       "  <tbody>\n",
       "    <tr>\n",
       "      <th>Loja 1</th>\n",
       "      <td>103162</td>\n",
       "    </tr>\n",
       "    <tr>\n",
       "      <th>Loja 2</th>\n",
       "      <td>69592</td>\n",
       "    </tr>\n",
       "    <tr>\n",
       "      <th>Loja 3</th>\n",
       "      <td>88357</td>\n",
       "    </tr>\n",
       "    <tr>\n",
       "      <th>Loja 4</th>\n",
       "      <td>112379</td>\n",
       "    </tr>\n",
       "    <tr>\n",
       "      <th>Loja 5</th>\n",
       "      <td>102189</td>\n",
       "    </tr>\n",
       "    <tr>\n",
       "      <th>Loja 6</th>\n",
       "      <td>109185</td>\n",
       "    </tr>\n",
       "  </tbody>\n",
       "</table>\n",
       "</div>"
      ],
      "text/plain": [
       "         preco\n",
       "loja          \n",
       "Loja 1  103162\n",
       "Loja 2   69592\n",
       "Loja 3   88357\n",
       "Loja 4  112379\n",
       "Loja 5  102189\n",
       "Loja 6  109185"
      ]
     },
     "execution_count": 92,
     "metadata": {},
     "output_type": "execute_result"
    }
   ],
   "source": [
    "# faturamento por loja\n",
    "# revenue per store\n",
    "\n",
    "dados.groupby(\"loja\").sum()"
   ]
  },
  {
   "cell_type": "code",
   "execution_count": 93,
   "id": "4993478f",
   "metadata": {},
   "outputs": [
    {
     "data": {
      "text/html": [
       "<div>\n",
       "<style scoped>\n",
       "    .dataframe tbody tr th:only-of-type {\n",
       "        vertical-align: middle;\n",
       "    }\n",
       "\n",
       "    .dataframe tbody tr th {\n",
       "        vertical-align: top;\n",
       "    }\n",
       "\n",
       "    .dataframe thead th {\n",
       "        text-align: right;\n",
       "    }\n",
       "</style>\n",
       "<table border=\"1\" class=\"dataframe\">\n",
       "  <thead>\n",
       "    <tr style=\"text-align: right;\">\n",
       "      <th></th>\n",
       "      <th>preco</th>\n",
       "    </tr>\n",
       "    <tr>\n",
       "      <th>loja</th>\n",
       "      <th></th>\n",
       "    </tr>\n",
       "  </thead>\n",
       "  <tbody>\n",
       "    <tr>\n",
       "      <th>Loja 1</th>\n",
       "      <td>8.357259</td>\n",
       "    </tr>\n",
       "    <tr>\n",
       "      <th>Loja 2</th>\n",
       "      <td>8.366434</td>\n",
       "    </tr>\n",
       "    <tr>\n",
       "      <th>Loja 3</th>\n",
       "      <td>8.333208</td>\n",
       "    </tr>\n",
       "    <tr>\n",
       "      <th>Loja 4</th>\n",
       "      <td>8.334866</td>\n",
       "    </tr>\n",
       "    <tr>\n",
       "      <th>Loja 5</th>\n",
       "      <td>8.391968</td>\n",
       "    </tr>\n",
       "    <tr>\n",
       "      <th>Loja 6</th>\n",
       "      <td>8.350669</td>\n",
       "    </tr>\n",
       "  </tbody>\n",
       "</table>\n",
       "</div>"
      ],
      "text/plain": [
       "           preco\n",
       "loja            \n",
       "Loja 1  8.357259\n",
       "Loja 2  8.366434\n",
       "Loja 3  8.333208\n",
       "Loja 4  8.334866\n",
       "Loja 5  8.391968\n",
       "Loja 6  8.350669"
      ]
     },
     "execution_count": 93,
     "metadata": {},
     "output_type": "execute_result"
    }
   ],
   "source": [
    "# preço médio por loja\n",
    "# average price per store\n",
    "\n",
    "dados.groupby(\"loja\").mean()"
   ]
  },
  {
   "cell_type": "code",
   "execution_count": 94,
   "id": "625ff1c0",
   "metadata": {},
   "outputs": [],
   "source": [
    "# faturamento por estado e loja\n",
    "# revenue per state and store\n",
    "\n",
    "dados_loja_estado = dados.groupby([\"estado\",\"loja\"]).sum()\n",
    "\n",
    "# salvando dados no excel\n",
    "# saving data in Excel\n",
    "dados_loja_estado.to_excel(\"Faturamento por estado.xlsx\")"
   ]
  },
  {
   "cell_type": "markdown",
   "id": "ba4fe9d6",
   "metadata": {},
   "source": [
    "## Vizualização de dados - Plotly Express / Data visualization - Plotly Express\n"
   ]
  },
  {
   "cell_type": "code",
   "execution_count": 95,
   "id": "b6c7b1c3",
   "metadata": {},
   "outputs": [
    {
     "name": "stdout",
     "output_type": "stream",
     "text": [
      "Requirement already satisfied: plotly_express in c:\\python\\lib\\site-packages (0.4.1)\n",
      "Requirement already satisfied: patsy>=0.5 in c:\\python\\lib\\site-packages (from plotly_express) (0.5.2)\n",
      "Requirement already satisfied: numpy>=1.11 in c:\\python\\lib\\site-packages (from plotly_express) (1.21.5)\n",
      "Requirement already satisfied: pandas>=0.20.0 in c:\\python\\lib\\site-packages (from plotly_express) (1.4.4)\n",
      "Requirement already satisfied: statsmodels>=0.9.0 in c:\\python\\lib\\site-packages (from plotly_express) (0.13.2)\n",
      "Requirement already satisfied: plotly>=4.1.0 in c:\\python\\lib\\site-packages (from plotly_express) (5.9.0)\n",
      "Requirement already satisfied: scipy>=0.18 in c:\\python\\lib\\site-packages (from plotly_express) (1.9.1)\n",
      "Requirement already satisfied: python-dateutil>=2.8.1 in c:\\python\\lib\\site-packages (from pandas>=0.20.0->plotly_express) (2.8.2)\n",
      "Requirement already satisfied: pytz>=2020.1 in c:\\python\\lib\\site-packages (from pandas>=0.20.0->plotly_express) (2022.1)\n",
      "Requirement already satisfied: six in c:\\python\\lib\\site-packages (from patsy>=0.5->plotly_express) (1.16.0)\n",
      "Requirement already satisfied: tenacity>=6.2.0 in c:\\python\\lib\\site-packages (from plotly>=4.1.0->plotly_express) (8.0.1)\n",
      "Requirement already satisfied: packaging>=21.3 in c:\\python\\lib\\site-packages (from statsmodels>=0.9.0->plotly_express) (21.3)\n",
      "Requirement already satisfied: pyparsing!=3.0.5,>=2.0.2 in c:\\python\\lib\\site-packages (from packaging>=21.3->statsmodels>=0.9.0->plotly_express) (3.0.9)\n"
     ]
    }
   ],
   "source": [
    "!pip install plotly_express"
   ]
  },
  {
   "cell_type": "code",
   "execution_count": 96,
   "id": "f4114290",
   "metadata": {},
   "outputs": [],
   "source": [
    "import plotly_express as px"
   ]
  },
  {
   "cell_type": "markdown",
   "id": "fe44e3c0",
   "metadata": {},
   "source": [
    "## Gráfico Animado/ Animated graph"
   ]
  },
  {
   "cell_type": "code",
   "execution_count": 97,
   "id": "2232b485",
   "metadata": {},
   "outputs": [],
   "source": [
    "dados_agrupados = dados.groupby(['loja','ano_mes']).sum()\n",
    "dados_agrupados.reset_index(inplace= True)\n",
    "dados_agrupados['acumulado'] = dados_agrupados.groupby('loja').cumsum()"
   ]
  },
  {
   "cell_type": "code",
   "execution_count": 98,
   "id": "dcf2f22f",
   "metadata": {},
   "outputs": [
    {
     "data": {
      "application/vnd.plotly.v1+json": {
       "config": {
        "plotlyServerURL": "https://plot.ly"
       },
       "data": [
        {
         "alignmentgroup": "True",
         "hovertemplate": "loja=%{y}<br>ano_mes=2020-01<br>acumulado=%{x}<extra></extra>",
         "legendgroup": "Loja 1",
         "marker": {
          "color": "#636efa",
          "pattern": {
           "shape": ""
          }
         },
         "name": "Loja 1",
         "offsetgroup": "Loja 1",
         "orientation": "h",
         "showlegend": true,
         "textposition": "auto",
         "texttemplate": "%{x}",
         "type": "bar",
         "x": [
          2155
         ],
         "xaxis": "x",
         "y": [
          "Loja 1"
         ],
         "yaxis": "y"
        },
        {
         "alignmentgroup": "True",
         "hovertemplate": "loja=%{y}<br>ano_mes=2020-01<br>acumulado=%{x}<extra></extra>",
         "legendgroup": "Loja 2",
         "marker": {
          "color": "#EF553B",
          "pattern": {
           "shape": ""
          }
         },
         "name": "Loja 2",
         "offsetgroup": "Loja 2",
         "orientation": "h",
         "showlegend": true,
         "textposition": "auto",
         "texttemplate": "%{x}",
         "type": "bar",
         "x": [
          1202
         ],
         "xaxis": "x",
         "y": [
          "Loja 2"
         ],
         "yaxis": "y"
        },
        {
         "alignmentgroup": "True",
         "hovertemplate": "loja=%{y}<br>ano_mes=2020-01<br>acumulado=%{x}<extra></extra>",
         "legendgroup": "Loja 3",
         "marker": {
          "color": "#00cc96",
          "pattern": {
           "shape": ""
          }
         },
         "name": "Loja 3",
         "offsetgroup": "Loja 3",
         "orientation": "h",
         "showlegend": true,
         "textposition": "auto",
         "texttemplate": "%{x}",
         "type": "bar",
         "x": [
          2084
         ],
         "xaxis": "x",
         "y": [
          "Loja 3"
         ],
         "yaxis": "y"
        },
        {
         "alignmentgroup": "True",
         "hovertemplate": "loja=%{y}<br>ano_mes=2020-01<br>acumulado=%{x}<extra></extra>",
         "legendgroup": "Loja 4",
         "marker": {
          "color": "#ab63fa",
          "pattern": {
           "shape": ""
          }
         },
         "name": "Loja 4",
         "offsetgroup": "Loja 4",
         "orientation": "h",
         "showlegend": true,
         "textposition": "auto",
         "texttemplate": "%{x}",
         "type": "bar",
         "x": [
          2584
         ],
         "xaxis": "x",
         "y": [
          "Loja 4"
         ],
         "yaxis": "y"
        },
        {
         "alignmentgroup": "True",
         "hovertemplate": "loja=%{y}<br>ano_mes=2020-01<br>acumulado=%{x}<extra></extra>",
         "legendgroup": "Loja 5",
         "marker": {
          "color": "#FFA15A",
          "pattern": {
           "shape": ""
          }
         },
         "name": "Loja 5",
         "offsetgroup": "Loja 5",
         "orientation": "h",
         "showlegend": true,
         "textposition": "auto",
         "texttemplate": "%{x}",
         "type": "bar",
         "x": [
          2226
         ],
         "xaxis": "x",
         "y": [
          "Loja 5"
         ],
         "yaxis": "y"
        },
        {
         "alignmentgroup": "True",
         "hovertemplate": "loja=%{y}<br>ano_mes=2020-01<br>acumulado=%{x}<extra></extra>",
         "legendgroup": "Loja 6",
         "marker": {
          "color": "#19d3f3",
          "pattern": {
           "shape": ""
          }
         },
         "name": "Loja 6",
         "offsetgroup": "Loja 6",
         "orientation": "h",
         "showlegend": true,
         "textposition": "auto",
         "texttemplate": "%{x}",
         "type": "bar",
         "x": [
          1608
         ],
         "xaxis": "x",
         "y": [
          "Loja 6"
         ],
         "yaxis": "y"
        }
       ],
       "frames": [
        {
         "data": [
          {
           "alignmentgroup": "True",
           "hovertemplate": "loja=%{y}<br>ano_mes=2020-01<br>acumulado=%{x}<extra></extra>",
           "legendgroup": "Loja 1",
           "marker": {
            "color": "#636efa",
            "pattern": {
             "shape": ""
            }
           },
           "name": "Loja 1",
           "offsetgroup": "Loja 1",
           "orientation": "h",
           "showlegend": true,
           "textposition": "auto",
           "texttemplate": "%{x}",
           "type": "bar",
           "x": [
            2155
           ],
           "xaxis": "x",
           "y": [
            "Loja 1"
           ],
           "yaxis": "y"
          },
          {
           "alignmentgroup": "True",
           "hovertemplate": "loja=%{y}<br>ano_mes=2020-01<br>acumulado=%{x}<extra></extra>",
           "legendgroup": "Loja 2",
           "marker": {
            "color": "#EF553B",
            "pattern": {
             "shape": ""
            }
           },
           "name": "Loja 2",
           "offsetgroup": "Loja 2",
           "orientation": "h",
           "showlegend": true,
           "textposition": "auto",
           "texttemplate": "%{x}",
           "type": "bar",
           "x": [
            1202
           ],
           "xaxis": "x",
           "y": [
            "Loja 2"
           ],
           "yaxis": "y"
          },
          {
           "alignmentgroup": "True",
           "hovertemplate": "loja=%{y}<br>ano_mes=2020-01<br>acumulado=%{x}<extra></extra>",
           "legendgroup": "Loja 3",
           "marker": {
            "color": "#00cc96",
            "pattern": {
             "shape": ""
            }
           },
           "name": "Loja 3",
           "offsetgroup": "Loja 3",
           "orientation": "h",
           "showlegend": true,
           "textposition": "auto",
           "texttemplate": "%{x}",
           "type": "bar",
           "x": [
            2084
           ],
           "xaxis": "x",
           "y": [
            "Loja 3"
           ],
           "yaxis": "y"
          },
          {
           "alignmentgroup": "True",
           "hovertemplate": "loja=%{y}<br>ano_mes=2020-01<br>acumulado=%{x}<extra></extra>",
           "legendgroup": "Loja 4",
           "marker": {
            "color": "#ab63fa",
            "pattern": {
             "shape": ""
            }
           },
           "name": "Loja 4",
           "offsetgroup": "Loja 4",
           "orientation": "h",
           "showlegend": true,
           "textposition": "auto",
           "texttemplate": "%{x}",
           "type": "bar",
           "x": [
            2584
           ],
           "xaxis": "x",
           "y": [
            "Loja 4"
           ],
           "yaxis": "y"
          },
          {
           "alignmentgroup": "True",
           "hovertemplate": "loja=%{y}<br>ano_mes=2020-01<br>acumulado=%{x}<extra></extra>",
           "legendgroup": "Loja 5",
           "marker": {
            "color": "#FFA15A",
            "pattern": {
             "shape": ""
            }
           },
           "name": "Loja 5",
           "offsetgroup": "Loja 5",
           "orientation": "h",
           "showlegend": true,
           "textposition": "auto",
           "texttemplate": "%{x}",
           "type": "bar",
           "x": [
            2226
           ],
           "xaxis": "x",
           "y": [
            "Loja 5"
           ],
           "yaxis": "y"
          },
          {
           "alignmentgroup": "True",
           "hovertemplate": "loja=%{y}<br>ano_mes=2020-01<br>acumulado=%{x}<extra></extra>",
           "legendgroup": "Loja 6",
           "marker": {
            "color": "#19d3f3",
            "pattern": {
             "shape": ""
            }
           },
           "name": "Loja 6",
           "offsetgroup": "Loja 6",
           "orientation": "h",
           "showlegend": true,
           "textposition": "auto",
           "texttemplate": "%{x}",
           "type": "bar",
           "x": [
            1608
           ],
           "xaxis": "x",
           "y": [
            "Loja 6"
           ],
           "yaxis": "y"
          }
         ],
         "name": "2020-01"
        },
        {
         "data": [
          {
           "alignmentgroup": "True",
           "hovertemplate": "loja=%{y}<br>ano_mes=2020-02<br>acumulado=%{x}<extra></extra>",
           "legendgroup": "Loja 1",
           "marker": {
            "color": "#636efa",
            "pattern": {
             "shape": ""
            }
           },
           "name": "Loja 1",
           "offsetgroup": "Loja 1",
           "orientation": "h",
           "showlegend": true,
           "textposition": "auto",
           "texttemplate": "%{x}",
           "type": "bar",
           "x": [
            4100
           ],
           "xaxis": "x",
           "y": [
            "Loja 1"
           ],
           "yaxis": "y"
          },
          {
           "alignmentgroup": "True",
           "hovertemplate": "loja=%{y}<br>ano_mes=2020-02<br>acumulado=%{x}<extra></extra>",
           "legendgroup": "Loja 2",
           "marker": {
            "color": "#EF553B",
            "pattern": {
             "shape": ""
            }
           },
           "name": "Loja 2",
           "offsetgroup": "Loja 2",
           "orientation": "h",
           "showlegend": true,
           "textposition": "auto",
           "texttemplate": "%{x}",
           "type": "bar",
           "x": [
            2408
           ],
           "xaxis": "x",
           "y": [
            "Loja 2"
           ],
           "yaxis": "y"
          },
          {
           "alignmentgroup": "True",
           "hovertemplate": "loja=%{y}<br>ano_mes=2020-02<br>acumulado=%{x}<extra></extra>",
           "legendgroup": "Loja 3",
           "marker": {
            "color": "#00cc96",
            "pattern": {
             "shape": ""
            }
           },
           "name": "Loja 3",
           "offsetgroup": "Loja 3",
           "orientation": "h",
           "showlegend": true,
           "textposition": "auto",
           "texttemplate": "%{x}",
           "type": "bar",
           "x": [
            4100
           ],
           "xaxis": "x",
           "y": [
            "Loja 3"
           ],
           "yaxis": "y"
          },
          {
           "alignmentgroup": "True",
           "hovertemplate": "loja=%{y}<br>ano_mes=2020-02<br>acumulado=%{x}<extra></extra>",
           "legendgroup": "Loja 4",
           "marker": {
            "color": "#ab63fa",
            "pattern": {
             "shape": ""
            }
           },
           "name": "Loja 4",
           "offsetgroup": "Loja 4",
           "orientation": "h",
           "showlegend": true,
           "textposition": "auto",
           "texttemplate": "%{x}",
           "type": "bar",
           "x": [
            5709
           ],
           "xaxis": "x",
           "y": [
            "Loja 4"
           ],
           "yaxis": "y"
          },
          {
           "alignmentgroup": "True",
           "hovertemplate": "loja=%{y}<br>ano_mes=2020-02<br>acumulado=%{x}<extra></extra>",
           "legendgroup": "Loja 5",
           "marker": {
            "color": "#FFA15A",
            "pattern": {
             "shape": ""
            }
           },
           "name": "Loja 5",
           "offsetgroup": "Loja 5",
           "orientation": "h",
           "showlegend": true,
           "textposition": "auto",
           "texttemplate": "%{x}",
           "type": "bar",
           "x": [
            4200
           ],
           "xaxis": "x",
           "y": [
            "Loja 5"
           ],
           "yaxis": "y"
          },
          {
           "alignmentgroup": "True",
           "hovertemplate": "loja=%{y}<br>ano_mes=2020-02<br>acumulado=%{x}<extra></extra>",
           "legendgroup": "Loja 6",
           "marker": {
            "color": "#19d3f3",
            "pattern": {
             "shape": ""
            }
           },
           "name": "Loja 6",
           "offsetgroup": "Loja 6",
           "orientation": "h",
           "showlegend": true,
           "textposition": "auto",
           "texttemplate": "%{x}",
           "type": "bar",
           "x": [
            2571
           ],
           "xaxis": "x",
           "y": [
            "Loja 6"
           ],
           "yaxis": "y"
          }
         ],
         "name": "2020-02"
        },
        {
         "data": [
          {
           "alignmentgroup": "True",
           "hovertemplate": "loja=%{y}<br>ano_mes=2020-03<br>acumulado=%{x}<extra></extra>",
           "legendgroup": "Loja 1",
           "marker": {
            "color": "#636efa",
            "pattern": {
             "shape": ""
            }
           },
           "name": "Loja 1",
           "offsetgroup": "Loja 1",
           "orientation": "h",
           "showlegend": true,
           "textposition": "auto",
           "texttemplate": "%{x}",
           "type": "bar",
           "x": [
            6398
           ],
           "xaxis": "x",
           "y": [
            "Loja 1"
           ],
           "yaxis": "y"
          },
          {
           "alignmentgroup": "True",
           "hovertemplate": "loja=%{y}<br>ano_mes=2020-03<br>acumulado=%{x}<extra></extra>",
           "legendgroup": "Loja 2",
           "marker": {
            "color": "#EF553B",
            "pattern": {
             "shape": ""
            }
           },
           "name": "Loja 2",
           "offsetgroup": "Loja 2",
           "orientation": "h",
           "showlegend": true,
           "textposition": "auto",
           "texttemplate": "%{x}",
           "type": "bar",
           "x": [
            4249
           ],
           "xaxis": "x",
           "y": [
            "Loja 2"
           ],
           "yaxis": "y"
          },
          {
           "alignmentgroup": "True",
           "hovertemplate": "loja=%{y}<br>ano_mes=2020-03<br>acumulado=%{x}<extra></extra>",
           "legendgroup": "Loja 3",
           "marker": {
            "color": "#00cc96",
            "pattern": {
             "shape": ""
            }
           },
           "name": "Loja 3",
           "offsetgroup": "Loja 3",
           "orientation": "h",
           "showlegend": true,
           "textposition": "auto",
           "texttemplate": "%{x}",
           "type": "bar",
           "x": [
            6277
           ],
           "xaxis": "x",
           "y": [
            "Loja 3"
           ],
           "yaxis": "y"
          },
          {
           "alignmentgroup": "True",
           "hovertemplate": "loja=%{y}<br>ano_mes=2020-03<br>acumulado=%{x}<extra></extra>",
           "legendgroup": "Loja 4",
           "marker": {
            "color": "#ab63fa",
            "pattern": {
             "shape": ""
            }
           },
           "name": "Loja 4",
           "offsetgroup": "Loja 4",
           "orientation": "h",
           "showlegend": true,
           "textposition": "auto",
           "texttemplate": "%{x}",
           "type": "bar",
           "x": [
            8805
           ],
           "xaxis": "x",
           "y": [
            "Loja 4"
           ],
           "yaxis": "y"
          },
          {
           "alignmentgroup": "True",
           "hovertemplate": "loja=%{y}<br>ano_mes=2020-03<br>acumulado=%{x}<extra></extra>",
           "legendgroup": "Loja 5",
           "marker": {
            "color": "#FFA15A",
            "pattern": {
             "shape": ""
            }
           },
           "name": "Loja 5",
           "offsetgroup": "Loja 5",
           "orientation": "h",
           "showlegend": true,
           "textposition": "auto",
           "texttemplate": "%{x}",
           "type": "bar",
           "x": [
            6624
           ],
           "xaxis": "x",
           "y": [
            "Loja 5"
           ],
           "yaxis": "y"
          },
          {
           "alignmentgroup": "True",
           "hovertemplate": "loja=%{y}<br>ano_mes=2020-03<br>acumulado=%{x}<extra></extra>",
           "legendgroup": "Loja 6",
           "marker": {
            "color": "#19d3f3",
            "pattern": {
             "shape": ""
            }
           },
           "name": "Loja 6",
           "offsetgroup": "Loja 6",
           "orientation": "h",
           "showlegend": true,
           "textposition": "auto",
           "texttemplate": "%{x}",
           "type": "bar",
           "x": [
            4250
           ],
           "xaxis": "x",
           "y": [
            "Loja 6"
           ],
           "yaxis": "y"
          }
         ],
         "name": "2020-03"
        },
        {
         "data": [
          {
           "alignmentgroup": "True",
           "hovertemplate": "loja=%{y}<br>ano_mes=2020-04<br>acumulado=%{x}<extra></extra>",
           "legendgroup": "Loja 1",
           "marker": {
            "color": "#636efa",
            "pattern": {
             "shape": ""
            }
           },
           "name": "Loja 1",
           "offsetgroup": "Loja 1",
           "orientation": "h",
           "showlegend": true,
           "textposition": "auto",
           "texttemplate": "%{x}",
           "type": "bar",
           "x": [
            8259
           ],
           "xaxis": "x",
           "y": [
            "Loja 1"
           ],
           "yaxis": "y"
          },
          {
           "alignmentgroup": "True",
           "hovertemplate": "loja=%{y}<br>ano_mes=2020-04<br>acumulado=%{x}<extra></extra>",
           "legendgroup": "Loja 2",
           "marker": {
            "color": "#EF553B",
            "pattern": {
             "shape": ""
            }
           },
           "name": "Loja 2",
           "offsetgroup": "Loja 2",
           "orientation": "h",
           "showlegend": true,
           "textposition": "auto",
           "texttemplate": "%{x}",
           "type": "bar",
           "x": [
            5359
           ],
           "xaxis": "x",
           "y": [
            "Loja 2"
           ],
           "yaxis": "y"
          },
          {
           "alignmentgroup": "True",
           "hovertemplate": "loja=%{y}<br>ano_mes=2020-04<br>acumulado=%{x}<extra></extra>",
           "legendgroup": "Loja 3",
           "marker": {
            "color": "#00cc96",
            "pattern": {
             "shape": ""
            }
           },
           "name": "Loja 3",
           "offsetgroup": "Loja 3",
           "orientation": "h",
           "showlegend": true,
           "textposition": "auto",
           "texttemplate": "%{x}",
           "type": "bar",
           "x": [
            8337
           ],
           "xaxis": "x",
           "y": [
            "Loja 3"
           ],
           "yaxis": "y"
          },
          {
           "alignmentgroup": "True",
           "hovertemplate": "loja=%{y}<br>ano_mes=2020-04<br>acumulado=%{x}<extra></extra>",
           "legendgroup": "Loja 4",
           "marker": {
            "color": "#ab63fa",
            "pattern": {
             "shape": ""
            }
           },
           "name": "Loja 4",
           "offsetgroup": "Loja 4",
           "orientation": "h",
           "showlegend": true,
           "textposition": "auto",
           "texttemplate": "%{x}",
           "type": "bar",
           "x": [
            11867
           ],
           "xaxis": "x",
           "y": [
            "Loja 4"
           ],
           "yaxis": "y"
          },
          {
           "alignmentgroup": "True",
           "hovertemplate": "loja=%{y}<br>ano_mes=2020-04<br>acumulado=%{x}<extra></extra>",
           "legendgroup": "Loja 5",
           "marker": {
            "color": "#FFA15A",
            "pattern": {
             "shape": ""
            }
           },
           "name": "Loja 5",
           "offsetgroup": "Loja 5",
           "orientation": "h",
           "showlegend": true,
           "textposition": "auto",
           "texttemplate": "%{x}",
           "type": "bar",
           "x": [
            8675
           ],
           "xaxis": "x",
           "y": [
            "Loja 5"
           ],
           "yaxis": "y"
          },
          {
           "alignmentgroup": "True",
           "hovertemplate": "loja=%{y}<br>ano_mes=2020-04<br>acumulado=%{x}<extra></extra>",
           "legendgroup": "Loja 6",
           "marker": {
            "color": "#19d3f3",
            "pattern": {
             "shape": ""
            }
           },
           "name": "Loja 6",
           "offsetgroup": "Loja 6",
           "orientation": "h",
           "showlegend": true,
           "textposition": "auto",
           "texttemplate": "%{x}",
           "type": "bar",
           "x": [
            5436
           ],
           "xaxis": "x",
           "y": [
            "Loja 6"
           ],
           "yaxis": "y"
          }
         ],
         "name": "2020-04"
        },
        {
         "data": [
          {
           "alignmentgroup": "True",
           "hovertemplate": "loja=%{y}<br>ano_mes=2020-05<br>acumulado=%{x}<extra></extra>",
           "legendgroup": "Loja 1",
           "marker": {
            "color": "#636efa",
            "pattern": {
             "shape": ""
            }
           },
           "name": "Loja 1",
           "offsetgroup": "Loja 1",
           "orientation": "h",
           "showlegend": true,
           "textposition": "auto",
           "texttemplate": "%{x}",
           "type": "bar",
           "x": [
            10380
           ],
           "xaxis": "x",
           "y": [
            "Loja 1"
           ],
           "yaxis": "y"
          },
          {
           "alignmentgroup": "True",
           "hovertemplate": "loja=%{y}<br>ano_mes=2020-05<br>acumulado=%{x}<extra></extra>",
           "legendgroup": "Loja 2",
           "marker": {
            "color": "#EF553B",
            "pattern": {
             "shape": ""
            }
           },
           "name": "Loja 2",
           "offsetgroup": "Loja 2",
           "orientation": "h",
           "showlegend": true,
           "textposition": "auto",
           "texttemplate": "%{x}",
           "type": "bar",
           "x": [
            6849
           ],
           "xaxis": "x",
           "y": [
            "Loja 2"
           ],
           "yaxis": "y"
          },
          {
           "alignmentgroup": "True",
           "hovertemplate": "loja=%{y}<br>ano_mes=2020-05<br>acumulado=%{x}<extra></extra>",
           "legendgroup": "Loja 3",
           "marker": {
            "color": "#00cc96",
            "pattern": {
             "shape": ""
            }
           },
           "name": "Loja 3",
           "offsetgroup": "Loja 3",
           "orientation": "h",
           "showlegend": true,
           "textposition": "auto",
           "texttemplate": "%{x}",
           "type": "bar",
           "x": [
            10577
           ],
           "xaxis": "x",
           "y": [
            "Loja 3"
           ],
           "yaxis": "y"
          },
          {
           "alignmentgroup": "True",
           "hovertemplate": "loja=%{y}<br>ano_mes=2020-05<br>acumulado=%{x}<extra></extra>",
           "legendgroup": "Loja 4",
           "marker": {
            "color": "#ab63fa",
            "pattern": {
             "shape": ""
            }
           },
           "name": "Loja 4",
           "offsetgroup": "Loja 4",
           "orientation": "h",
           "showlegend": true,
           "textposition": "auto",
           "texttemplate": "%{x}",
           "type": "bar",
           "x": [
            14966
           ],
           "xaxis": "x",
           "y": [
            "Loja 4"
           ],
           "yaxis": "y"
          },
          {
           "alignmentgroup": "True",
           "hovertemplate": "loja=%{y}<br>ano_mes=2020-05<br>acumulado=%{x}<extra></extra>",
           "legendgroup": "Loja 5",
           "marker": {
            "color": "#FFA15A",
            "pattern": {
             "shape": ""
            }
           },
           "name": "Loja 5",
           "offsetgroup": "Loja 5",
           "orientation": "h",
           "showlegend": true,
           "textposition": "auto",
           "texttemplate": "%{x}",
           "type": "bar",
           "x": [
            10819
           ],
           "xaxis": "x",
           "y": [
            "Loja 5"
           ],
           "yaxis": "y"
          },
          {
           "alignmentgroup": "True",
           "hovertemplate": "loja=%{y}<br>ano_mes=2020-05<br>acumulado=%{x}<extra></extra>",
           "legendgroup": "Loja 6",
           "marker": {
            "color": "#19d3f3",
            "pattern": {
             "shape": ""
            }
           },
           "name": "Loja 6",
           "offsetgroup": "Loja 6",
           "orientation": "h",
           "showlegend": true,
           "textposition": "auto",
           "texttemplate": "%{x}",
           "type": "bar",
           "x": [
            6596
           ],
           "xaxis": "x",
           "y": [
            "Loja 6"
           ],
           "yaxis": "y"
          }
         ],
         "name": "2020-05"
        },
        {
         "data": [
          {
           "alignmentgroup": "True",
           "hovertemplate": "loja=%{y}<br>ano_mes=2020-06<br>acumulado=%{x}<extra></extra>",
           "legendgroup": "Loja 1",
           "marker": {
            "color": "#636efa",
            "pattern": {
             "shape": ""
            }
           },
           "name": "Loja 1",
           "offsetgroup": "Loja 1",
           "orientation": "h",
           "showlegend": true,
           "textposition": "auto",
           "texttemplate": "%{x}",
           "type": "bar",
           "x": [
            12720
           ],
           "xaxis": "x",
           "y": [
            "Loja 1"
           ],
           "yaxis": "y"
          },
          {
           "alignmentgroup": "True",
           "hovertemplate": "loja=%{y}<br>ano_mes=2020-06<br>acumulado=%{x}<extra></extra>",
           "legendgroup": "Loja 2",
           "marker": {
            "color": "#EF553B",
            "pattern": {
             "shape": ""
            }
           },
           "name": "Loja 2",
           "offsetgroup": "Loja 2",
           "orientation": "h",
           "showlegend": true,
           "textposition": "auto",
           "texttemplate": "%{x}",
           "type": "bar",
           "x": [
            8390
           ],
           "xaxis": "x",
           "y": [
            "Loja 2"
           ],
           "yaxis": "y"
          },
          {
           "alignmentgroup": "True",
           "hovertemplate": "loja=%{y}<br>ano_mes=2020-06<br>acumulado=%{x}<extra></extra>",
           "legendgroup": "Loja 3",
           "marker": {
            "color": "#00cc96",
            "pattern": {
             "shape": ""
            }
           },
           "name": "Loja 3",
           "offsetgroup": "Loja 3",
           "orientation": "h",
           "showlegend": true,
           "textposition": "auto",
           "texttemplate": "%{x}",
           "type": "bar",
           "x": [
            12766
           ],
           "xaxis": "x",
           "y": [
            "Loja 3"
           ],
           "yaxis": "y"
          },
          {
           "alignmentgroup": "True",
           "hovertemplate": "loja=%{y}<br>ano_mes=2020-06<br>acumulado=%{x}<extra></extra>",
           "legendgroup": "Loja 4",
           "marker": {
            "color": "#ab63fa",
            "pattern": {
             "shape": ""
            }
           },
           "name": "Loja 4",
           "offsetgroup": "Loja 4",
           "orientation": "h",
           "showlegend": true,
           "textposition": "auto",
           "texttemplate": "%{x}",
           "type": "bar",
           "x": [
            17846
           ],
           "xaxis": "x",
           "y": [
            "Loja 4"
           ],
           "yaxis": "y"
          },
          {
           "alignmentgroup": "True",
           "hovertemplate": "loja=%{y}<br>ano_mes=2020-06<br>acumulado=%{x}<extra></extra>",
           "legendgroup": "Loja 5",
           "marker": {
            "color": "#FFA15A",
            "pattern": {
             "shape": ""
            }
           },
           "name": "Loja 5",
           "offsetgroup": "Loja 5",
           "orientation": "h",
           "showlegend": true,
           "textposition": "auto",
           "texttemplate": "%{x}",
           "type": "bar",
           "x": [
            12924
           ],
           "xaxis": "x",
           "y": [
            "Loja 5"
           ],
           "yaxis": "y"
          },
          {
           "alignmentgroup": "True",
           "hovertemplate": "loja=%{y}<br>ano_mes=2020-06<br>acumulado=%{x}<extra></extra>",
           "legendgroup": "Loja 6",
           "marker": {
            "color": "#19d3f3",
            "pattern": {
             "shape": ""
            }
           },
           "name": "Loja 6",
           "offsetgroup": "Loja 6",
           "orientation": "h",
           "showlegend": true,
           "textposition": "auto",
           "texttemplate": "%{x}",
           "type": "bar",
           "x": [
            7913
           ],
           "xaxis": "x",
           "y": [
            "Loja 6"
           ],
           "yaxis": "y"
          }
         ],
         "name": "2020-06"
        },
        {
         "data": [
          {
           "alignmentgroup": "True",
           "hovertemplate": "loja=%{y}<br>ano_mes=2020-07<br>acumulado=%{x}<extra></extra>",
           "legendgroup": "Loja 1",
           "marker": {
            "color": "#636efa",
            "pattern": {
             "shape": ""
            }
           },
           "name": "Loja 1",
           "offsetgroup": "Loja 1",
           "orientation": "h",
           "showlegend": true,
           "textposition": "auto",
           "texttemplate": "%{x}",
           "type": "bar",
           "x": [
            15040
           ],
           "xaxis": "x",
           "y": [
            "Loja 1"
           ],
           "yaxis": "y"
          },
          {
           "alignmentgroup": "True",
           "hovertemplate": "loja=%{y}<br>ano_mes=2020-07<br>acumulado=%{x}<extra></extra>",
           "legendgroup": "Loja 2",
           "marker": {
            "color": "#EF553B",
            "pattern": {
             "shape": ""
            }
           },
           "name": "Loja 2",
           "offsetgroup": "Loja 2",
           "orientation": "h",
           "showlegend": true,
           "textposition": "auto",
           "texttemplate": "%{x}",
           "type": "bar",
           "x": [
            9851
           ],
           "xaxis": "x",
           "y": [
            "Loja 2"
           ],
           "yaxis": "y"
          },
          {
           "alignmentgroup": "True",
           "hovertemplate": "loja=%{y}<br>ano_mes=2020-07<br>acumulado=%{x}<extra></extra>",
           "legendgroup": "Loja 3",
           "marker": {
            "color": "#00cc96",
            "pattern": {
             "shape": ""
            }
           },
           "name": "Loja 3",
           "offsetgroup": "Loja 3",
           "orientation": "h",
           "showlegend": true,
           "textposition": "auto",
           "texttemplate": "%{x}",
           "type": "bar",
           "x": [
            14529
           ],
           "xaxis": "x",
           "y": [
            "Loja 3"
           ],
           "yaxis": "y"
          },
          {
           "alignmentgroup": "True",
           "hovertemplate": "loja=%{y}<br>ano_mes=2020-07<br>acumulado=%{x}<extra></extra>",
           "legendgroup": "Loja 4",
           "marker": {
            "color": "#ab63fa",
            "pattern": {
             "shape": ""
            }
           },
           "name": "Loja 4",
           "offsetgroup": "Loja 4",
           "orientation": "h",
           "showlegend": true,
           "textposition": "auto",
           "texttemplate": "%{x}",
           "type": "bar",
           "x": [
            20694
           ],
           "xaxis": "x",
           "y": [
            "Loja 4"
           ],
           "yaxis": "y"
          },
          {
           "alignmentgroup": "True",
           "hovertemplate": "loja=%{y}<br>ano_mes=2020-07<br>acumulado=%{x}<extra></extra>",
           "legendgroup": "Loja 5",
           "marker": {
            "color": "#FFA15A",
            "pattern": {
             "shape": ""
            }
           },
           "name": "Loja 5",
           "offsetgroup": "Loja 5",
           "orientation": "h",
           "showlegend": true,
           "textposition": "auto",
           "texttemplate": "%{x}",
           "type": "bar",
           "x": [
            14972
           ],
           "xaxis": "x",
           "y": [
            "Loja 5"
           ],
           "yaxis": "y"
          },
          {
           "alignmentgroup": "True",
           "hovertemplate": "loja=%{y}<br>ano_mes=2020-07<br>acumulado=%{x}<extra></extra>",
           "legendgroup": "Loja 6",
           "marker": {
            "color": "#19d3f3",
            "pattern": {
             "shape": ""
            }
           },
           "name": "Loja 6",
           "offsetgroup": "Loja 6",
           "orientation": "h",
           "showlegend": true,
           "textposition": "auto",
           "texttemplate": "%{x}",
           "type": "bar",
           "x": [
            10128
           ],
           "xaxis": "x",
           "y": [
            "Loja 6"
           ],
           "yaxis": "y"
          }
         ],
         "name": "2020-07"
        },
        {
         "data": [
          {
           "alignmentgroup": "True",
           "hovertemplate": "loja=%{y}<br>ano_mes=2020-08<br>acumulado=%{x}<extra></extra>",
           "legendgroup": "Loja 1",
           "marker": {
            "color": "#636efa",
            "pattern": {
             "shape": ""
            }
           },
           "name": "Loja 1",
           "offsetgroup": "Loja 1",
           "orientation": "h",
           "showlegend": true,
           "textposition": "auto",
           "texttemplate": "%{x}",
           "type": "bar",
           "x": [
            17474
           ],
           "xaxis": "x",
           "y": [
            "Loja 1"
           ],
           "yaxis": "y"
          },
          {
           "alignmentgroup": "True",
           "hovertemplate": "loja=%{y}<br>ano_mes=2020-08<br>acumulado=%{x}<extra></extra>",
           "legendgroup": "Loja 2",
           "marker": {
            "color": "#EF553B",
            "pattern": {
             "shape": ""
            }
           },
           "name": "Loja 2",
           "offsetgroup": "Loja 2",
           "orientation": "h",
           "showlegend": true,
           "textposition": "auto",
           "texttemplate": "%{x}",
           "type": "bar",
           "x": [
            11329
           ],
           "xaxis": "x",
           "y": [
            "Loja 2"
           ],
           "yaxis": "y"
          },
          {
           "alignmentgroup": "True",
           "hovertemplate": "loja=%{y}<br>ano_mes=2020-08<br>acumulado=%{x}<extra></extra>",
           "legendgroup": "Loja 3",
           "marker": {
            "color": "#00cc96",
            "pattern": {
             "shape": ""
            }
           },
           "name": "Loja 3",
           "offsetgroup": "Loja 3",
           "orientation": "h",
           "showlegend": true,
           "textposition": "auto",
           "texttemplate": "%{x}",
           "type": "bar",
           "x": [
            16020
           ],
           "xaxis": "x",
           "y": [
            "Loja 3"
           ],
           "yaxis": "y"
          },
          {
           "alignmentgroup": "True",
           "hovertemplate": "loja=%{y}<br>ano_mes=2020-08<br>acumulado=%{x}<extra></extra>",
           "legendgroup": "Loja 4",
           "marker": {
            "color": "#ab63fa",
            "pattern": {
             "shape": ""
            }
           },
           "name": "Loja 4",
           "offsetgroup": "Loja 4",
           "orientation": "h",
           "showlegend": true,
           "textposition": "auto",
           "texttemplate": "%{x}",
           "type": "bar",
           "x": [
            23674
           ],
           "xaxis": "x",
           "y": [
            "Loja 4"
           ],
           "yaxis": "y"
          },
          {
           "alignmentgroup": "True",
           "hovertemplate": "loja=%{y}<br>ano_mes=2020-08<br>acumulado=%{x}<extra></extra>",
           "legendgroup": "Loja 5",
           "marker": {
            "color": "#FFA15A",
            "pattern": {
             "shape": ""
            }
           },
           "name": "Loja 5",
           "offsetgroup": "Loja 5",
           "orientation": "h",
           "showlegend": true,
           "textposition": "auto",
           "texttemplate": "%{x}",
           "type": "bar",
           "x": [
            16771
           ],
           "xaxis": "x",
           "y": [
            "Loja 5"
           ],
           "yaxis": "y"
          },
          {
           "alignmentgroup": "True",
           "hovertemplate": "loja=%{y}<br>ano_mes=2020-08<br>acumulado=%{x}<extra></extra>",
           "legendgroup": "Loja 6",
           "marker": {
            "color": "#19d3f3",
            "pattern": {
             "shape": ""
            }
           },
           "name": "Loja 6",
           "offsetgroup": "Loja 6",
           "orientation": "h",
           "showlegend": true,
           "textposition": "auto",
           "texttemplate": "%{x}",
           "type": "bar",
           "x": [
            11928
           ],
           "xaxis": "x",
           "y": [
            "Loja 6"
           ],
           "yaxis": "y"
          }
         ],
         "name": "2020-08"
        },
        {
         "data": [
          {
           "alignmentgroup": "True",
           "hovertemplate": "loja=%{y}<br>ano_mes=2020-09<br>acumulado=%{x}<extra></extra>",
           "legendgroup": "Loja 1",
           "marker": {
            "color": "#636efa",
            "pattern": {
             "shape": ""
            }
           },
           "name": "Loja 1",
           "offsetgroup": "Loja 1",
           "orientation": "h",
           "showlegend": true,
           "textposition": "auto",
           "texttemplate": "%{x}",
           "type": "bar",
           "x": [
            19586
           ],
           "xaxis": "x",
           "y": [
            "Loja 1"
           ],
           "yaxis": "y"
          },
          {
           "alignmentgroup": "True",
           "hovertemplate": "loja=%{y}<br>ano_mes=2020-09<br>acumulado=%{x}<extra></extra>",
           "legendgroup": "Loja 2",
           "marker": {
            "color": "#EF553B",
            "pattern": {
             "shape": ""
            }
           },
           "name": "Loja 2",
           "offsetgroup": "Loja 2",
           "orientation": "h",
           "showlegend": true,
           "textposition": "auto",
           "texttemplate": "%{x}",
           "type": "bar",
           "x": [
            12787
           ],
           "xaxis": "x",
           "y": [
            "Loja 2"
           ],
           "yaxis": "y"
          },
          {
           "alignmentgroup": "True",
           "hovertemplate": "loja=%{y}<br>ano_mes=2020-09<br>acumulado=%{x}<extra></extra>",
           "legendgroup": "Loja 3",
           "marker": {
            "color": "#00cc96",
            "pattern": {
             "shape": ""
            }
           },
           "name": "Loja 3",
           "offsetgroup": "Loja 3",
           "orientation": "h",
           "showlegend": true,
           "textposition": "auto",
           "texttemplate": "%{x}",
           "type": "bar",
           "x": [
            17940
           ],
           "xaxis": "x",
           "y": [
            "Loja 3"
           ],
           "yaxis": "y"
          },
          {
           "alignmentgroup": "True",
           "hovertemplate": "loja=%{y}<br>ano_mes=2020-09<br>acumulado=%{x}<extra></extra>",
           "legendgroup": "Loja 4",
           "marker": {
            "color": "#ab63fa",
            "pattern": {
             "shape": ""
            }
           },
           "name": "Loja 4",
           "offsetgroup": "Loja 4",
           "orientation": "h",
           "showlegend": true,
           "textposition": "auto",
           "texttemplate": "%{x}",
           "type": "bar",
           "x": [
            26167
           ],
           "xaxis": "x",
           "y": [
            "Loja 4"
           ],
           "yaxis": "y"
          },
          {
           "alignmentgroup": "True",
           "hovertemplate": "loja=%{y}<br>ano_mes=2020-09<br>acumulado=%{x}<extra></extra>",
           "legendgroup": "Loja 5",
           "marker": {
            "color": "#FFA15A",
            "pattern": {
             "shape": ""
            }
           },
           "name": "Loja 5",
           "offsetgroup": "Loja 5",
           "orientation": "h",
           "showlegend": true,
           "textposition": "auto",
           "texttemplate": "%{x}",
           "type": "bar",
           "x": [
            18812
           ],
           "xaxis": "x",
           "y": [
            "Loja 5"
           ],
           "yaxis": "y"
          },
          {
           "alignmentgroup": "True",
           "hovertemplate": "loja=%{y}<br>ano_mes=2020-09<br>acumulado=%{x}<extra></extra>",
           "legendgroup": "Loja 6",
           "marker": {
            "color": "#19d3f3",
            "pattern": {
             "shape": ""
            }
           },
           "name": "Loja 6",
           "offsetgroup": "Loja 6",
           "orientation": "h",
           "showlegend": true,
           "textposition": "auto",
           "texttemplate": "%{x}",
           "type": "bar",
           "x": [
            13351
           ],
           "xaxis": "x",
           "y": [
            "Loja 6"
           ],
           "yaxis": "y"
          }
         ],
         "name": "2020-09"
        },
        {
         "data": [
          {
           "alignmentgroup": "True",
           "hovertemplate": "loja=%{y}<br>ano_mes=2020-10<br>acumulado=%{x}<extra></extra>",
           "legendgroup": "Loja 1",
           "marker": {
            "color": "#636efa",
            "pattern": {
             "shape": ""
            }
           },
           "name": "Loja 1",
           "offsetgroup": "Loja 1",
           "orientation": "h",
           "showlegend": true,
           "textposition": "auto",
           "texttemplate": "%{x}",
           "type": "bar",
           "x": [
            22064
           ],
           "xaxis": "x",
           "y": [
            "Loja 1"
           ],
           "yaxis": "y"
          },
          {
           "alignmentgroup": "True",
           "hovertemplate": "loja=%{y}<br>ano_mes=2020-10<br>acumulado=%{x}<extra></extra>",
           "legendgroup": "Loja 2",
           "marker": {
            "color": "#EF553B",
            "pattern": {
             "shape": ""
            }
           },
           "name": "Loja 2",
           "offsetgroup": "Loja 2",
           "orientation": "h",
           "showlegend": true,
           "textposition": "auto",
           "texttemplate": "%{x}",
           "type": "bar",
           "x": [
            14076
           ],
           "xaxis": "x",
           "y": [
            "Loja 2"
           ],
           "yaxis": "y"
          },
          {
           "alignmentgroup": "True",
           "hovertemplate": "loja=%{y}<br>ano_mes=2020-10<br>acumulado=%{x}<extra></extra>",
           "legendgroup": "Loja 3",
           "marker": {
            "color": "#00cc96",
            "pattern": {
             "shape": ""
            }
           },
           "name": "Loja 3",
           "offsetgroup": "Loja 3",
           "orientation": "h",
           "showlegend": true,
           "textposition": "auto",
           "texttemplate": "%{x}",
           "type": "bar",
           "x": [
            20295
           ],
           "xaxis": "x",
           "y": [
            "Loja 3"
           ],
           "yaxis": "y"
          },
          {
           "alignmentgroup": "True",
           "hovertemplate": "loja=%{y}<br>ano_mes=2020-10<br>acumulado=%{x}<extra></extra>",
           "legendgroup": "Loja 4",
           "marker": {
            "color": "#ab63fa",
            "pattern": {
             "shape": ""
            }
           },
           "name": "Loja 4",
           "offsetgroup": "Loja 4",
           "orientation": "h",
           "showlegend": true,
           "textposition": "auto",
           "texttemplate": "%{x}",
           "type": "bar",
           "x": [
            29810
           ],
           "xaxis": "x",
           "y": [
            "Loja 4"
           ],
           "yaxis": "y"
          },
          {
           "alignmentgroup": "True",
           "hovertemplate": "loja=%{y}<br>ano_mes=2020-10<br>acumulado=%{x}<extra></extra>",
           "legendgroup": "Loja 5",
           "marker": {
            "color": "#FFA15A",
            "pattern": {
             "shape": ""
            }
           },
           "name": "Loja 5",
           "offsetgroup": "Loja 5",
           "orientation": "h",
           "showlegend": true,
           "textposition": "auto",
           "texttemplate": "%{x}",
           "type": "bar",
           "x": [
            21135
           ],
           "xaxis": "x",
           "y": [
            "Loja 5"
           ],
           "yaxis": "y"
          },
          {
           "alignmentgroup": "True",
           "hovertemplate": "loja=%{y}<br>ano_mes=2020-10<br>acumulado=%{x}<extra></extra>",
           "legendgroup": "Loja 6",
           "marker": {
            "color": "#19d3f3",
            "pattern": {
             "shape": ""
            }
           },
           "name": "Loja 6",
           "offsetgroup": "Loja 6",
           "orientation": "h",
           "showlegend": true,
           "textposition": "auto",
           "texttemplate": "%{x}",
           "type": "bar",
           "x": [
            14455
           ],
           "xaxis": "x",
           "y": [
            "Loja 6"
           ],
           "yaxis": "y"
          }
         ],
         "name": "2020-10"
        },
        {
         "data": [
          {
           "alignmentgroup": "True",
           "hovertemplate": "loja=%{y}<br>ano_mes=2020-11<br>acumulado=%{x}<extra></extra>",
           "legendgroup": "Loja 1",
           "marker": {
            "color": "#636efa",
            "pattern": {
             "shape": ""
            }
           },
           "name": "Loja 1",
           "offsetgroup": "Loja 1",
           "orientation": "h",
           "showlegend": true,
           "textposition": "auto",
           "texttemplate": "%{x}",
           "type": "bar",
           "x": [
            24206
           ],
           "xaxis": "x",
           "y": [
            "Loja 1"
           ],
           "yaxis": "y"
          },
          {
           "alignmentgroup": "True",
           "hovertemplate": "loja=%{y}<br>ano_mes=2020-11<br>acumulado=%{x}<extra></extra>",
           "legendgroup": "Loja 2",
           "marker": {
            "color": "#EF553B",
            "pattern": {
             "shape": ""
            }
           },
           "name": "Loja 2",
           "offsetgroup": "Loja 2",
           "orientation": "h",
           "showlegend": true,
           "textposition": "auto",
           "texttemplate": "%{x}",
           "type": "bar",
           "x": [
            15525
           ],
           "xaxis": "x",
           "y": [
            "Loja 2"
           ],
           "yaxis": "y"
          },
          {
           "alignmentgroup": "True",
           "hovertemplate": "loja=%{y}<br>ano_mes=2020-11<br>acumulado=%{x}<extra></extra>",
           "legendgroup": "Loja 3",
           "marker": {
            "color": "#00cc96",
            "pattern": {
             "shape": ""
            }
           },
           "name": "Loja 3",
           "offsetgroup": "Loja 3",
           "orientation": "h",
           "showlegend": true,
           "textposition": "auto",
           "texttemplate": "%{x}",
           "type": "bar",
           "x": [
            22301
           ],
           "xaxis": "x",
           "y": [
            "Loja 3"
           ],
           "yaxis": "y"
          },
          {
           "alignmentgroup": "True",
           "hovertemplate": "loja=%{y}<br>ano_mes=2020-11<br>acumulado=%{x}<extra></extra>",
           "legendgroup": "Loja 4",
           "marker": {
            "color": "#ab63fa",
            "pattern": {
             "shape": ""
            }
           },
           "name": "Loja 4",
           "offsetgroup": "Loja 4",
           "orientation": "h",
           "showlegend": true,
           "textposition": "auto",
           "texttemplate": "%{x}",
           "type": "bar",
           "x": [
            32470
           ],
           "xaxis": "x",
           "y": [
            "Loja 4"
           ],
           "yaxis": "y"
          },
          {
           "alignmentgroup": "True",
           "hovertemplate": "loja=%{y}<br>ano_mes=2020-11<br>acumulado=%{x}<extra></extra>",
           "legendgroup": "Loja 5",
           "marker": {
            "color": "#FFA15A",
            "pattern": {
             "shape": ""
            }
           },
           "name": "Loja 5",
           "offsetgroup": "Loja 5",
           "orientation": "h",
           "showlegend": true,
           "textposition": "auto",
           "texttemplate": "%{x}",
           "type": "bar",
           "x": [
            23223
           ],
           "xaxis": "x",
           "y": [
            "Loja 5"
           ],
           "yaxis": "y"
          },
          {
           "alignmentgroup": "True",
           "hovertemplate": "loja=%{y}<br>ano_mes=2020-11<br>acumulado=%{x}<extra></extra>",
           "legendgroup": "Loja 6",
           "marker": {
            "color": "#19d3f3",
            "pattern": {
             "shape": ""
            }
           },
           "name": "Loja 6",
           "offsetgroup": "Loja 6",
           "orientation": "h",
           "showlegend": true,
           "textposition": "auto",
           "texttemplate": "%{x}",
           "type": "bar",
           "x": [
            16060
           ],
           "xaxis": "x",
           "y": [
            "Loja 6"
           ],
           "yaxis": "y"
          }
         ],
         "name": "2020-11"
        },
        {
         "data": [
          {
           "alignmentgroup": "True",
           "hovertemplate": "loja=%{y}<br>ano_mes=2020-12<br>acumulado=%{x}<extra></extra>",
           "legendgroup": "Loja 1",
           "marker": {
            "color": "#636efa",
            "pattern": {
             "shape": ""
            }
           },
           "name": "Loja 1",
           "offsetgroup": "Loja 1",
           "orientation": "h",
           "showlegend": true,
           "textposition": "auto",
           "texttemplate": "%{x}",
           "type": "bar",
           "x": [
            26280
           ],
           "xaxis": "x",
           "y": [
            "Loja 1"
           ],
           "yaxis": "y"
          },
          {
           "alignmentgroup": "True",
           "hovertemplate": "loja=%{y}<br>ano_mes=2020-12<br>acumulado=%{x}<extra></extra>",
           "legendgroup": "Loja 2",
           "marker": {
            "color": "#EF553B",
            "pattern": {
             "shape": ""
            }
           },
           "name": "Loja 2",
           "offsetgroup": "Loja 2",
           "orientation": "h",
           "showlegend": true,
           "textposition": "auto",
           "texttemplate": "%{x}",
           "type": "bar",
           "x": [
            16936
           ],
           "xaxis": "x",
           "y": [
            "Loja 2"
           ],
           "yaxis": "y"
          },
          {
           "alignmentgroup": "True",
           "hovertemplate": "loja=%{y}<br>ano_mes=2020-12<br>acumulado=%{x}<extra></extra>",
           "legendgroup": "Loja 3",
           "marker": {
            "color": "#00cc96",
            "pattern": {
             "shape": ""
            }
           },
           "name": "Loja 3",
           "offsetgroup": "Loja 3",
           "orientation": "h",
           "showlegend": true,
           "textposition": "auto",
           "texttemplate": "%{x}",
           "type": "bar",
           "x": [
            24583
           ],
           "xaxis": "x",
           "y": [
            "Loja 3"
           ],
           "yaxis": "y"
          },
          {
           "alignmentgroup": "True",
           "hovertemplate": "loja=%{y}<br>ano_mes=2020-12<br>acumulado=%{x}<extra></extra>",
           "legendgroup": "Loja 4",
           "marker": {
            "color": "#ab63fa",
            "pattern": {
             "shape": ""
            }
           },
           "name": "Loja 4",
           "offsetgroup": "Loja 4",
           "orientation": "h",
           "showlegend": true,
           "textposition": "auto",
           "texttemplate": "%{x}",
           "type": "bar",
           "x": [
            36772
           ],
           "xaxis": "x",
           "y": [
            "Loja 4"
           ],
           "yaxis": "y"
          },
          {
           "alignmentgroup": "True",
           "hovertemplate": "loja=%{y}<br>ano_mes=2020-12<br>acumulado=%{x}<extra></extra>",
           "legendgroup": "Loja 5",
           "marker": {
            "color": "#FFA15A",
            "pattern": {
             "shape": ""
            }
           },
           "name": "Loja 5",
           "offsetgroup": "Loja 5",
           "orientation": "h",
           "showlegend": true,
           "textposition": "auto",
           "texttemplate": "%{x}",
           "type": "bar",
           "x": [
            25273
           ],
           "xaxis": "x",
           "y": [
            "Loja 5"
           ],
           "yaxis": "y"
          },
          {
           "alignmentgroup": "True",
           "hovertemplate": "loja=%{y}<br>ano_mes=2020-12<br>acumulado=%{x}<extra></extra>",
           "legendgroup": "Loja 6",
           "marker": {
            "color": "#19d3f3",
            "pattern": {
             "shape": ""
            }
           },
           "name": "Loja 6",
           "offsetgroup": "Loja 6",
           "orientation": "h",
           "showlegend": true,
           "textposition": "auto",
           "texttemplate": "%{x}",
           "type": "bar",
           "x": [
            16225
           ],
           "xaxis": "x",
           "y": [
            "Loja 6"
           ],
           "yaxis": "y"
          }
         ],
         "name": "2020-12"
        },
        {
         "data": [
          {
           "alignmentgroup": "True",
           "hovertemplate": "loja=%{y}<br>ano_mes=2021-01<br>acumulado=%{x}<extra></extra>",
           "legendgroup": "Loja 1",
           "marker": {
            "color": "#636efa",
            "pattern": {
             "shape": ""
            }
           },
           "name": "Loja 1",
           "offsetgroup": "Loja 1",
           "orientation": "h",
           "showlegend": true,
           "textposition": "auto",
           "texttemplate": "%{x}",
           "type": "bar",
           "x": [
            28255
           ],
           "xaxis": "x",
           "y": [
            "Loja 1"
           ],
           "yaxis": "y"
          },
          {
           "alignmentgroup": "True",
           "hovertemplate": "loja=%{y}<br>ano_mes=2021-01<br>acumulado=%{x}<extra></extra>",
           "legendgroup": "Loja 2",
           "marker": {
            "color": "#EF553B",
            "pattern": {
             "shape": ""
            }
           },
           "name": "Loja 2",
           "offsetgroup": "Loja 2",
           "orientation": "h",
           "showlegend": true,
           "textposition": "auto",
           "texttemplate": "%{x}",
           "type": "bar",
           "x": [
            18452
           ],
           "xaxis": "x",
           "y": [
            "Loja 2"
           ],
           "yaxis": "y"
          },
          {
           "alignmentgroup": "True",
           "hovertemplate": "loja=%{y}<br>ano_mes=2021-01<br>acumulado=%{x}<extra></extra>",
           "legendgroup": "Loja 3",
           "marker": {
            "color": "#00cc96",
            "pattern": {
             "shape": ""
            }
           },
           "name": "Loja 3",
           "offsetgroup": "Loja 3",
           "orientation": "h",
           "showlegend": true,
           "textposition": "auto",
           "texttemplate": "%{x}",
           "type": "bar",
           "x": [
            26702
           ],
           "xaxis": "x",
           "y": [
            "Loja 3"
           ],
           "yaxis": "y"
          },
          {
           "alignmentgroup": "True",
           "hovertemplate": "loja=%{y}<br>ano_mes=2021-01<br>acumulado=%{x}<extra></extra>",
           "legendgroup": "Loja 4",
           "marker": {
            "color": "#ab63fa",
            "pattern": {
             "shape": ""
            }
           },
           "name": "Loja 4",
           "offsetgroup": "Loja 4",
           "orientation": "h",
           "showlegend": true,
           "textposition": "auto",
           "texttemplate": "%{x}",
           "type": "bar",
           "x": [
            40231
           ],
           "xaxis": "x",
           "y": [
            "Loja 4"
           ],
           "yaxis": "y"
          },
          {
           "alignmentgroup": "True",
           "hovertemplate": "loja=%{y}<br>ano_mes=2021-01<br>acumulado=%{x}<extra></extra>",
           "legendgroup": "Loja 5",
           "marker": {
            "color": "#FFA15A",
            "pattern": {
             "shape": ""
            }
           },
           "name": "Loja 5",
           "offsetgroup": "Loja 5",
           "orientation": "h",
           "showlegend": true,
           "textposition": "auto",
           "texttemplate": "%{x}",
           "type": "bar",
           "x": [
            27569
           ],
           "xaxis": "x",
           "y": [
            "Loja 5"
           ],
           "yaxis": "y"
          },
          {
           "alignmentgroup": "True",
           "hovertemplate": "loja=%{y}<br>ano_mes=2021-01<br>acumulado=%{x}<extra></extra>",
           "legendgroup": "Loja 6",
           "marker": {
            "color": "#19d3f3",
            "pattern": {
             "shape": ""
            }
           },
           "name": "Loja 6",
           "offsetgroup": "Loja 6",
           "orientation": "h",
           "showlegend": true,
           "textposition": "auto",
           "texttemplate": "%{x}",
           "type": "bar",
           "x": [
            17031
           ],
           "xaxis": "x",
           "y": [
            "Loja 6"
           ],
           "yaxis": "y"
          }
         ],
         "name": "2021-01"
        },
        {
         "data": [
          {
           "alignmentgroup": "True",
           "hovertemplate": "loja=%{y}<br>ano_mes=2021-02<br>acumulado=%{x}<extra></extra>",
           "legendgroup": "Loja 1",
           "marker": {
            "color": "#636efa",
            "pattern": {
             "shape": ""
            }
           },
           "name": "Loja 1",
           "offsetgroup": "Loja 1",
           "orientation": "h",
           "showlegend": true,
           "textposition": "auto",
           "texttemplate": "%{x}",
           "type": "bar",
           "x": [
            30106
           ],
           "xaxis": "x",
           "y": [
            "Loja 1"
           ],
           "yaxis": "y"
          },
          {
           "alignmentgroup": "True",
           "hovertemplate": "loja=%{y}<br>ano_mes=2021-02<br>acumulado=%{x}<extra></extra>",
           "legendgroup": "Loja 2",
           "marker": {
            "color": "#EF553B",
            "pattern": {
             "shape": ""
            }
           },
           "name": "Loja 2",
           "offsetgroup": "Loja 2",
           "orientation": "h",
           "showlegend": true,
           "textposition": "auto",
           "texttemplate": "%{x}",
           "type": "bar",
           "x": [
            19794
           ],
           "xaxis": "x",
           "y": [
            "Loja 2"
           ],
           "yaxis": "y"
          },
          {
           "alignmentgroup": "True",
           "hovertemplate": "loja=%{y}<br>ano_mes=2021-02<br>acumulado=%{x}<extra></extra>",
           "legendgroup": "Loja 3",
           "marker": {
            "color": "#00cc96",
            "pattern": {
             "shape": ""
            }
           },
           "name": "Loja 3",
           "offsetgroup": "Loja 3",
           "orientation": "h",
           "showlegend": true,
           "textposition": "auto",
           "texttemplate": "%{x}",
           "type": "bar",
           "x": [
            28601
           ],
           "xaxis": "x",
           "y": [
            "Loja 3"
           ],
           "yaxis": "y"
          },
          {
           "alignmentgroup": "True",
           "hovertemplate": "loja=%{y}<br>ano_mes=2021-02<br>acumulado=%{x}<extra></extra>",
           "legendgroup": "Loja 4",
           "marker": {
            "color": "#ab63fa",
            "pattern": {
             "shape": ""
            }
           },
           "name": "Loja 4",
           "offsetgroup": "Loja 4",
           "orientation": "h",
           "showlegend": true,
           "textposition": "auto",
           "texttemplate": "%{x}",
           "type": "bar",
           "x": [
            43749
           ],
           "xaxis": "x",
           "y": [
            "Loja 4"
           ],
           "yaxis": "y"
          },
          {
           "alignmentgroup": "True",
           "hovertemplate": "loja=%{y}<br>ano_mes=2021-02<br>acumulado=%{x}<extra></extra>",
           "legendgroup": "Loja 5",
           "marker": {
            "color": "#FFA15A",
            "pattern": {
             "shape": ""
            }
           },
           "name": "Loja 5",
           "offsetgroup": "Loja 5",
           "orientation": "h",
           "showlegend": true,
           "textposition": "auto",
           "texttemplate": "%{x}",
           "type": "bar",
           "x": [
            29509
           ],
           "xaxis": "x",
           "y": [
            "Loja 5"
           ],
           "yaxis": "y"
          },
          {
           "alignmentgroup": "True",
           "hovertemplate": "loja=%{y}<br>ano_mes=2021-02<br>acumulado=%{x}<extra></extra>",
           "legendgroup": "Loja 6",
           "marker": {
            "color": "#19d3f3",
            "pattern": {
             "shape": ""
            }
           },
           "name": "Loja 6",
           "offsetgroup": "Loja 6",
           "orientation": "h",
           "showlegend": true,
           "textposition": "auto",
           "texttemplate": "%{x}",
           "type": "bar",
           "x": [
            17423
           ],
           "xaxis": "x",
           "y": [
            "Loja 6"
           ],
           "yaxis": "y"
          }
         ],
         "name": "2021-02"
        },
        {
         "data": [
          {
           "alignmentgroup": "True",
           "hovertemplate": "loja=%{y}<br>ano_mes=2021-03<br>acumulado=%{x}<extra></extra>",
           "legendgroup": "Loja 1",
           "marker": {
            "color": "#636efa",
            "pattern": {
             "shape": ""
            }
           },
           "name": "Loja 1",
           "offsetgroup": "Loja 1",
           "orientation": "h",
           "showlegend": true,
           "textposition": "auto",
           "texttemplate": "%{x}",
           "type": "bar",
           "x": [
            32318
           ],
           "xaxis": "x",
           "y": [
            "Loja 1"
           ],
           "yaxis": "y"
          },
          {
           "alignmentgroup": "True",
           "hovertemplate": "loja=%{y}<br>ano_mes=2021-03<br>acumulado=%{x}<extra></extra>",
           "legendgroup": "Loja 2",
           "marker": {
            "color": "#EF553B",
            "pattern": {
             "shape": ""
            }
           },
           "name": "Loja 2",
           "offsetgroup": "Loja 2",
           "orientation": "h",
           "showlegend": true,
           "textposition": "auto",
           "texttemplate": "%{x}",
           "type": "bar",
           "x": [
            21326
           ],
           "xaxis": "x",
           "y": [
            "Loja 2"
           ],
           "yaxis": "y"
          },
          {
           "alignmentgroup": "True",
           "hovertemplate": "loja=%{y}<br>ano_mes=2021-03<br>acumulado=%{x}<extra></extra>",
           "legendgroup": "Loja 3",
           "marker": {
            "color": "#00cc96",
            "pattern": {
             "shape": ""
            }
           },
           "name": "Loja 3",
           "offsetgroup": "Loja 3",
           "orientation": "h",
           "showlegend": true,
           "textposition": "auto",
           "texttemplate": "%{x}",
           "type": "bar",
           "x": [
            30934
           ],
           "xaxis": "x",
           "y": [
            "Loja 3"
           ],
           "yaxis": "y"
          },
          {
           "alignmentgroup": "True",
           "hovertemplate": "loja=%{y}<br>ano_mes=2021-03<br>acumulado=%{x}<extra></extra>",
           "legendgroup": "Loja 4",
           "marker": {
            "color": "#ab63fa",
            "pattern": {
             "shape": ""
            }
           },
           "name": "Loja 4",
           "offsetgroup": "Loja 4",
           "orientation": "h",
           "showlegend": true,
           "textposition": "auto",
           "texttemplate": "%{x}",
           "type": "bar",
           "x": [
            47170
           ],
           "xaxis": "x",
           "y": [
            "Loja 4"
           ],
           "yaxis": "y"
          },
          {
           "alignmentgroup": "True",
           "hovertemplate": "loja=%{y}<br>ano_mes=2021-03<br>acumulado=%{x}<extra></extra>",
           "legendgroup": "Loja 5",
           "marker": {
            "color": "#FFA15A",
            "pattern": {
             "shape": ""
            }
           },
           "name": "Loja 5",
           "offsetgroup": "Loja 5",
           "orientation": "h",
           "showlegend": true,
           "textposition": "auto",
           "texttemplate": "%{x}",
           "type": "bar",
           "x": [
            31986
           ],
           "xaxis": "x",
           "y": [
            "Loja 5"
           ],
           "yaxis": "y"
          },
          {
           "alignmentgroup": "True",
           "hovertemplate": "loja=%{y}<br>ano_mes=2021-03<br>acumulado=%{x}<extra></extra>",
           "legendgroup": "Loja 6",
           "marker": {
            "color": "#19d3f3",
            "pattern": {
             "shape": ""
            }
           },
           "name": "Loja 6",
           "offsetgroup": "Loja 6",
           "orientation": "h",
           "showlegend": true,
           "textposition": "auto",
           "texttemplate": "%{x}",
           "type": "bar",
           "x": [
            18794
           ],
           "xaxis": "x",
           "y": [
            "Loja 6"
           ],
           "yaxis": "y"
          }
         ],
         "name": "2021-03"
        },
        {
         "data": [
          {
           "alignmentgroup": "True",
           "hovertemplate": "loja=%{y}<br>ano_mes=2021-04<br>acumulado=%{x}<extra></extra>",
           "legendgroup": "Loja 1",
           "marker": {
            "color": "#636efa",
            "pattern": {
             "shape": ""
            }
           },
           "name": "Loja 1",
           "offsetgroup": "Loja 1",
           "orientation": "h",
           "showlegend": true,
           "textposition": "auto",
           "texttemplate": "%{x}",
           "type": "bar",
           "x": [
            34239
           ],
           "xaxis": "x",
           "y": [
            "Loja 1"
           ],
           "yaxis": "y"
          },
          {
           "alignmentgroup": "True",
           "hovertemplate": "loja=%{y}<br>ano_mes=2021-04<br>acumulado=%{x}<extra></extra>",
           "legendgroup": "Loja 2",
           "marker": {
            "color": "#EF553B",
            "pattern": {
             "shape": ""
            }
           },
           "name": "Loja 2",
           "offsetgroup": "Loja 2",
           "orientation": "h",
           "showlegend": true,
           "textposition": "auto",
           "texttemplate": "%{x}",
           "type": "bar",
           "x": [
            22662
           ],
           "xaxis": "x",
           "y": [
            "Loja 2"
           ],
           "yaxis": "y"
          },
          {
           "alignmentgroup": "True",
           "hovertemplate": "loja=%{y}<br>ano_mes=2021-04<br>acumulado=%{x}<extra></extra>",
           "legendgroup": "Loja 3",
           "marker": {
            "color": "#00cc96",
            "pattern": {
             "shape": ""
            }
           },
           "name": "Loja 3",
           "offsetgroup": "Loja 3",
           "orientation": "h",
           "showlegend": true,
           "textposition": "auto",
           "texttemplate": "%{x}",
           "type": "bar",
           "x": [
            32761
           ],
           "xaxis": "x",
           "y": [
            "Loja 3"
           ],
           "yaxis": "y"
          },
          {
           "alignmentgroup": "True",
           "hovertemplate": "loja=%{y}<br>ano_mes=2021-04<br>acumulado=%{x}<extra></extra>",
           "legendgroup": "Loja 4",
           "marker": {
            "color": "#ab63fa",
            "pattern": {
             "shape": ""
            }
           },
           "name": "Loja 4",
           "offsetgroup": "Loja 4",
           "orientation": "h",
           "showlegend": true,
           "textposition": "auto",
           "texttemplate": "%{x}",
           "type": "bar",
           "x": [
            50065
           ],
           "xaxis": "x",
           "y": [
            "Loja 4"
           ],
           "yaxis": "y"
          },
          {
           "alignmentgroup": "True",
           "hovertemplate": "loja=%{y}<br>ano_mes=2021-04<br>acumulado=%{x}<extra></extra>",
           "legendgroup": "Loja 5",
           "marker": {
            "color": "#FFA15A",
            "pattern": {
             "shape": ""
            }
           },
           "name": "Loja 5",
           "offsetgroup": "Loja 5",
           "orientation": "h",
           "showlegend": true,
           "textposition": "auto",
           "texttemplate": "%{x}",
           "type": "bar",
           "x": [
            34020
           ],
           "xaxis": "x",
           "y": [
            "Loja 5"
           ],
           "yaxis": "y"
          },
          {
           "alignmentgroup": "True",
           "hovertemplate": "loja=%{y}<br>ano_mes=2021-04<br>acumulado=%{x}<extra></extra>",
           "legendgroup": "Loja 6",
           "marker": {
            "color": "#19d3f3",
            "pattern": {
             "shape": ""
            }
           },
           "name": "Loja 6",
           "offsetgroup": "Loja 6",
           "orientation": "h",
           "showlegend": true,
           "textposition": "auto",
           "texttemplate": "%{x}",
           "type": "bar",
           "x": [
            20049
           ],
           "xaxis": "x",
           "y": [
            "Loja 6"
           ],
           "yaxis": "y"
          }
         ],
         "name": "2021-04"
        },
        {
         "data": [
          {
           "alignmentgroup": "True",
           "hovertemplate": "loja=%{y}<br>ano_mes=2021-05<br>acumulado=%{x}<extra></extra>",
           "legendgroup": "Loja 1",
           "marker": {
            "color": "#636efa",
            "pattern": {
             "shape": ""
            }
           },
           "name": "Loja 1",
           "offsetgroup": "Loja 1",
           "orientation": "h",
           "showlegend": true,
           "textposition": "auto",
           "texttemplate": "%{x}",
           "type": "bar",
           "x": [
            36252
           ],
           "xaxis": "x",
           "y": [
            "Loja 1"
           ],
           "yaxis": "y"
          },
          {
           "alignmentgroup": "True",
           "hovertemplate": "loja=%{y}<br>ano_mes=2021-05<br>acumulado=%{x}<extra></extra>",
           "legendgroup": "Loja 2",
           "marker": {
            "color": "#EF553B",
            "pattern": {
             "shape": ""
            }
           },
           "name": "Loja 2",
           "offsetgroup": "Loja 2",
           "orientation": "h",
           "showlegend": true,
           "textposition": "auto",
           "texttemplate": "%{x}",
           "type": "bar",
           "x": [
            24319
           ],
           "xaxis": "x",
           "y": [
            "Loja 2"
           ],
           "yaxis": "y"
          },
          {
           "alignmentgroup": "True",
           "hovertemplate": "loja=%{y}<br>ano_mes=2021-05<br>acumulado=%{x}<extra></extra>",
           "legendgroup": "Loja 3",
           "marker": {
            "color": "#00cc96",
            "pattern": {
             "shape": ""
            }
           },
           "name": "Loja 3",
           "offsetgroup": "Loja 3",
           "orientation": "h",
           "showlegend": true,
           "textposition": "auto",
           "texttemplate": "%{x}",
           "type": "bar",
           "x": [
            35123
           ],
           "xaxis": "x",
           "y": [
            "Loja 3"
           ],
           "yaxis": "y"
          },
          {
           "alignmentgroup": "True",
           "hovertemplate": "loja=%{y}<br>ano_mes=2021-05<br>acumulado=%{x}<extra></extra>",
           "legendgroup": "Loja 4",
           "marker": {
            "color": "#ab63fa",
            "pattern": {
             "shape": ""
            }
           },
           "name": "Loja 4",
           "offsetgroup": "Loja 4",
           "orientation": "h",
           "showlegend": true,
           "textposition": "auto",
           "texttemplate": "%{x}",
           "type": "bar",
           "x": [
            51651
           ],
           "xaxis": "x",
           "y": [
            "Loja 4"
           ],
           "yaxis": "y"
          },
          {
           "alignmentgroup": "True",
           "hovertemplate": "loja=%{y}<br>ano_mes=2021-05<br>acumulado=%{x}<extra></extra>",
           "legendgroup": "Loja 5",
           "marker": {
            "color": "#FFA15A",
            "pattern": {
             "shape": ""
            }
           },
           "name": "Loja 5",
           "offsetgroup": "Loja 5",
           "orientation": "h",
           "showlegend": true,
           "textposition": "auto",
           "texttemplate": "%{x}",
           "type": "bar",
           "x": [
            36261
           ],
           "xaxis": "x",
           "y": [
            "Loja 5"
           ],
           "yaxis": "y"
          },
          {
           "alignmentgroup": "True",
           "hovertemplate": "loja=%{y}<br>ano_mes=2021-05<br>acumulado=%{x}<extra></extra>",
           "legendgroup": "Loja 6",
           "marker": {
            "color": "#19d3f3",
            "pattern": {
             "shape": ""
            }
           },
           "name": "Loja 6",
           "offsetgroup": "Loja 6",
           "orientation": "h",
           "showlegend": true,
           "textposition": "auto",
           "texttemplate": "%{x}",
           "type": "bar",
           "x": [
            22492
           ],
           "xaxis": "x",
           "y": [
            "Loja 6"
           ],
           "yaxis": "y"
          }
         ],
         "name": "2021-05"
        },
        {
         "data": [
          {
           "alignmentgroup": "True",
           "hovertemplate": "loja=%{y}<br>ano_mes=2021-06<br>acumulado=%{x}<extra></extra>",
           "legendgroup": "Loja 1",
           "marker": {
            "color": "#636efa",
            "pattern": {
             "shape": ""
            }
           },
           "name": "Loja 1",
           "offsetgroup": "Loja 1",
           "orientation": "h",
           "showlegend": true,
           "textposition": "auto",
           "texttemplate": "%{x}",
           "type": "bar",
           "x": [
            38266
           ],
           "xaxis": "x",
           "y": [
            "Loja 1"
           ],
           "yaxis": "y"
          },
          {
           "alignmentgroup": "True",
           "hovertemplate": "loja=%{y}<br>ano_mes=2021-06<br>acumulado=%{x}<extra></extra>",
           "legendgroup": "Loja 2",
           "marker": {
            "color": "#EF553B",
            "pattern": {
             "shape": ""
            }
           },
           "name": "Loja 2",
           "offsetgroup": "Loja 2",
           "orientation": "h",
           "showlegend": true,
           "textposition": "auto",
           "texttemplate": "%{x}",
           "type": "bar",
           "x": [
            25642
           ],
           "xaxis": "x",
           "y": [
            "Loja 2"
           ],
           "yaxis": "y"
          },
          {
           "alignmentgroup": "True",
           "hovertemplate": "loja=%{y}<br>ano_mes=2021-06<br>acumulado=%{x}<extra></extra>",
           "legendgroup": "Loja 3",
           "marker": {
            "color": "#00cc96",
            "pattern": {
             "shape": ""
            }
           },
           "name": "Loja 3",
           "offsetgroup": "Loja 3",
           "orientation": "h",
           "showlegend": true,
           "textposition": "auto",
           "texttemplate": "%{x}",
           "type": "bar",
           "x": [
            36943
           ],
           "xaxis": "x",
           "y": [
            "Loja 3"
           ],
           "yaxis": "y"
          },
          {
           "alignmentgroup": "True",
           "hovertemplate": "loja=%{y}<br>ano_mes=2021-06<br>acumulado=%{x}<extra></extra>",
           "legendgroup": "Loja 4",
           "marker": {
            "color": "#ab63fa",
            "pattern": {
             "shape": ""
            }
           },
           "name": "Loja 4",
           "offsetgroup": "Loja 4",
           "orientation": "h",
           "showlegend": true,
           "textposition": "auto",
           "texttemplate": "%{x}",
           "type": "bar",
           "x": [
            53165
           ],
           "xaxis": "x",
           "y": [
            "Loja 4"
           ],
           "yaxis": "y"
          },
          {
           "alignmentgroup": "True",
           "hovertemplate": "loja=%{y}<br>ano_mes=2021-06<br>acumulado=%{x}<extra></extra>",
           "legendgroup": "Loja 5",
           "marker": {
            "color": "#FFA15A",
            "pattern": {
             "shape": ""
            }
           },
           "name": "Loja 5",
           "offsetgroup": "Loja 5",
           "orientation": "h",
           "showlegend": true,
           "textposition": "auto",
           "texttemplate": "%{x}",
           "type": "bar",
           "x": [
            38210
           ],
           "xaxis": "x",
           "y": [
            "Loja 5"
           ],
           "yaxis": "y"
          },
          {
           "alignmentgroup": "True",
           "hovertemplate": "loja=%{y}<br>ano_mes=2021-06<br>acumulado=%{x}<extra></extra>",
           "legendgroup": "Loja 6",
           "marker": {
            "color": "#19d3f3",
            "pattern": {
             "shape": ""
            }
           },
           "name": "Loja 6",
           "offsetgroup": "Loja 6",
           "orientation": "h",
           "showlegend": true,
           "textposition": "auto",
           "texttemplate": "%{x}",
           "type": "bar",
           "x": [
            25132
           ],
           "xaxis": "x",
           "y": [
            "Loja 6"
           ],
           "yaxis": "y"
          }
         ],
         "name": "2021-06"
        },
        {
         "data": [
          {
           "alignmentgroup": "True",
           "hovertemplate": "loja=%{y}<br>ano_mes=2021-07<br>acumulado=%{x}<extra></extra>",
           "legendgroup": "Loja 1",
           "marker": {
            "color": "#636efa",
            "pattern": {
             "shape": ""
            }
           },
           "name": "Loja 1",
           "offsetgroup": "Loja 1",
           "orientation": "h",
           "showlegend": true,
           "textposition": "auto",
           "texttemplate": "%{x}",
           "type": "bar",
           "x": [
            40720
           ],
           "xaxis": "x",
           "y": [
            "Loja 1"
           ],
           "yaxis": "y"
          },
          {
           "alignmentgroup": "True",
           "hovertemplate": "loja=%{y}<br>ano_mes=2021-07<br>acumulado=%{x}<extra></extra>",
           "legendgroup": "Loja 2",
           "marker": {
            "color": "#EF553B",
            "pattern": {
             "shape": ""
            }
           },
           "name": "Loja 2",
           "offsetgroup": "Loja 2",
           "orientation": "h",
           "showlegend": true,
           "textposition": "auto",
           "texttemplate": "%{x}",
           "type": "bar",
           "x": [
            27036
           ],
           "xaxis": "x",
           "y": [
            "Loja 2"
           ],
           "yaxis": "y"
          },
          {
           "alignmentgroup": "True",
           "hovertemplate": "loja=%{y}<br>ano_mes=2021-07<br>acumulado=%{x}<extra></extra>",
           "legendgroup": "Loja 3",
           "marker": {
            "color": "#00cc96",
            "pattern": {
             "shape": ""
            }
           },
           "name": "Loja 3",
           "offsetgroup": "Loja 3",
           "orientation": "h",
           "showlegend": true,
           "textposition": "auto",
           "texttemplate": "%{x}",
           "type": "bar",
           "x": [
            39197
           ],
           "xaxis": "x",
           "y": [
            "Loja 3"
           ],
           "yaxis": "y"
          },
          {
           "alignmentgroup": "True",
           "hovertemplate": "loja=%{y}<br>ano_mes=2021-07<br>acumulado=%{x}<extra></extra>",
           "legendgroup": "Loja 4",
           "marker": {
            "color": "#ab63fa",
            "pattern": {
             "shape": ""
            }
           },
           "name": "Loja 4",
           "offsetgroup": "Loja 4",
           "orientation": "h",
           "showlegend": true,
           "textposition": "auto",
           "texttemplate": "%{x}",
           "type": "bar",
           "x": [
            55036
           ],
           "xaxis": "x",
           "y": [
            "Loja 4"
           ],
           "yaxis": "y"
          },
          {
           "alignmentgroup": "True",
           "hovertemplate": "loja=%{y}<br>ano_mes=2021-07<br>acumulado=%{x}<extra></extra>",
           "legendgroup": "Loja 5",
           "marker": {
            "color": "#FFA15A",
            "pattern": {
             "shape": ""
            }
           },
           "name": "Loja 5",
           "offsetgroup": "Loja 5",
           "orientation": "h",
           "showlegend": true,
           "textposition": "auto",
           "texttemplate": "%{x}",
           "type": "bar",
           "x": [
            40291
           ],
           "xaxis": "x",
           "y": [
            "Loja 5"
           ],
           "yaxis": "y"
          },
          {
           "alignmentgroup": "True",
           "hovertemplate": "loja=%{y}<br>ano_mes=2021-07<br>acumulado=%{x}<extra></extra>",
           "legendgroup": "Loja 6",
           "marker": {
            "color": "#19d3f3",
            "pattern": {
             "shape": ""
            }
           },
           "name": "Loja 6",
           "offsetgroup": "Loja 6",
           "orientation": "h",
           "showlegend": true,
           "textposition": "auto",
           "texttemplate": "%{x}",
           "type": "bar",
           "x": [
            27900
           ],
           "xaxis": "x",
           "y": [
            "Loja 6"
           ],
           "yaxis": "y"
          }
         ],
         "name": "2021-07"
        },
        {
         "data": [
          {
           "alignmentgroup": "True",
           "hovertemplate": "loja=%{y}<br>ano_mes=2021-08<br>acumulado=%{x}<extra></extra>",
           "legendgroup": "Loja 1",
           "marker": {
            "color": "#636efa",
            "pattern": {
             "shape": ""
            }
           },
           "name": "Loja 1",
           "offsetgroup": "Loja 1",
           "orientation": "h",
           "showlegend": true,
           "textposition": "auto",
           "texttemplate": "%{x}",
           "type": "bar",
           "x": [
            42885
           ],
           "xaxis": "x",
           "y": [
            "Loja 1"
           ],
           "yaxis": "y"
          },
          {
           "alignmentgroup": "True",
           "hovertemplate": "loja=%{y}<br>ano_mes=2021-08<br>acumulado=%{x}<extra></extra>",
           "legendgroup": "Loja 2",
           "marker": {
            "color": "#EF553B",
            "pattern": {
             "shape": ""
            }
           },
           "name": "Loja 2",
           "offsetgroup": "Loja 2",
           "orientation": "h",
           "showlegend": true,
           "textposition": "auto",
           "texttemplate": "%{x}",
           "type": "bar",
           "x": [
            28504
           ],
           "xaxis": "x",
           "y": [
            "Loja 2"
           ],
           "yaxis": "y"
          },
          {
           "alignmentgroup": "True",
           "hovertemplate": "loja=%{y}<br>ano_mes=2021-08<br>acumulado=%{x}<extra></extra>",
           "legendgroup": "Loja 3",
           "marker": {
            "color": "#00cc96",
            "pattern": {
             "shape": ""
            }
           },
           "name": "Loja 3",
           "offsetgroup": "Loja 3",
           "orientation": "h",
           "showlegend": true,
           "textposition": "auto",
           "texttemplate": "%{x}",
           "type": "bar",
           "x": [
            41189
           ],
           "xaxis": "x",
           "y": [
            "Loja 3"
           ],
           "yaxis": "y"
          },
          {
           "alignmentgroup": "True",
           "hovertemplate": "loja=%{y}<br>ano_mes=2021-08<br>acumulado=%{x}<extra></extra>",
           "legendgroup": "Loja 4",
           "marker": {
            "color": "#ab63fa",
            "pattern": {
             "shape": ""
            }
           },
           "name": "Loja 4",
           "offsetgroup": "Loja 4",
           "orientation": "h",
           "showlegend": true,
           "textposition": "auto",
           "texttemplate": "%{x}",
           "type": "bar",
           "x": [
            57723
           ],
           "xaxis": "x",
           "y": [
            "Loja 4"
           ],
           "yaxis": "y"
          },
          {
           "alignmentgroup": "True",
           "hovertemplate": "loja=%{y}<br>ano_mes=2021-08<br>acumulado=%{x}<extra></extra>",
           "legendgroup": "Loja 5",
           "marker": {
            "color": "#FFA15A",
            "pattern": {
             "shape": ""
            }
           },
           "name": "Loja 5",
           "offsetgroup": "Loja 5",
           "orientation": "h",
           "showlegend": true,
           "textposition": "auto",
           "texttemplate": "%{x}",
           "type": "bar",
           "x": [
            42508
           ],
           "xaxis": "x",
           "y": [
            "Loja 5"
           ],
           "yaxis": "y"
          },
          {
           "alignmentgroup": "True",
           "hovertemplate": "loja=%{y}<br>ano_mes=2021-08<br>acumulado=%{x}<extra></extra>",
           "legendgroup": "Loja 6",
           "marker": {
            "color": "#19d3f3",
            "pattern": {
             "shape": ""
            }
           },
           "name": "Loja 6",
           "offsetgroup": "Loja 6",
           "orientation": "h",
           "showlegend": true,
           "textposition": "auto",
           "texttemplate": "%{x}",
           "type": "bar",
           "x": [
            29598
           ],
           "xaxis": "x",
           "y": [
            "Loja 6"
           ],
           "yaxis": "y"
          }
         ],
         "name": "2021-08"
        },
        {
         "data": [
          {
           "alignmentgroup": "True",
           "hovertemplate": "loja=%{y}<br>ano_mes=2021-09<br>acumulado=%{x}<extra></extra>",
           "legendgroup": "Loja 1",
           "marker": {
            "color": "#636efa",
            "pattern": {
             "shape": ""
            }
           },
           "name": "Loja 1",
           "offsetgroup": "Loja 1",
           "orientation": "h",
           "showlegend": true,
           "textposition": "auto",
           "texttemplate": "%{x}",
           "type": "bar",
           "x": [
            45016
           ],
           "xaxis": "x",
           "y": [
            "Loja 1"
           ],
           "yaxis": "y"
          },
          {
           "alignmentgroup": "True",
           "hovertemplate": "loja=%{y}<br>ano_mes=2021-09<br>acumulado=%{x}<extra></extra>",
           "legendgroup": "Loja 2",
           "marker": {
            "color": "#EF553B",
            "pattern": {
             "shape": ""
            }
           },
           "name": "Loja 2",
           "offsetgroup": "Loja 2",
           "orientation": "h",
           "showlegend": true,
           "textposition": "auto",
           "texttemplate": "%{x}",
           "type": "bar",
           "x": [
            30012
           ],
           "xaxis": "x",
           "y": [
            "Loja 2"
           ],
           "yaxis": "y"
          },
          {
           "alignmentgroup": "True",
           "hovertemplate": "loja=%{y}<br>ano_mes=2021-09<br>acumulado=%{x}<extra></extra>",
           "legendgroup": "Loja 3",
           "marker": {
            "color": "#00cc96",
            "pattern": {
             "shape": ""
            }
           },
           "name": "Loja 3",
           "offsetgroup": "Loja 3",
           "orientation": "h",
           "showlegend": true,
           "textposition": "auto",
           "texttemplate": "%{x}",
           "type": "bar",
           "x": [
            43258
           ],
           "xaxis": "x",
           "y": [
            "Loja 3"
           ],
           "yaxis": "y"
          },
          {
           "alignmentgroup": "True",
           "hovertemplate": "loja=%{y}<br>ano_mes=2021-09<br>acumulado=%{x}<extra></extra>",
           "legendgroup": "Loja 4",
           "marker": {
            "color": "#ab63fa",
            "pattern": {
             "shape": ""
            }
           },
           "name": "Loja 4",
           "offsetgroup": "Loja 4",
           "orientation": "h",
           "showlegend": true,
           "textposition": "auto",
           "texttemplate": "%{x}",
           "type": "bar",
           "x": [
            60019
           ],
           "xaxis": "x",
           "y": [
            "Loja 4"
           ],
           "yaxis": "y"
          },
          {
           "alignmentgroup": "True",
           "hovertemplate": "loja=%{y}<br>ano_mes=2021-09<br>acumulado=%{x}<extra></extra>",
           "legendgroup": "Loja 5",
           "marker": {
            "color": "#FFA15A",
            "pattern": {
             "shape": ""
            }
           },
           "name": "Loja 5",
           "offsetgroup": "Loja 5",
           "orientation": "h",
           "showlegend": true,
           "textposition": "auto",
           "texttemplate": "%{x}",
           "type": "bar",
           "x": [
            44650
           ],
           "xaxis": "x",
           "y": [
            "Loja 5"
           ],
           "yaxis": "y"
          },
          {
           "alignmentgroup": "True",
           "hovertemplate": "loja=%{y}<br>ano_mes=2021-09<br>acumulado=%{x}<extra></extra>",
           "legendgroup": "Loja 6",
           "marker": {
            "color": "#19d3f3",
            "pattern": {
             "shape": ""
            }
           },
           "name": "Loja 6",
           "offsetgroup": "Loja 6",
           "orientation": "h",
           "showlegend": true,
           "textposition": "auto",
           "texttemplate": "%{x}",
           "type": "bar",
           "x": [
            31375
           ],
           "xaxis": "x",
           "y": [
            "Loja 6"
           ],
           "yaxis": "y"
          }
         ],
         "name": "2021-09"
        },
        {
         "data": [
          {
           "alignmentgroup": "True",
           "hovertemplate": "loja=%{y}<br>ano_mes=2021-10<br>acumulado=%{x}<extra></extra>",
           "legendgroup": "Loja 1",
           "marker": {
            "color": "#636efa",
            "pattern": {
             "shape": ""
            }
           },
           "name": "Loja 1",
           "offsetgroup": "Loja 1",
           "orientation": "h",
           "showlegend": true,
           "textposition": "auto",
           "texttemplate": "%{x}",
           "type": "bar",
           "x": [
            47192
           ],
           "xaxis": "x",
           "y": [
            "Loja 1"
           ],
           "yaxis": "y"
          },
          {
           "alignmentgroup": "True",
           "hovertemplate": "loja=%{y}<br>ano_mes=2021-10<br>acumulado=%{x}<extra></extra>",
           "legendgroup": "Loja 2",
           "marker": {
            "color": "#EF553B",
            "pattern": {
             "shape": ""
            }
           },
           "name": "Loja 2",
           "offsetgroup": "Loja 2",
           "orientation": "h",
           "showlegend": true,
           "textposition": "auto",
           "texttemplate": "%{x}",
           "type": "bar",
           "x": [
            31521
           ],
           "xaxis": "x",
           "y": [
            "Loja 2"
           ],
           "yaxis": "y"
          },
          {
           "alignmentgroup": "True",
           "hovertemplate": "loja=%{y}<br>ano_mes=2021-10<br>acumulado=%{x}<extra></extra>",
           "legendgroup": "Loja 3",
           "marker": {
            "color": "#00cc96",
            "pattern": {
             "shape": ""
            }
           },
           "name": "Loja 3",
           "offsetgroup": "Loja 3",
           "orientation": "h",
           "showlegend": true,
           "textposition": "auto",
           "texttemplate": "%{x}",
           "type": "bar",
           "x": [
            45671
           ],
           "xaxis": "x",
           "y": [
            "Loja 3"
           ],
           "yaxis": "y"
          },
          {
           "alignmentgroup": "True",
           "hovertemplate": "loja=%{y}<br>ano_mes=2021-10<br>acumulado=%{x}<extra></extra>",
           "legendgroup": "Loja 4",
           "marker": {
            "color": "#ab63fa",
            "pattern": {
             "shape": ""
            }
           },
           "name": "Loja 4",
           "offsetgroup": "Loja 4",
           "orientation": "h",
           "showlegend": true,
           "textposition": "auto",
           "texttemplate": "%{x}",
           "type": "bar",
           "x": [
            62355
           ],
           "xaxis": "x",
           "y": [
            "Loja 4"
           ],
           "yaxis": "y"
          },
          {
           "alignmentgroup": "True",
           "hovertemplate": "loja=%{y}<br>ano_mes=2021-10<br>acumulado=%{x}<extra></extra>",
           "legendgroup": "Loja 5",
           "marker": {
            "color": "#FFA15A",
            "pattern": {
             "shape": ""
            }
           },
           "name": "Loja 5",
           "offsetgroup": "Loja 5",
           "orientation": "h",
           "showlegend": true,
           "textposition": "auto",
           "texttemplate": "%{x}",
           "type": "bar",
           "x": [
            46657
           ],
           "xaxis": "x",
           "y": [
            "Loja 5"
           ],
           "yaxis": "y"
          },
          {
           "alignmentgroup": "True",
           "hovertemplate": "loja=%{y}<br>ano_mes=2021-10<br>acumulado=%{x}<extra></extra>",
           "legendgroup": "Loja 6",
           "marker": {
            "color": "#19d3f3",
            "pattern": {
             "shape": ""
            }
           },
           "name": "Loja 6",
           "offsetgroup": "Loja 6",
           "orientation": "h",
           "showlegend": true,
           "textposition": "auto",
           "texttemplate": "%{x}",
           "type": "bar",
           "x": [
            33302
           ],
           "xaxis": "x",
           "y": [
            "Loja 6"
           ],
           "yaxis": "y"
          }
         ],
         "name": "2021-10"
        },
        {
         "data": [
          {
           "alignmentgroup": "True",
           "hovertemplate": "loja=%{y}<br>ano_mes=2021-11<br>acumulado=%{x}<extra></extra>",
           "legendgroup": "Loja 1",
           "marker": {
            "color": "#636efa",
            "pattern": {
             "shape": ""
            }
           },
           "name": "Loja 1",
           "offsetgroup": "Loja 1",
           "orientation": "h",
           "showlegend": true,
           "textposition": "auto",
           "texttemplate": "%{x}",
           "type": "bar",
           "x": [
            49249
           ],
           "xaxis": "x",
           "y": [
            "Loja 1"
           ],
           "yaxis": "y"
          },
          {
           "alignmentgroup": "True",
           "hovertemplate": "loja=%{y}<br>ano_mes=2021-11<br>acumulado=%{x}<extra></extra>",
           "legendgroup": "Loja 2",
           "marker": {
            "color": "#EF553B",
            "pattern": {
             "shape": ""
            }
           },
           "name": "Loja 2",
           "offsetgroup": "Loja 2",
           "orientation": "h",
           "showlegend": true,
           "textposition": "auto",
           "texttemplate": "%{x}",
           "type": "bar",
           "x": [
            32924
           ],
           "xaxis": "x",
           "y": [
            "Loja 2"
           ],
           "yaxis": "y"
          },
          {
           "alignmentgroup": "True",
           "hovertemplate": "loja=%{y}<br>ano_mes=2021-11<br>acumulado=%{x}<extra></extra>",
           "legendgroup": "Loja 3",
           "marker": {
            "color": "#00cc96",
            "pattern": {
             "shape": ""
            }
           },
           "name": "Loja 3",
           "offsetgroup": "Loja 3",
           "orientation": "h",
           "showlegend": true,
           "textposition": "auto",
           "texttemplate": "%{x}",
           "type": "bar",
           "x": [
            47919
           ],
           "xaxis": "x",
           "y": [
            "Loja 3"
           ],
           "yaxis": "y"
          },
          {
           "alignmentgroup": "True",
           "hovertemplate": "loja=%{y}<br>ano_mes=2021-11<br>acumulado=%{x}<extra></extra>",
           "legendgroup": "Loja 4",
           "marker": {
            "color": "#ab63fa",
            "pattern": {
             "shape": ""
            }
           },
           "name": "Loja 4",
           "offsetgroup": "Loja 4",
           "orientation": "h",
           "showlegend": true,
           "textposition": "auto",
           "texttemplate": "%{x}",
           "type": "bar",
           "x": [
            64707
           ],
           "xaxis": "x",
           "y": [
            "Loja 4"
           ],
           "yaxis": "y"
          },
          {
           "alignmentgroup": "True",
           "hovertemplate": "loja=%{y}<br>ano_mes=2021-11<br>acumulado=%{x}<extra></extra>",
           "legendgroup": "Loja 5",
           "marker": {
            "color": "#FFA15A",
            "pattern": {
             "shape": ""
            }
           },
           "name": "Loja 5",
           "offsetgroup": "Loja 5",
           "orientation": "h",
           "showlegend": true,
           "textposition": "auto",
           "texttemplate": "%{x}",
           "type": "bar",
           "x": [
            48876
           ],
           "xaxis": "x",
           "y": [
            "Loja 5"
           ],
           "yaxis": "y"
          },
          {
           "alignmentgroup": "True",
           "hovertemplate": "loja=%{y}<br>ano_mes=2021-11<br>acumulado=%{x}<extra></extra>",
           "legendgroup": "Loja 6",
           "marker": {
            "color": "#19d3f3",
            "pattern": {
             "shape": ""
            }
           },
           "name": "Loja 6",
           "offsetgroup": "Loja 6",
           "orientation": "h",
           "showlegend": true,
           "textposition": "auto",
           "texttemplate": "%{x}",
           "type": "bar",
           "x": [
            35226
           ],
           "xaxis": "x",
           "y": [
            "Loja 6"
           ],
           "yaxis": "y"
          }
         ],
         "name": "2021-11"
        },
        {
         "data": [
          {
           "alignmentgroup": "True",
           "hovertemplate": "loja=%{y}<br>ano_mes=2021-12<br>acumulado=%{x}<extra></extra>",
           "legendgroup": "Loja 1",
           "marker": {
            "color": "#636efa",
            "pattern": {
             "shape": ""
            }
           },
           "name": "Loja 1",
           "offsetgroup": "Loja 1",
           "orientation": "h",
           "showlegend": true,
           "textposition": "auto",
           "texttemplate": "%{x}",
           "type": "bar",
           "x": [
            51340
           ],
           "xaxis": "x",
           "y": [
            "Loja 1"
           ],
           "yaxis": "y"
          },
          {
           "alignmentgroup": "True",
           "hovertemplate": "loja=%{y}<br>ano_mes=2021-12<br>acumulado=%{x}<extra></extra>",
           "legendgroup": "Loja 2",
           "marker": {
            "color": "#EF553B",
            "pattern": {
             "shape": ""
            }
           },
           "name": "Loja 2",
           "offsetgroup": "Loja 2",
           "orientation": "h",
           "showlegend": true,
           "textposition": "auto",
           "texttemplate": "%{x}",
           "type": "bar",
           "x": [
            34621
           ],
           "xaxis": "x",
           "y": [
            "Loja 2"
           ],
           "yaxis": "y"
          },
          {
           "alignmentgroup": "True",
           "hovertemplate": "loja=%{y}<br>ano_mes=2021-12<br>acumulado=%{x}<extra></extra>",
           "legendgroup": "Loja 3",
           "marker": {
            "color": "#00cc96",
            "pattern": {
             "shape": ""
            }
           },
           "name": "Loja 3",
           "offsetgroup": "Loja 3",
           "orientation": "h",
           "showlegend": true,
           "textposition": "auto",
           "texttemplate": "%{x}",
           "type": "bar",
           "x": [
            50071
           ],
           "xaxis": "x",
           "y": [
            "Loja 3"
           ],
           "yaxis": "y"
          },
          {
           "alignmentgroup": "True",
           "hovertemplate": "loja=%{y}<br>ano_mes=2021-12<br>acumulado=%{x}<extra></extra>",
           "legendgroup": "Loja 4",
           "marker": {
            "color": "#ab63fa",
            "pattern": {
             "shape": ""
            }
           },
           "name": "Loja 4",
           "offsetgroup": "Loja 4",
           "orientation": "h",
           "showlegend": true,
           "textposition": "auto",
           "texttemplate": "%{x}",
           "type": "bar",
           "x": [
            66139
           ],
           "xaxis": "x",
           "y": [
            "Loja 4"
           ],
           "yaxis": "y"
          },
          {
           "alignmentgroup": "True",
           "hovertemplate": "loja=%{y}<br>ano_mes=2021-12<br>acumulado=%{x}<extra></extra>",
           "legendgroup": "Loja 5",
           "marker": {
            "color": "#FFA15A",
            "pattern": {
             "shape": ""
            }
           },
           "name": "Loja 5",
           "offsetgroup": "Loja 5",
           "orientation": "h",
           "showlegend": true,
           "textposition": "auto",
           "texttemplate": "%{x}",
           "type": "bar",
           "x": [
            50857
           ],
           "xaxis": "x",
           "y": [
            "Loja 5"
           ],
           "yaxis": "y"
          },
          {
           "alignmentgroup": "True",
           "hovertemplate": "loja=%{y}<br>ano_mes=2021-12<br>acumulado=%{x}<extra></extra>",
           "legendgroup": "Loja 6",
           "marker": {
            "color": "#19d3f3",
            "pattern": {
             "shape": ""
            }
           },
           "name": "Loja 6",
           "offsetgroup": "Loja 6",
           "orientation": "h",
           "showlegend": true,
           "textposition": "auto",
           "texttemplate": "%{x}",
           "type": "bar",
           "x": [
            38258
           ],
           "xaxis": "x",
           "y": [
            "Loja 6"
           ],
           "yaxis": "y"
          }
         ],
         "name": "2021-12"
        },
        {
         "data": [
          {
           "alignmentgroup": "True",
           "hovertemplate": "loja=%{y}<br>ano_mes=2022-01<br>acumulado=%{x}<extra></extra>",
           "legendgroup": "Loja 1",
           "marker": {
            "color": "#636efa",
            "pattern": {
             "shape": ""
            }
           },
           "name": "Loja 1",
           "offsetgroup": "Loja 1",
           "orientation": "h",
           "showlegend": true,
           "textposition": "auto",
           "texttemplate": "%{x}",
           "type": "bar",
           "x": [
            55453
           ],
           "xaxis": "x",
           "y": [
            "Loja 1"
           ],
           "yaxis": "y"
          },
          {
           "alignmentgroup": "True",
           "hovertemplate": "loja=%{y}<br>ano_mes=2022-01<br>acumulado=%{x}<extra></extra>",
           "legendgroup": "Loja 2",
           "marker": {
            "color": "#EF553B",
            "pattern": {
             "shape": ""
            }
           },
           "name": "Loja 2",
           "offsetgroup": "Loja 2",
           "orientation": "h",
           "showlegend": true,
           "textposition": "auto",
           "texttemplate": "%{x}",
           "type": "bar",
           "x": [
            37399
           ],
           "xaxis": "x",
           "y": [
            "Loja 2"
           ],
           "yaxis": "y"
          },
          {
           "alignmentgroup": "True",
           "hovertemplate": "loja=%{y}<br>ano_mes=2022-01<br>acumulado=%{x}<extra></extra>",
           "legendgroup": "Loja 3",
           "marker": {
            "color": "#00cc96",
            "pattern": {
             "shape": ""
            }
           },
           "name": "Loja 3",
           "offsetgroup": "Loja 3",
           "orientation": "h",
           "showlegend": true,
           "textposition": "auto",
           "texttemplate": "%{x}",
           "type": "bar",
           "x": [
            54524
           ],
           "xaxis": "x",
           "y": [
            "Loja 3"
           ],
           "yaxis": "y"
          },
          {
           "alignmentgroup": "True",
           "hovertemplate": "loja=%{y}<br>ano_mes=2022-01<br>acumulado=%{x}<extra></extra>",
           "legendgroup": "Loja 4",
           "marker": {
            "color": "#ab63fa",
            "pattern": {
             "shape": ""
            }
           },
           "name": "Loja 4",
           "offsetgroup": "Loja 4",
           "orientation": "h",
           "showlegend": true,
           "textposition": "auto",
           "texttemplate": "%{x}",
           "type": "bar",
           "x": [
            73894
           ],
           "xaxis": "x",
           "y": [
            "Loja 4"
           ],
           "yaxis": "y"
          },
          {
           "alignmentgroup": "True",
           "hovertemplate": "loja=%{y}<br>ano_mes=2022-01<br>acumulado=%{x}<extra></extra>",
           "legendgroup": "Loja 5",
           "marker": {
            "color": "#FFA15A",
            "pattern": {
             "shape": ""
            }
           },
           "name": "Loja 5",
           "offsetgroup": "Loja 5",
           "orientation": "h",
           "showlegend": true,
           "textposition": "auto",
           "texttemplate": "%{x}",
           "type": "bar",
           "x": [
            55261
           ],
           "xaxis": "x",
           "y": [
            "Loja 5"
           ],
           "yaxis": "y"
          },
          {
           "alignmentgroup": "True",
           "hovertemplate": "loja=%{y}<br>ano_mes=2022-01<br>acumulado=%{x}<extra></extra>",
           "legendgroup": "Loja 6",
           "marker": {
            "color": "#19d3f3",
            "pattern": {
             "shape": ""
            }
           },
           "name": "Loja 6",
           "offsetgroup": "Loja 6",
           "orientation": "h",
           "showlegend": true,
           "textposition": "auto",
           "texttemplate": "%{x}",
           "type": "bar",
           "x": [
            39041
           ],
           "xaxis": "x",
           "y": [
            "Loja 6"
           ],
           "yaxis": "y"
          }
         ],
         "name": "2022-01"
        },
        {
         "data": [
          {
           "alignmentgroup": "True",
           "hovertemplate": "loja=%{y}<br>ano_mes=2022-02<br>acumulado=%{x}<extra></extra>",
           "legendgroup": "Loja 1",
           "marker": {
            "color": "#636efa",
            "pattern": {
             "shape": ""
            }
           },
           "name": "Loja 1",
           "offsetgroup": "Loja 1",
           "orientation": "h",
           "showlegend": true,
           "textposition": "auto",
           "texttemplate": "%{x}",
           "type": "bar",
           "x": [
            59526
           ],
           "xaxis": "x",
           "y": [
            "Loja 1"
           ],
           "yaxis": "y"
          },
          {
           "alignmentgroup": "True",
           "hovertemplate": "loja=%{y}<br>ano_mes=2022-02<br>acumulado=%{x}<extra></extra>",
           "legendgroup": "Loja 2",
           "marker": {
            "color": "#EF553B",
            "pattern": {
             "shape": ""
            }
           },
           "name": "Loja 2",
           "offsetgroup": "Loja 2",
           "orientation": "h",
           "showlegend": true,
           "textposition": "auto",
           "texttemplate": "%{x}",
           "type": "bar",
           "x": [
            39954
           ],
           "xaxis": "x",
           "y": [
            "Loja 2"
           ],
           "yaxis": "y"
          },
          {
           "alignmentgroup": "True",
           "hovertemplate": "loja=%{y}<br>ano_mes=2022-02<br>acumulado=%{x}<extra></extra>",
           "legendgroup": "Loja 3",
           "marker": {
            "color": "#00cc96",
            "pattern": {
             "shape": ""
            }
           },
           "name": "Loja 3",
           "offsetgroup": "Loja 3",
           "orientation": "h",
           "showlegend": true,
           "textposition": "auto",
           "texttemplate": "%{x}",
           "type": "bar",
           "x": [
            58346
           ],
           "xaxis": "x",
           "y": [
            "Loja 3"
           ],
           "yaxis": "y"
          },
          {
           "alignmentgroup": "True",
           "hovertemplate": "loja=%{y}<br>ano_mes=2022-02<br>acumulado=%{x}<extra></extra>",
           "legendgroup": "Loja 4",
           "marker": {
            "color": "#ab63fa",
            "pattern": {
             "shape": ""
            }
           },
           "name": "Loja 4",
           "offsetgroup": "Loja 4",
           "orientation": "h",
           "showlegend": true,
           "textposition": "auto",
           "texttemplate": "%{x}",
           "type": "bar",
           "x": [
            77636
           ],
           "xaxis": "x",
           "y": [
            "Loja 4"
           ],
           "yaxis": "y"
          },
          {
           "alignmentgroup": "True",
           "hovertemplate": "loja=%{y}<br>ano_mes=2022-02<br>acumulado=%{x}<extra></extra>",
           "legendgroup": "Loja 5",
           "marker": {
            "color": "#FFA15A",
            "pattern": {
             "shape": ""
            }
           },
           "name": "Loja 5",
           "offsetgroup": "Loja 5",
           "orientation": "h",
           "showlegend": true,
           "textposition": "auto",
           "texttemplate": "%{x}",
           "type": "bar",
           "x": [
            59090
           ],
           "xaxis": "x",
           "y": [
            "Loja 5"
           ],
           "yaxis": "y"
          },
          {
           "alignmentgroup": "True",
           "hovertemplate": "loja=%{y}<br>ano_mes=2022-02<br>acumulado=%{x}<extra></extra>",
           "legendgroup": "Loja 6",
           "marker": {
            "color": "#19d3f3",
            "pattern": {
             "shape": ""
            }
           },
           "name": "Loja 6",
           "offsetgroup": "Loja 6",
           "orientation": "h",
           "showlegend": true,
           "textposition": "auto",
           "texttemplate": "%{x}",
           "type": "bar",
           "x": [
            43274
           ],
           "xaxis": "x",
           "y": [
            "Loja 6"
           ],
           "yaxis": "y"
          }
         ],
         "name": "2022-02"
        },
        {
         "data": [
          {
           "alignmentgroup": "True",
           "hovertemplate": "loja=%{y}<br>ano_mes=2022-03<br>acumulado=%{x}<extra></extra>",
           "legendgroup": "Loja 1",
           "marker": {
            "color": "#636efa",
            "pattern": {
             "shape": ""
            }
           },
           "name": "Loja 1",
           "offsetgroup": "Loja 1",
           "orientation": "h",
           "showlegend": true,
           "textposition": "auto",
           "texttemplate": "%{x}",
           "type": "bar",
           "x": [
            64157
           ],
           "xaxis": "x",
           "y": [
            "Loja 1"
           ],
           "yaxis": "y"
          },
          {
           "alignmentgroup": "True",
           "hovertemplate": "loja=%{y}<br>ano_mes=2022-03<br>acumulado=%{x}<extra></extra>",
           "legendgroup": "Loja 2",
           "marker": {
            "color": "#EF553B",
            "pattern": {
             "shape": ""
            }
           },
           "name": "Loja 2",
           "offsetgroup": "Loja 2",
           "orientation": "h",
           "showlegend": true,
           "textposition": "auto",
           "texttemplate": "%{x}",
           "type": "bar",
           "x": [
            42968
           ],
           "xaxis": "x",
           "y": [
            "Loja 2"
           ],
           "yaxis": "y"
          },
          {
           "alignmentgroup": "True",
           "hovertemplate": "loja=%{y}<br>ano_mes=2022-03<br>acumulado=%{x}<extra></extra>",
           "legendgroup": "Loja 3",
           "marker": {
            "color": "#00cc96",
            "pattern": {
             "shape": ""
            }
           },
           "name": "Loja 3",
           "offsetgroup": "Loja 3",
           "orientation": "h",
           "showlegend": true,
           "textposition": "auto",
           "texttemplate": "%{x}",
           "type": "bar",
           "x": [
            62928
           ],
           "xaxis": "x",
           "y": [
            "Loja 3"
           ],
           "yaxis": "y"
          },
          {
           "alignmentgroup": "True",
           "hovertemplate": "loja=%{y}<br>ano_mes=2022-03<br>acumulado=%{x}<extra></extra>",
           "legendgroup": "Loja 4",
           "marker": {
            "color": "#ab63fa",
            "pattern": {
             "shape": ""
            }
           },
           "name": "Loja 4",
           "offsetgroup": "Loja 4",
           "orientation": "h",
           "showlegend": true,
           "textposition": "auto",
           "texttemplate": "%{x}",
           "type": "bar",
           "x": [
            82448
           ],
           "xaxis": "x",
           "y": [
            "Loja 4"
           ],
           "yaxis": "y"
          },
          {
           "alignmentgroup": "True",
           "hovertemplate": "loja=%{y}<br>ano_mes=2022-03<br>acumulado=%{x}<extra></extra>",
           "legendgroup": "Loja 5",
           "marker": {
            "color": "#FFA15A",
            "pattern": {
             "shape": ""
            }
           },
           "name": "Loja 5",
           "offsetgroup": "Loja 5",
           "orientation": "h",
           "showlegend": true,
           "textposition": "auto",
           "texttemplate": "%{x}",
           "type": "bar",
           "x": [
            63924
           ],
           "xaxis": "x",
           "y": [
            "Loja 5"
           ],
           "yaxis": "y"
          },
          {
           "alignmentgroup": "True",
           "hovertemplate": "loja=%{y}<br>ano_mes=2022-03<br>acumulado=%{x}<extra></extra>",
           "legendgroup": "Loja 6",
           "marker": {
            "color": "#19d3f3",
            "pattern": {
             "shape": ""
            }
           },
           "name": "Loja 6",
           "offsetgroup": "Loja 6",
           "orientation": "h",
           "showlegend": true,
           "textposition": "auto",
           "texttemplate": "%{x}",
           "type": "bar",
           "x": [
            47517
           ],
           "xaxis": "x",
           "y": [
            "Loja 6"
           ],
           "yaxis": "y"
          }
         ],
         "name": "2022-03"
        },
        {
         "data": [
          {
           "alignmentgroup": "True",
           "hovertemplate": "loja=%{y}<br>ano_mes=2022-04<br>acumulado=%{x}<extra></extra>",
           "legendgroup": "Loja 1",
           "marker": {
            "color": "#636efa",
            "pattern": {
             "shape": ""
            }
           },
           "name": "Loja 1",
           "offsetgroup": "Loja 1",
           "orientation": "h",
           "showlegend": true,
           "textposition": "auto",
           "texttemplate": "%{x}",
           "type": "bar",
           "x": [
            68481
           ],
           "xaxis": "x",
           "y": [
            "Loja 1"
           ],
           "yaxis": "y"
          },
          {
           "alignmentgroup": "True",
           "hovertemplate": "loja=%{y}<br>ano_mes=2022-04<br>acumulado=%{x}<extra></extra>",
           "legendgroup": "Loja 2",
           "marker": {
            "color": "#EF553B",
            "pattern": {
             "shape": ""
            }
           },
           "name": "Loja 2",
           "offsetgroup": "Loja 2",
           "orientation": "h",
           "showlegend": true,
           "textposition": "auto",
           "texttemplate": "%{x}",
           "type": "bar",
           "x": [
            45932
           ],
           "xaxis": "x",
           "y": [
            "Loja 2"
           ],
           "yaxis": "y"
          },
          {
           "alignmentgroup": "True",
           "hovertemplate": "loja=%{y}<br>ano_mes=2022-04<br>acumulado=%{x}<extra></extra>",
           "legendgroup": "Loja 3",
           "marker": {
            "color": "#00cc96",
            "pattern": {
             "shape": ""
            }
           },
           "name": "Loja 3",
           "offsetgroup": "Loja 3",
           "orientation": "h",
           "showlegend": true,
           "textposition": "auto",
           "texttemplate": "%{x}",
           "type": "bar",
           "x": [
            66844
           ],
           "xaxis": "x",
           "y": [
            "Loja 3"
           ],
           "yaxis": "y"
          },
          {
           "alignmentgroup": "True",
           "hovertemplate": "loja=%{y}<br>ano_mes=2022-04<br>acumulado=%{x}<extra></extra>",
           "legendgroup": "Loja 4",
           "marker": {
            "color": "#ab63fa",
            "pattern": {
             "shape": ""
            }
           },
           "name": "Loja 4",
           "offsetgroup": "Loja 4",
           "orientation": "h",
           "showlegend": true,
           "textposition": "auto",
           "texttemplate": "%{x}",
           "type": "bar",
           "x": [
            87000
           ],
           "xaxis": "x",
           "y": [
            "Loja 4"
           ],
           "yaxis": "y"
          },
          {
           "alignmentgroup": "True",
           "hovertemplate": "loja=%{y}<br>ano_mes=2022-04<br>acumulado=%{x}<extra></extra>",
           "legendgroup": "Loja 5",
           "marker": {
            "color": "#FFA15A",
            "pattern": {
             "shape": ""
            }
           },
           "name": "Loja 5",
           "offsetgroup": "Loja 5",
           "orientation": "h",
           "showlegend": true,
           "textposition": "auto",
           "texttemplate": "%{x}",
           "type": "bar",
           "x": [
            67679
           ],
           "xaxis": "x",
           "y": [
            "Loja 5"
           ],
           "yaxis": "y"
          },
          {
           "alignmentgroup": "True",
           "hovertemplate": "loja=%{y}<br>ano_mes=2022-04<br>acumulado=%{x}<extra></extra>",
           "legendgroup": "Loja 6",
           "marker": {
            "color": "#19d3f3",
            "pattern": {
             "shape": ""
            }
           },
           "name": "Loja 6",
           "offsetgroup": "Loja 6",
           "orientation": "h",
           "showlegend": true,
           "textposition": "auto",
           "texttemplate": "%{x}",
           "type": "bar",
           "x": [
            51403
           ],
           "xaxis": "x",
           "y": [
            "Loja 6"
           ],
           "yaxis": "y"
          }
         ],
         "name": "2022-04"
        },
        {
         "data": [
          {
           "alignmentgroup": "True",
           "hovertemplate": "loja=%{y}<br>ano_mes=2022-05<br>acumulado=%{x}<extra></extra>",
           "legendgroup": "Loja 1",
           "marker": {
            "color": "#636efa",
            "pattern": {
             "shape": ""
            }
           },
           "name": "Loja 1",
           "offsetgroup": "Loja 1",
           "orientation": "h",
           "showlegend": true,
           "textposition": "auto",
           "texttemplate": "%{x}",
           "type": "bar",
           "x": [
            72999
           ],
           "xaxis": "x",
           "y": [
            "Loja 1"
           ],
           "yaxis": "y"
          },
          {
           "alignmentgroup": "True",
           "hovertemplate": "loja=%{y}<br>ano_mes=2022-05<br>acumulado=%{x}<extra></extra>",
           "legendgroup": "Loja 2",
           "marker": {
            "color": "#EF553B",
            "pattern": {
             "shape": ""
            }
           },
           "name": "Loja 2",
           "offsetgroup": "Loja 2",
           "orientation": "h",
           "showlegend": true,
           "textposition": "auto",
           "texttemplate": "%{x}",
           "type": "bar",
           "x": [
            48981
           ],
           "xaxis": "x",
           "y": [
            "Loja 2"
           ],
           "yaxis": "y"
          },
          {
           "alignmentgroup": "True",
           "hovertemplate": "loja=%{y}<br>ano_mes=2022-05<br>acumulado=%{x}<extra></extra>",
           "legendgroup": "Loja 3",
           "marker": {
            "color": "#00cc96",
            "pattern": {
             "shape": ""
            }
           },
           "name": "Loja 3",
           "offsetgroup": "Loja 3",
           "orientation": "h",
           "showlegend": true,
           "textposition": "auto",
           "texttemplate": "%{x}",
           "type": "bar",
           "x": [
            71304
           ],
           "xaxis": "x",
           "y": [
            "Loja 3"
           ],
           "yaxis": "y"
          },
          {
           "alignmentgroup": "True",
           "hovertemplate": "loja=%{y}<br>ano_mes=2022-05<br>acumulado=%{x}<extra></extra>",
           "legendgroup": "Loja 4",
           "marker": {
            "color": "#ab63fa",
            "pattern": {
             "shape": ""
            }
           },
           "name": "Loja 4",
           "offsetgroup": "Loja 4",
           "orientation": "h",
           "showlegend": true,
           "textposition": "auto",
           "texttemplate": "%{x}",
           "type": "bar",
           "x": [
            92755
           ],
           "xaxis": "x",
           "y": [
            "Loja 4"
           ],
           "yaxis": "y"
          },
          {
           "alignmentgroup": "True",
           "hovertemplate": "loja=%{y}<br>ano_mes=2022-05<br>acumulado=%{x}<extra></extra>",
           "legendgroup": "Loja 5",
           "marker": {
            "color": "#FFA15A",
            "pattern": {
             "shape": ""
            }
           },
           "name": "Loja 5",
           "offsetgroup": "Loja 5",
           "orientation": "h",
           "showlegend": true,
           "textposition": "auto",
           "texttemplate": "%{x}",
           "type": "bar",
           "x": [
            72200
           ],
           "xaxis": "x",
           "y": [
            "Loja 5"
           ],
           "yaxis": "y"
          },
          {
           "alignmentgroup": "True",
           "hovertemplate": "loja=%{y}<br>ano_mes=2022-05<br>acumulado=%{x}<extra></extra>",
           "legendgroup": "Loja 6",
           "marker": {
            "color": "#19d3f3",
            "pattern": {
             "shape": ""
            }
           },
           "name": "Loja 6",
           "offsetgroup": "Loja 6",
           "orientation": "h",
           "showlegend": true,
           "textposition": "auto",
           "texttemplate": "%{x}",
           "type": "bar",
           "x": [
            54545
           ],
           "xaxis": "x",
           "y": [
            "Loja 6"
           ],
           "yaxis": "y"
          }
         ],
         "name": "2022-05"
        },
        {
         "data": [
          {
           "alignmentgroup": "True",
           "hovertemplate": "loja=%{y}<br>ano_mes=2022-06<br>acumulado=%{x}<extra></extra>",
           "legendgroup": "Loja 1",
           "marker": {
            "color": "#636efa",
            "pattern": {
             "shape": ""
            }
           },
           "name": "Loja 1",
           "offsetgroup": "Loja 1",
           "orientation": "h",
           "showlegend": true,
           "textposition": "auto",
           "texttemplate": "%{x}",
           "type": "bar",
           "x": [
            77511
           ],
           "xaxis": "x",
           "y": [
            "Loja 1"
           ],
           "yaxis": "y"
          },
          {
           "alignmentgroup": "True",
           "hovertemplate": "loja=%{y}<br>ano_mes=2022-06<br>acumulado=%{x}<extra></extra>",
           "legendgroup": "Loja 2",
           "marker": {
            "color": "#EF553B",
            "pattern": {
             "shape": ""
            }
           },
           "name": "Loja 2",
           "offsetgroup": "Loja 2",
           "orientation": "h",
           "showlegend": true,
           "textposition": "auto",
           "texttemplate": "%{x}",
           "type": "bar",
           "x": [
            51825
           ],
           "xaxis": "x",
           "y": [
            "Loja 2"
           ],
           "yaxis": "y"
          },
          {
           "alignmentgroup": "True",
           "hovertemplate": "loja=%{y}<br>ano_mes=2022-06<br>acumulado=%{x}<extra></extra>",
           "legendgroup": "Loja 3",
           "marker": {
            "color": "#00cc96",
            "pattern": {
             "shape": ""
            }
           },
           "name": "Loja 3",
           "offsetgroup": "Loja 3",
           "orientation": "h",
           "showlegend": true,
           "textposition": "auto",
           "texttemplate": "%{x}",
           "type": "bar",
           "x": [
            74925
           ],
           "xaxis": "x",
           "y": [
            "Loja 3"
           ],
           "yaxis": "y"
          },
          {
           "alignmentgroup": "True",
           "hovertemplate": "loja=%{y}<br>ano_mes=2022-06<br>acumulado=%{x}<extra></extra>",
           "legendgroup": "Loja 4",
           "marker": {
            "color": "#ab63fa",
            "pattern": {
             "shape": ""
            }
           },
           "name": "Loja 4",
           "offsetgroup": "Loja 4",
           "orientation": "h",
           "showlegend": true,
           "textposition": "auto",
           "texttemplate": "%{x}",
           "type": "bar",
           "x": [
            95444
           ],
           "xaxis": "x",
           "y": [
            "Loja 4"
           ],
           "yaxis": "y"
          },
          {
           "alignmentgroup": "True",
           "hovertemplate": "loja=%{y}<br>ano_mes=2022-06<br>acumulado=%{x}<extra></extra>",
           "legendgroup": "Loja 5",
           "marker": {
            "color": "#FFA15A",
            "pattern": {
             "shape": ""
            }
           },
           "name": "Loja 5",
           "offsetgroup": "Loja 5",
           "orientation": "h",
           "showlegend": true,
           "textposition": "auto",
           "texttemplate": "%{x}",
           "type": "bar",
           "x": [
            76568
           ],
           "xaxis": "x",
           "y": [
            "Loja 5"
           ],
           "yaxis": "y"
          },
          {
           "alignmentgroup": "True",
           "hovertemplate": "loja=%{y}<br>ano_mes=2022-06<br>acumulado=%{x}<extra></extra>",
           "legendgroup": "Loja 6",
           "marker": {
            "color": "#19d3f3",
            "pattern": {
             "shape": ""
            }
           },
           "name": "Loja 6",
           "offsetgroup": "Loja 6",
           "orientation": "h",
           "showlegend": true,
           "textposition": "auto",
           "texttemplate": "%{x}",
           "type": "bar",
           "x": [
            60602
           ],
           "xaxis": "x",
           "y": [
            "Loja 6"
           ],
           "yaxis": "y"
          }
         ],
         "name": "2022-06"
        },
        {
         "data": [
          {
           "alignmentgroup": "True",
           "hovertemplate": "loja=%{y}<br>ano_mes=2022-07<br>acumulado=%{x}<extra></extra>",
           "legendgroup": "Loja 1",
           "marker": {
            "color": "#636efa",
            "pattern": {
             "shape": ""
            }
           },
           "name": "Loja 1",
           "offsetgroup": "Loja 1",
           "orientation": "h",
           "showlegend": true,
           "textposition": "auto",
           "texttemplate": "%{x}",
           "type": "bar",
           "x": [
            81579
           ],
           "xaxis": "x",
           "y": [
            "Loja 1"
           ],
           "yaxis": "y"
          },
          {
           "alignmentgroup": "True",
           "hovertemplate": "loja=%{y}<br>ano_mes=2022-07<br>acumulado=%{x}<extra></extra>",
           "legendgroup": "Loja 2",
           "marker": {
            "color": "#EF553B",
            "pattern": {
             "shape": ""
            }
           },
           "name": "Loja 2",
           "offsetgroup": "Loja 2",
           "orientation": "h",
           "showlegend": true,
           "textposition": "auto",
           "texttemplate": "%{x}",
           "type": "bar",
           "x": [
            55103
           ],
           "xaxis": "x",
           "y": [
            "Loja 2"
           ],
           "yaxis": "y"
          },
          {
           "alignmentgroup": "True",
           "hovertemplate": "loja=%{y}<br>ano_mes=2022-07<br>acumulado=%{x}<extra></extra>",
           "legendgroup": "Loja 3",
           "marker": {
            "color": "#00cc96",
            "pattern": {
             "shape": ""
            }
           },
           "name": "Loja 3",
           "offsetgroup": "Loja 3",
           "orientation": "h",
           "showlegend": true,
           "textposition": "auto",
           "texttemplate": "%{x}",
           "type": "bar",
           "x": [
            77650
           ],
           "xaxis": "x",
           "y": [
            "Loja 3"
           ],
           "yaxis": "y"
          },
          {
           "alignmentgroup": "True",
           "hovertemplate": "loja=%{y}<br>ano_mes=2022-07<br>acumulado=%{x}<extra></extra>",
           "legendgroup": "Loja 4",
           "marker": {
            "color": "#ab63fa",
            "pattern": {
             "shape": ""
            }
           },
           "name": "Loja 4",
           "offsetgroup": "Loja 4",
           "orientation": "h",
           "showlegend": true,
           "textposition": "auto",
           "texttemplate": "%{x}",
           "type": "bar",
           "x": [
            98264
           ],
           "xaxis": "x",
           "y": [
            "Loja 4"
           ],
           "yaxis": "y"
          },
          {
           "alignmentgroup": "True",
           "hovertemplate": "loja=%{y}<br>ano_mes=2022-07<br>acumulado=%{x}<extra></extra>",
           "legendgroup": "Loja 5",
           "marker": {
            "color": "#FFA15A",
            "pattern": {
             "shape": ""
            }
           },
           "name": "Loja 5",
           "offsetgroup": "Loja 5",
           "orientation": "h",
           "showlegend": true,
           "textposition": "auto",
           "texttemplate": "%{x}",
           "type": "bar",
           "x": [
            80931
           ],
           "xaxis": "x",
           "y": [
            "Loja 5"
           ],
           "yaxis": "y"
          },
          {
           "alignmentgroup": "True",
           "hovertemplate": "loja=%{y}<br>ano_mes=2022-07<br>acumulado=%{x}<extra></extra>",
           "legendgroup": "Loja 6",
           "marker": {
            "color": "#19d3f3",
            "pattern": {
             "shape": ""
            }
           },
           "name": "Loja 6",
           "offsetgroup": "Loja 6",
           "orientation": "h",
           "showlegend": true,
           "textposition": "auto",
           "texttemplate": "%{x}",
           "type": "bar",
           "x": [
            69240
           ],
           "xaxis": "x",
           "y": [
            "Loja 6"
           ],
           "yaxis": "y"
          }
         ],
         "name": "2022-07"
        },
        {
         "data": [
          {
           "alignmentgroup": "True",
           "hovertemplate": "loja=%{y}<br>ano_mes=2022-08<br>acumulado=%{x}<extra></extra>",
           "legendgroup": "Loja 1",
           "marker": {
            "color": "#636efa",
            "pattern": {
             "shape": ""
            }
           },
           "name": "Loja 1",
           "offsetgroup": "Loja 1",
           "orientation": "h",
           "showlegend": true,
           "textposition": "auto",
           "texttemplate": "%{x}",
           "type": "bar",
           "x": [
            86138
           ],
           "xaxis": "x",
           "y": [
            "Loja 1"
           ],
           "yaxis": "y"
          },
          {
           "alignmentgroup": "True",
           "hovertemplate": "loja=%{y}<br>ano_mes=2022-08<br>acumulado=%{x}<extra></extra>",
           "legendgroup": "Loja 2",
           "marker": {
            "color": "#EF553B",
            "pattern": {
             "shape": ""
            }
           },
           "name": "Loja 2",
           "offsetgroup": "Loja 2",
           "orientation": "h",
           "showlegend": true,
           "textposition": "auto",
           "texttemplate": "%{x}",
           "type": "bar",
           "x": [
            57833
           ],
           "xaxis": "x",
           "y": [
            "Loja 2"
           ],
           "yaxis": "y"
          },
          {
           "alignmentgroup": "True",
           "hovertemplate": "loja=%{y}<br>ano_mes=2022-08<br>acumulado=%{x}<extra></extra>",
           "legendgroup": "Loja 3",
           "marker": {
            "color": "#00cc96",
            "pattern": {
             "shape": ""
            }
           },
           "name": "Loja 3",
           "offsetgroup": "Loja 3",
           "orientation": "h",
           "showlegend": true,
           "textposition": "auto",
           "texttemplate": "%{x}",
           "type": "bar",
           "x": [
            79685
           ],
           "xaxis": "x",
           "y": [
            "Loja 3"
           ],
           "yaxis": "y"
          },
          {
           "alignmentgroup": "True",
           "hovertemplate": "loja=%{y}<br>ano_mes=2022-08<br>acumulado=%{x}<extra></extra>",
           "legendgroup": "Loja 4",
           "marker": {
            "color": "#ab63fa",
            "pattern": {
             "shape": ""
            }
           },
           "name": "Loja 4",
           "offsetgroup": "Loja 4",
           "orientation": "h",
           "showlegend": true,
           "textposition": "auto",
           "texttemplate": "%{x}",
           "type": "bar",
           "x": [
            100834
           ],
           "xaxis": "x",
           "y": [
            "Loja 4"
           ],
           "yaxis": "y"
          },
          {
           "alignmentgroup": "True",
           "hovertemplate": "loja=%{y}<br>ano_mes=2022-08<br>acumulado=%{x}<extra></extra>",
           "legendgroup": "Loja 5",
           "marker": {
            "color": "#FFA15A",
            "pattern": {
             "shape": ""
            }
           },
           "name": "Loja 5",
           "offsetgroup": "Loja 5",
           "orientation": "h",
           "showlegend": true,
           "textposition": "auto",
           "texttemplate": "%{x}",
           "type": "bar",
           "x": [
            85049
           ],
           "xaxis": "x",
           "y": [
            "Loja 5"
           ],
           "yaxis": "y"
          },
          {
           "alignmentgroup": "True",
           "hovertemplate": "loja=%{y}<br>ano_mes=2022-08<br>acumulado=%{x}<extra></extra>",
           "legendgroup": "Loja 6",
           "marker": {
            "color": "#19d3f3",
            "pattern": {
             "shape": ""
            }
           },
           "name": "Loja 6",
           "offsetgroup": "Loja 6",
           "orientation": "h",
           "showlegend": true,
           "textposition": "auto",
           "texttemplate": "%{x}",
           "type": "bar",
           "x": [
            77097
           ],
           "xaxis": "x",
           "y": [
            "Loja 6"
           ],
           "yaxis": "y"
          }
         ],
         "name": "2022-08"
        },
        {
         "data": [
          {
           "alignmentgroup": "True",
           "hovertemplate": "loja=%{y}<br>ano_mes=2022-09<br>acumulado=%{x}<extra></extra>",
           "legendgroup": "Loja 1",
           "marker": {
            "color": "#636efa",
            "pattern": {
             "shape": ""
            }
           },
           "name": "Loja 1",
           "offsetgroup": "Loja 1",
           "orientation": "h",
           "showlegend": true,
           "textposition": "auto",
           "texttemplate": "%{x}",
           "type": "bar",
           "x": [
            90224
           ],
           "xaxis": "x",
           "y": [
            "Loja 1"
           ],
           "yaxis": "y"
          },
          {
           "alignmentgroup": "True",
           "hovertemplate": "loja=%{y}<br>ano_mes=2022-09<br>acumulado=%{x}<extra></extra>",
           "legendgroup": "Loja 2",
           "marker": {
            "color": "#EF553B",
            "pattern": {
             "shape": ""
            }
           },
           "name": "Loja 2",
           "offsetgroup": "Loja 2",
           "orientation": "h",
           "showlegend": true,
           "textposition": "auto",
           "texttemplate": "%{x}",
           "type": "bar",
           "x": [
            60675
           ],
           "xaxis": "x",
           "y": [
            "Loja 2"
           ],
           "yaxis": "y"
          },
          {
           "alignmentgroup": "True",
           "hovertemplate": "loja=%{y}<br>ano_mes=2022-09<br>acumulado=%{x}<extra></extra>",
           "legendgroup": "Loja 3",
           "marker": {
            "color": "#00cc96",
            "pattern": {
             "shape": ""
            }
           },
           "name": "Loja 3",
           "offsetgroup": "Loja 3",
           "orientation": "h",
           "showlegend": true,
           "textposition": "auto",
           "texttemplate": "%{x}",
           "type": "bar",
           "x": [
            81696
           ],
           "xaxis": "x",
           "y": [
            "Loja 3"
           ],
           "yaxis": "y"
          },
          {
           "alignmentgroup": "True",
           "hovertemplate": "loja=%{y}<br>ano_mes=2022-09<br>acumulado=%{x}<extra></extra>",
           "legendgroup": "Loja 4",
           "marker": {
            "color": "#ab63fa",
            "pattern": {
             "shape": ""
            }
           },
           "name": "Loja 4",
           "offsetgroup": "Loja 4",
           "orientation": "h",
           "showlegend": true,
           "textposition": "auto",
           "texttemplate": "%{x}",
           "type": "bar",
           "x": [
            103612
           ],
           "xaxis": "x",
           "y": [
            "Loja 4"
           ],
           "yaxis": "y"
          },
          {
           "alignmentgroup": "True",
           "hovertemplate": "loja=%{y}<br>ano_mes=2022-09<br>acumulado=%{x}<extra></extra>",
           "legendgroup": "Loja 5",
           "marker": {
            "color": "#FFA15A",
            "pattern": {
             "shape": ""
            }
           },
           "name": "Loja 5",
           "offsetgroup": "Loja 5",
           "orientation": "h",
           "showlegend": true,
           "textposition": "auto",
           "texttemplate": "%{x}",
           "type": "bar",
           "x": [
            89080
           ],
           "xaxis": "x",
           "y": [
            "Loja 5"
           ],
           "yaxis": "y"
          },
          {
           "alignmentgroup": "True",
           "hovertemplate": "loja=%{y}<br>ano_mes=2022-09<br>acumulado=%{x}<extra></extra>",
           "legendgroup": "Loja 6",
           "marker": {
            "color": "#19d3f3",
            "pattern": {
             "shape": ""
            }
           },
           "name": "Loja 6",
           "offsetgroup": "Loja 6",
           "orientation": "h",
           "showlegend": true,
           "textposition": "auto",
           "texttemplate": "%{x}",
           "type": "bar",
           "x": [
            85144
           ],
           "xaxis": "x",
           "y": [
            "Loja 6"
           ],
           "yaxis": "y"
          }
         ],
         "name": "2022-09"
        },
        {
         "data": [
          {
           "alignmentgroup": "True",
           "hovertemplate": "loja=%{y}<br>ano_mes=2022-10<br>acumulado=%{x}<extra></extra>",
           "legendgroup": "Loja 1",
           "marker": {
            "color": "#636efa",
            "pattern": {
             "shape": ""
            }
           },
           "name": "Loja 1",
           "offsetgroup": "Loja 1",
           "orientation": "h",
           "showlegend": true,
           "textposition": "auto",
           "texttemplate": "%{x}",
           "type": "bar",
           "x": [
            94918
           ],
           "xaxis": "x",
           "y": [
            "Loja 1"
           ],
           "yaxis": "y"
          },
          {
           "alignmentgroup": "True",
           "hovertemplate": "loja=%{y}<br>ano_mes=2022-10<br>acumulado=%{x}<extra></extra>",
           "legendgroup": "Loja 2",
           "marker": {
            "color": "#EF553B",
            "pattern": {
             "shape": ""
            }
           },
           "name": "Loja 2",
           "offsetgroup": "Loja 2",
           "orientation": "h",
           "showlegend": true,
           "textposition": "auto",
           "texttemplate": "%{x}",
           "type": "bar",
           "x": [
            63700
           ],
           "xaxis": "x",
           "y": [
            "Loja 2"
           ],
           "yaxis": "y"
          },
          {
           "alignmentgroup": "True",
           "hovertemplate": "loja=%{y}<br>ano_mes=2022-10<br>acumulado=%{x}<extra></extra>",
           "legendgroup": "Loja 3",
           "marker": {
            "color": "#00cc96",
            "pattern": {
             "shape": ""
            }
           },
           "name": "Loja 3",
           "offsetgroup": "Loja 3",
           "orientation": "h",
           "showlegend": true,
           "textposition": "auto",
           "texttemplate": "%{x}",
           "type": "bar",
           "x": [
            83533
           ],
           "xaxis": "x",
           "y": [
            "Loja 3"
           ],
           "yaxis": "y"
          },
          {
           "alignmentgroup": "True",
           "hovertemplate": "loja=%{y}<br>ano_mes=2022-10<br>acumulado=%{x}<extra></extra>",
           "legendgroup": "Loja 4",
           "marker": {
            "color": "#ab63fa",
            "pattern": {
             "shape": ""
            }
           },
           "name": "Loja 4",
           "offsetgroup": "Loja 4",
           "orientation": "h",
           "showlegend": true,
           "textposition": "auto",
           "texttemplate": "%{x}",
           "type": "bar",
           "x": [
            106464
           ],
           "xaxis": "x",
           "y": [
            "Loja 4"
           ],
           "yaxis": "y"
          },
          {
           "alignmentgroup": "True",
           "hovertemplate": "loja=%{y}<br>ano_mes=2022-10<br>acumulado=%{x}<extra></extra>",
           "legendgroup": "Loja 5",
           "marker": {
            "color": "#FFA15A",
            "pattern": {
             "shape": ""
            }
           },
           "name": "Loja 5",
           "offsetgroup": "Loja 5",
           "orientation": "h",
           "showlegend": true,
           "textposition": "auto",
           "texttemplate": "%{x}",
           "type": "bar",
           "x": [
            93425
           ],
           "xaxis": "x",
           "y": [
            "Loja 5"
           ],
           "yaxis": "y"
          },
          {
           "alignmentgroup": "True",
           "hovertemplate": "loja=%{y}<br>ano_mes=2022-10<br>acumulado=%{x}<extra></extra>",
           "legendgroup": "Loja 6",
           "marker": {
            "color": "#19d3f3",
            "pattern": {
             "shape": ""
            }
           },
           "name": "Loja 6",
           "offsetgroup": "Loja 6",
           "orientation": "h",
           "showlegend": true,
           "textposition": "auto",
           "texttemplate": "%{x}",
           "type": "bar",
           "x": [
            93696
           ],
           "xaxis": "x",
           "y": [
            "Loja 6"
           ],
           "yaxis": "y"
          }
         ],
         "name": "2022-10"
        },
        {
         "data": [
          {
           "alignmentgroup": "True",
           "hovertemplate": "loja=%{y}<br>ano_mes=2022-11<br>acumulado=%{x}<extra></extra>",
           "legendgroup": "Loja 1",
           "marker": {
            "color": "#636efa",
            "pattern": {
             "shape": ""
            }
           },
           "name": "Loja 1",
           "offsetgroup": "Loja 1",
           "orientation": "h",
           "showlegend": true,
           "textposition": "auto",
           "texttemplate": "%{x}",
           "type": "bar",
           "x": [
            98707
           ],
           "xaxis": "x",
           "y": [
            "Loja 1"
           ],
           "yaxis": "y"
          },
          {
           "alignmentgroup": "True",
           "hovertemplate": "loja=%{y}<br>ano_mes=2022-11<br>acumulado=%{x}<extra></extra>",
           "legendgroup": "Loja 2",
           "marker": {
            "color": "#EF553B",
            "pattern": {
             "shape": ""
            }
           },
           "name": "Loja 2",
           "offsetgroup": "Loja 2",
           "orientation": "h",
           "showlegend": true,
           "textposition": "auto",
           "texttemplate": "%{x}",
           "type": "bar",
           "x": [
            66623
           ],
           "xaxis": "x",
           "y": [
            "Loja 2"
           ],
           "yaxis": "y"
          },
          {
           "alignmentgroup": "True",
           "hovertemplate": "loja=%{y}<br>ano_mes=2022-11<br>acumulado=%{x}<extra></extra>",
           "legendgroup": "Loja 3",
           "marker": {
            "color": "#00cc96",
            "pattern": {
             "shape": ""
            }
           },
           "name": "Loja 3",
           "offsetgroup": "Loja 3",
           "orientation": "h",
           "showlegend": true,
           "textposition": "auto",
           "texttemplate": "%{x}",
           "type": "bar",
           "x": [
            86092
           ],
           "xaxis": "x",
           "y": [
            "Loja 3"
           ],
           "yaxis": "y"
          },
          {
           "alignmentgroup": "True",
           "hovertemplate": "loja=%{y}<br>ano_mes=2022-11<br>acumulado=%{x}<extra></extra>",
           "legendgroup": "Loja 4",
           "marker": {
            "color": "#ab63fa",
            "pattern": {
             "shape": ""
            }
           },
           "name": "Loja 4",
           "offsetgroup": "Loja 4",
           "orientation": "h",
           "showlegend": true,
           "textposition": "auto",
           "texttemplate": "%{x}",
           "type": "bar",
           "x": [
            109411
           ],
           "xaxis": "x",
           "y": [
            "Loja 4"
           ],
           "yaxis": "y"
          },
          {
           "alignmentgroup": "True",
           "hovertemplate": "loja=%{y}<br>ano_mes=2022-11<br>acumulado=%{x}<extra></extra>",
           "legendgroup": "Loja 5",
           "marker": {
            "color": "#FFA15A",
            "pattern": {
             "shape": ""
            }
           },
           "name": "Loja 5",
           "offsetgroup": "Loja 5",
           "orientation": "h",
           "showlegend": true,
           "textposition": "auto",
           "texttemplate": "%{x}",
           "type": "bar",
           "x": [
            97634
           ],
           "xaxis": "x",
           "y": [
            "Loja 5"
           ],
           "yaxis": "y"
          },
          {
           "alignmentgroup": "True",
           "hovertemplate": "loja=%{y}<br>ano_mes=2022-11<br>acumulado=%{x}<extra></extra>",
           "legendgroup": "Loja 6",
           "marker": {
            "color": "#19d3f3",
            "pattern": {
             "shape": ""
            }
           },
           "name": "Loja 6",
           "offsetgroup": "Loja 6",
           "orientation": "h",
           "showlegend": true,
           "textposition": "auto",
           "texttemplate": "%{x}",
           "type": "bar",
           "x": [
            100968
           ],
           "xaxis": "x",
           "y": [
            "Loja 6"
           ],
           "yaxis": "y"
          }
         ],
         "name": "2022-11"
        },
        {
         "data": [
          {
           "alignmentgroup": "True",
           "hovertemplate": "loja=%{y}<br>ano_mes=2022-12<br>acumulado=%{x}<extra></extra>",
           "legendgroup": "Loja 1",
           "marker": {
            "color": "#636efa",
            "pattern": {
             "shape": ""
            }
           },
           "name": "Loja 1",
           "offsetgroup": "Loja 1",
           "orientation": "h",
           "showlegend": true,
           "textposition": "auto",
           "texttemplate": "%{x}",
           "type": "bar",
           "x": [
            103162
           ],
           "xaxis": "x",
           "y": [
            "Loja 1"
           ],
           "yaxis": "y"
          },
          {
           "alignmentgroup": "True",
           "hovertemplate": "loja=%{y}<br>ano_mes=2022-12<br>acumulado=%{x}<extra></extra>",
           "legendgroup": "Loja 2",
           "marker": {
            "color": "#EF553B",
            "pattern": {
             "shape": ""
            }
           },
           "name": "Loja 2",
           "offsetgroup": "Loja 2",
           "orientation": "h",
           "showlegend": true,
           "textposition": "auto",
           "texttemplate": "%{x}",
           "type": "bar",
           "x": [
            69592
           ],
           "xaxis": "x",
           "y": [
            "Loja 2"
           ],
           "yaxis": "y"
          },
          {
           "alignmentgroup": "True",
           "hovertemplate": "loja=%{y}<br>ano_mes=2022-12<br>acumulado=%{x}<extra></extra>",
           "legendgroup": "Loja 3",
           "marker": {
            "color": "#00cc96",
            "pattern": {
             "shape": ""
            }
           },
           "name": "Loja 3",
           "offsetgroup": "Loja 3",
           "orientation": "h",
           "showlegend": true,
           "textposition": "auto",
           "texttemplate": "%{x}",
           "type": "bar",
           "x": [
            88357
           ],
           "xaxis": "x",
           "y": [
            "Loja 3"
           ],
           "yaxis": "y"
          },
          {
           "alignmentgroup": "True",
           "hovertemplate": "loja=%{y}<br>ano_mes=2022-12<br>acumulado=%{x}<extra></extra>",
           "legendgroup": "Loja 4",
           "marker": {
            "color": "#ab63fa",
            "pattern": {
             "shape": ""
            }
           },
           "name": "Loja 4",
           "offsetgroup": "Loja 4",
           "orientation": "h",
           "showlegend": true,
           "textposition": "auto",
           "texttemplate": "%{x}",
           "type": "bar",
           "x": [
            112379
           ],
           "xaxis": "x",
           "y": [
            "Loja 4"
           ],
           "yaxis": "y"
          },
          {
           "alignmentgroup": "True",
           "hovertemplate": "loja=%{y}<br>ano_mes=2022-12<br>acumulado=%{x}<extra></extra>",
           "legendgroup": "Loja 5",
           "marker": {
            "color": "#FFA15A",
            "pattern": {
             "shape": ""
            }
           },
           "name": "Loja 5",
           "offsetgroup": "Loja 5",
           "orientation": "h",
           "showlegend": true,
           "textposition": "auto",
           "texttemplate": "%{x}",
           "type": "bar",
           "x": [
            102189
           ],
           "xaxis": "x",
           "y": [
            "Loja 5"
           ],
           "yaxis": "y"
          },
          {
           "alignmentgroup": "True",
           "hovertemplate": "loja=%{y}<br>ano_mes=2022-12<br>acumulado=%{x}<extra></extra>",
           "legendgroup": "Loja 6",
           "marker": {
            "color": "#19d3f3",
            "pattern": {
             "shape": ""
            }
           },
           "name": "Loja 6",
           "offsetgroup": "Loja 6",
           "orientation": "h",
           "showlegend": true,
           "textposition": "auto",
           "texttemplate": "%{x}",
           "type": "bar",
           "x": [
            109185
           ],
           "xaxis": "x",
           "y": [
            "Loja 6"
           ],
           "yaxis": "y"
          }
         ],
         "name": "2022-12"
        }
       ],
       "layout": {
        "barmode": "relative",
        "legend": {
         "title": {
          "text": "loja"
         },
         "tracegroupgap": 0
        },
        "margin": {
         "t": 60
        },
        "sliders": [
         {
          "active": 0,
          "currentvalue": {
           "prefix": "ano_mes="
          },
          "len": 0.9,
          "pad": {
           "b": 10,
           "t": 60
          },
          "steps": [
           {
            "args": [
             [
              "2020-01"
             ],
             {
              "frame": {
               "duration": 0,
               "redraw": true
              },
              "fromcurrent": true,
              "mode": "immediate",
              "transition": {
               "duration": 0,
               "easing": "linear"
              }
             }
            ],
            "label": "2020-01",
            "method": "animate"
           },
           {
            "args": [
             [
              "2020-02"
             ],
             {
              "frame": {
               "duration": 0,
               "redraw": true
              },
              "fromcurrent": true,
              "mode": "immediate",
              "transition": {
               "duration": 0,
               "easing": "linear"
              }
             }
            ],
            "label": "2020-02",
            "method": "animate"
           },
           {
            "args": [
             [
              "2020-03"
             ],
             {
              "frame": {
               "duration": 0,
               "redraw": true
              },
              "fromcurrent": true,
              "mode": "immediate",
              "transition": {
               "duration": 0,
               "easing": "linear"
              }
             }
            ],
            "label": "2020-03",
            "method": "animate"
           },
           {
            "args": [
             [
              "2020-04"
             ],
             {
              "frame": {
               "duration": 0,
               "redraw": true
              },
              "fromcurrent": true,
              "mode": "immediate",
              "transition": {
               "duration": 0,
               "easing": "linear"
              }
             }
            ],
            "label": "2020-04",
            "method": "animate"
           },
           {
            "args": [
             [
              "2020-05"
             ],
             {
              "frame": {
               "duration": 0,
               "redraw": true
              },
              "fromcurrent": true,
              "mode": "immediate",
              "transition": {
               "duration": 0,
               "easing": "linear"
              }
             }
            ],
            "label": "2020-05",
            "method": "animate"
           },
           {
            "args": [
             [
              "2020-06"
             ],
             {
              "frame": {
               "duration": 0,
               "redraw": true
              },
              "fromcurrent": true,
              "mode": "immediate",
              "transition": {
               "duration": 0,
               "easing": "linear"
              }
             }
            ],
            "label": "2020-06",
            "method": "animate"
           },
           {
            "args": [
             [
              "2020-07"
             ],
             {
              "frame": {
               "duration": 0,
               "redraw": true
              },
              "fromcurrent": true,
              "mode": "immediate",
              "transition": {
               "duration": 0,
               "easing": "linear"
              }
             }
            ],
            "label": "2020-07",
            "method": "animate"
           },
           {
            "args": [
             [
              "2020-08"
             ],
             {
              "frame": {
               "duration": 0,
               "redraw": true
              },
              "fromcurrent": true,
              "mode": "immediate",
              "transition": {
               "duration": 0,
               "easing": "linear"
              }
             }
            ],
            "label": "2020-08",
            "method": "animate"
           },
           {
            "args": [
             [
              "2020-09"
             ],
             {
              "frame": {
               "duration": 0,
               "redraw": true
              },
              "fromcurrent": true,
              "mode": "immediate",
              "transition": {
               "duration": 0,
               "easing": "linear"
              }
             }
            ],
            "label": "2020-09",
            "method": "animate"
           },
           {
            "args": [
             [
              "2020-10"
             ],
             {
              "frame": {
               "duration": 0,
               "redraw": true
              },
              "fromcurrent": true,
              "mode": "immediate",
              "transition": {
               "duration": 0,
               "easing": "linear"
              }
             }
            ],
            "label": "2020-10",
            "method": "animate"
           },
           {
            "args": [
             [
              "2020-11"
             ],
             {
              "frame": {
               "duration": 0,
               "redraw": true
              },
              "fromcurrent": true,
              "mode": "immediate",
              "transition": {
               "duration": 0,
               "easing": "linear"
              }
             }
            ],
            "label": "2020-11",
            "method": "animate"
           },
           {
            "args": [
             [
              "2020-12"
             ],
             {
              "frame": {
               "duration": 0,
               "redraw": true
              },
              "fromcurrent": true,
              "mode": "immediate",
              "transition": {
               "duration": 0,
               "easing": "linear"
              }
             }
            ],
            "label": "2020-12",
            "method": "animate"
           },
           {
            "args": [
             [
              "2021-01"
             ],
             {
              "frame": {
               "duration": 0,
               "redraw": true
              },
              "fromcurrent": true,
              "mode": "immediate",
              "transition": {
               "duration": 0,
               "easing": "linear"
              }
             }
            ],
            "label": "2021-01",
            "method": "animate"
           },
           {
            "args": [
             [
              "2021-02"
             ],
             {
              "frame": {
               "duration": 0,
               "redraw": true
              },
              "fromcurrent": true,
              "mode": "immediate",
              "transition": {
               "duration": 0,
               "easing": "linear"
              }
             }
            ],
            "label": "2021-02",
            "method": "animate"
           },
           {
            "args": [
             [
              "2021-03"
             ],
             {
              "frame": {
               "duration": 0,
               "redraw": true
              },
              "fromcurrent": true,
              "mode": "immediate",
              "transition": {
               "duration": 0,
               "easing": "linear"
              }
             }
            ],
            "label": "2021-03",
            "method": "animate"
           },
           {
            "args": [
             [
              "2021-04"
             ],
             {
              "frame": {
               "duration": 0,
               "redraw": true
              },
              "fromcurrent": true,
              "mode": "immediate",
              "transition": {
               "duration": 0,
               "easing": "linear"
              }
             }
            ],
            "label": "2021-04",
            "method": "animate"
           },
           {
            "args": [
             [
              "2021-05"
             ],
             {
              "frame": {
               "duration": 0,
               "redraw": true
              },
              "fromcurrent": true,
              "mode": "immediate",
              "transition": {
               "duration": 0,
               "easing": "linear"
              }
             }
            ],
            "label": "2021-05",
            "method": "animate"
           },
           {
            "args": [
             [
              "2021-06"
             ],
             {
              "frame": {
               "duration": 0,
               "redraw": true
              },
              "fromcurrent": true,
              "mode": "immediate",
              "transition": {
               "duration": 0,
               "easing": "linear"
              }
             }
            ],
            "label": "2021-06",
            "method": "animate"
           },
           {
            "args": [
             [
              "2021-07"
             ],
             {
              "frame": {
               "duration": 0,
               "redraw": true
              },
              "fromcurrent": true,
              "mode": "immediate",
              "transition": {
               "duration": 0,
               "easing": "linear"
              }
             }
            ],
            "label": "2021-07",
            "method": "animate"
           },
           {
            "args": [
             [
              "2021-08"
             ],
             {
              "frame": {
               "duration": 0,
               "redraw": true
              },
              "fromcurrent": true,
              "mode": "immediate",
              "transition": {
               "duration": 0,
               "easing": "linear"
              }
             }
            ],
            "label": "2021-08",
            "method": "animate"
           },
           {
            "args": [
             [
              "2021-09"
             ],
             {
              "frame": {
               "duration": 0,
               "redraw": true
              },
              "fromcurrent": true,
              "mode": "immediate",
              "transition": {
               "duration": 0,
               "easing": "linear"
              }
             }
            ],
            "label": "2021-09",
            "method": "animate"
           },
           {
            "args": [
             [
              "2021-10"
             ],
             {
              "frame": {
               "duration": 0,
               "redraw": true
              },
              "fromcurrent": true,
              "mode": "immediate",
              "transition": {
               "duration": 0,
               "easing": "linear"
              }
             }
            ],
            "label": "2021-10",
            "method": "animate"
           },
           {
            "args": [
             [
              "2021-11"
             ],
             {
              "frame": {
               "duration": 0,
               "redraw": true
              },
              "fromcurrent": true,
              "mode": "immediate",
              "transition": {
               "duration": 0,
               "easing": "linear"
              }
             }
            ],
            "label": "2021-11",
            "method": "animate"
           },
           {
            "args": [
             [
              "2021-12"
             ],
             {
              "frame": {
               "duration": 0,
               "redraw": true
              },
              "fromcurrent": true,
              "mode": "immediate",
              "transition": {
               "duration": 0,
               "easing": "linear"
              }
             }
            ],
            "label": "2021-12",
            "method": "animate"
           },
           {
            "args": [
             [
              "2022-01"
             ],
             {
              "frame": {
               "duration": 0,
               "redraw": true
              },
              "fromcurrent": true,
              "mode": "immediate",
              "transition": {
               "duration": 0,
               "easing": "linear"
              }
             }
            ],
            "label": "2022-01",
            "method": "animate"
           },
           {
            "args": [
             [
              "2022-02"
             ],
             {
              "frame": {
               "duration": 0,
               "redraw": true
              },
              "fromcurrent": true,
              "mode": "immediate",
              "transition": {
               "duration": 0,
               "easing": "linear"
              }
             }
            ],
            "label": "2022-02",
            "method": "animate"
           },
           {
            "args": [
             [
              "2022-03"
             ],
             {
              "frame": {
               "duration": 0,
               "redraw": true
              },
              "fromcurrent": true,
              "mode": "immediate",
              "transition": {
               "duration": 0,
               "easing": "linear"
              }
             }
            ],
            "label": "2022-03",
            "method": "animate"
           },
           {
            "args": [
             [
              "2022-04"
             ],
             {
              "frame": {
               "duration": 0,
               "redraw": true
              },
              "fromcurrent": true,
              "mode": "immediate",
              "transition": {
               "duration": 0,
               "easing": "linear"
              }
             }
            ],
            "label": "2022-04",
            "method": "animate"
           },
           {
            "args": [
             [
              "2022-05"
             ],
             {
              "frame": {
               "duration": 0,
               "redraw": true
              },
              "fromcurrent": true,
              "mode": "immediate",
              "transition": {
               "duration": 0,
               "easing": "linear"
              }
             }
            ],
            "label": "2022-05",
            "method": "animate"
           },
           {
            "args": [
             [
              "2022-06"
             ],
             {
              "frame": {
               "duration": 0,
               "redraw": true
              },
              "fromcurrent": true,
              "mode": "immediate",
              "transition": {
               "duration": 0,
               "easing": "linear"
              }
             }
            ],
            "label": "2022-06",
            "method": "animate"
           },
           {
            "args": [
             [
              "2022-07"
             ],
             {
              "frame": {
               "duration": 0,
               "redraw": true
              },
              "fromcurrent": true,
              "mode": "immediate",
              "transition": {
               "duration": 0,
               "easing": "linear"
              }
             }
            ],
            "label": "2022-07",
            "method": "animate"
           },
           {
            "args": [
             [
              "2022-08"
             ],
             {
              "frame": {
               "duration": 0,
               "redraw": true
              },
              "fromcurrent": true,
              "mode": "immediate",
              "transition": {
               "duration": 0,
               "easing": "linear"
              }
             }
            ],
            "label": "2022-08",
            "method": "animate"
           },
           {
            "args": [
             [
              "2022-09"
             ],
             {
              "frame": {
               "duration": 0,
               "redraw": true
              },
              "fromcurrent": true,
              "mode": "immediate",
              "transition": {
               "duration": 0,
               "easing": "linear"
              }
             }
            ],
            "label": "2022-09",
            "method": "animate"
           },
           {
            "args": [
             [
              "2022-10"
             ],
             {
              "frame": {
               "duration": 0,
               "redraw": true
              },
              "fromcurrent": true,
              "mode": "immediate",
              "transition": {
               "duration": 0,
               "easing": "linear"
              }
             }
            ],
            "label": "2022-10",
            "method": "animate"
           },
           {
            "args": [
             [
              "2022-11"
             ],
             {
              "frame": {
               "duration": 0,
               "redraw": true
              },
              "fromcurrent": true,
              "mode": "immediate",
              "transition": {
               "duration": 0,
               "easing": "linear"
              }
             }
            ],
            "label": "2022-11",
            "method": "animate"
           },
           {
            "args": [
             [
              "2022-12"
             ],
             {
              "frame": {
               "duration": 0,
               "redraw": true
              },
              "fromcurrent": true,
              "mode": "immediate",
              "transition": {
               "duration": 0,
               "easing": "linear"
              }
             }
            ],
            "label": "2022-12",
            "method": "animate"
           }
          ],
          "x": 0.1,
          "xanchor": "left",
          "y": 0,
          "yanchor": "top"
         }
        ],
        "template": {
         "data": {
          "bar": [
           {
            "error_x": {
             "color": "#2a3f5f"
            },
            "error_y": {
             "color": "#2a3f5f"
            },
            "marker": {
             "line": {
              "color": "#E5ECF6",
              "width": 0.5
             },
             "pattern": {
              "fillmode": "overlay",
              "size": 10,
              "solidity": 0.2
             }
            },
            "type": "bar"
           }
          ],
          "barpolar": [
           {
            "marker": {
             "line": {
              "color": "#E5ECF6",
              "width": 0.5
             },
             "pattern": {
              "fillmode": "overlay",
              "size": 10,
              "solidity": 0.2
             }
            },
            "type": "barpolar"
           }
          ],
          "carpet": [
           {
            "aaxis": {
             "endlinecolor": "#2a3f5f",
             "gridcolor": "white",
             "linecolor": "white",
             "minorgridcolor": "white",
             "startlinecolor": "#2a3f5f"
            },
            "baxis": {
             "endlinecolor": "#2a3f5f",
             "gridcolor": "white",
             "linecolor": "white",
             "minorgridcolor": "white",
             "startlinecolor": "#2a3f5f"
            },
            "type": "carpet"
           }
          ],
          "choropleth": [
           {
            "colorbar": {
             "outlinewidth": 0,
             "ticks": ""
            },
            "type": "choropleth"
           }
          ],
          "contour": [
           {
            "colorbar": {
             "outlinewidth": 0,
             "ticks": ""
            },
            "colorscale": [
             [
              0,
              "#0d0887"
             ],
             [
              0.1111111111111111,
              "#46039f"
             ],
             [
              0.2222222222222222,
              "#7201a8"
             ],
             [
              0.3333333333333333,
              "#9c179e"
             ],
             [
              0.4444444444444444,
              "#bd3786"
             ],
             [
              0.5555555555555556,
              "#d8576b"
             ],
             [
              0.6666666666666666,
              "#ed7953"
             ],
             [
              0.7777777777777778,
              "#fb9f3a"
             ],
             [
              0.8888888888888888,
              "#fdca26"
             ],
             [
              1,
              "#f0f921"
             ]
            ],
            "type": "contour"
           }
          ],
          "contourcarpet": [
           {
            "colorbar": {
             "outlinewidth": 0,
             "ticks": ""
            },
            "type": "contourcarpet"
           }
          ],
          "heatmap": [
           {
            "colorbar": {
             "outlinewidth": 0,
             "ticks": ""
            },
            "colorscale": [
             [
              0,
              "#0d0887"
             ],
             [
              0.1111111111111111,
              "#46039f"
             ],
             [
              0.2222222222222222,
              "#7201a8"
             ],
             [
              0.3333333333333333,
              "#9c179e"
             ],
             [
              0.4444444444444444,
              "#bd3786"
             ],
             [
              0.5555555555555556,
              "#d8576b"
             ],
             [
              0.6666666666666666,
              "#ed7953"
             ],
             [
              0.7777777777777778,
              "#fb9f3a"
             ],
             [
              0.8888888888888888,
              "#fdca26"
             ],
             [
              1,
              "#f0f921"
             ]
            ],
            "type": "heatmap"
           }
          ],
          "heatmapgl": [
           {
            "colorbar": {
             "outlinewidth": 0,
             "ticks": ""
            },
            "colorscale": [
             [
              0,
              "#0d0887"
             ],
             [
              0.1111111111111111,
              "#46039f"
             ],
             [
              0.2222222222222222,
              "#7201a8"
             ],
             [
              0.3333333333333333,
              "#9c179e"
             ],
             [
              0.4444444444444444,
              "#bd3786"
             ],
             [
              0.5555555555555556,
              "#d8576b"
             ],
             [
              0.6666666666666666,
              "#ed7953"
             ],
             [
              0.7777777777777778,
              "#fb9f3a"
             ],
             [
              0.8888888888888888,
              "#fdca26"
             ],
             [
              1,
              "#f0f921"
             ]
            ],
            "type": "heatmapgl"
           }
          ],
          "histogram": [
           {
            "marker": {
             "pattern": {
              "fillmode": "overlay",
              "size": 10,
              "solidity": 0.2
             }
            },
            "type": "histogram"
           }
          ],
          "histogram2d": [
           {
            "colorbar": {
             "outlinewidth": 0,
             "ticks": ""
            },
            "colorscale": [
             [
              0,
              "#0d0887"
             ],
             [
              0.1111111111111111,
              "#46039f"
             ],
             [
              0.2222222222222222,
              "#7201a8"
             ],
             [
              0.3333333333333333,
              "#9c179e"
             ],
             [
              0.4444444444444444,
              "#bd3786"
             ],
             [
              0.5555555555555556,
              "#d8576b"
             ],
             [
              0.6666666666666666,
              "#ed7953"
             ],
             [
              0.7777777777777778,
              "#fb9f3a"
             ],
             [
              0.8888888888888888,
              "#fdca26"
             ],
             [
              1,
              "#f0f921"
             ]
            ],
            "type": "histogram2d"
           }
          ],
          "histogram2dcontour": [
           {
            "colorbar": {
             "outlinewidth": 0,
             "ticks": ""
            },
            "colorscale": [
             [
              0,
              "#0d0887"
             ],
             [
              0.1111111111111111,
              "#46039f"
             ],
             [
              0.2222222222222222,
              "#7201a8"
             ],
             [
              0.3333333333333333,
              "#9c179e"
             ],
             [
              0.4444444444444444,
              "#bd3786"
             ],
             [
              0.5555555555555556,
              "#d8576b"
             ],
             [
              0.6666666666666666,
              "#ed7953"
             ],
             [
              0.7777777777777778,
              "#fb9f3a"
             ],
             [
              0.8888888888888888,
              "#fdca26"
             ],
             [
              1,
              "#f0f921"
             ]
            ],
            "type": "histogram2dcontour"
           }
          ],
          "mesh3d": [
           {
            "colorbar": {
             "outlinewidth": 0,
             "ticks": ""
            },
            "type": "mesh3d"
           }
          ],
          "parcoords": [
           {
            "line": {
             "colorbar": {
              "outlinewidth": 0,
              "ticks": ""
             }
            },
            "type": "parcoords"
           }
          ],
          "pie": [
           {
            "automargin": true,
            "type": "pie"
           }
          ],
          "scatter": [
           {
            "fillpattern": {
             "fillmode": "overlay",
             "size": 10,
             "solidity": 0.2
            },
            "type": "scatter"
           }
          ],
          "scatter3d": [
           {
            "line": {
             "colorbar": {
              "outlinewidth": 0,
              "ticks": ""
             }
            },
            "marker": {
             "colorbar": {
              "outlinewidth": 0,
              "ticks": ""
             }
            },
            "type": "scatter3d"
           }
          ],
          "scattercarpet": [
           {
            "marker": {
             "colorbar": {
              "outlinewidth": 0,
              "ticks": ""
             }
            },
            "type": "scattercarpet"
           }
          ],
          "scattergeo": [
           {
            "marker": {
             "colorbar": {
              "outlinewidth": 0,
              "ticks": ""
             }
            },
            "type": "scattergeo"
           }
          ],
          "scattergl": [
           {
            "marker": {
             "colorbar": {
              "outlinewidth": 0,
              "ticks": ""
             }
            },
            "type": "scattergl"
           }
          ],
          "scattermapbox": [
           {
            "marker": {
             "colorbar": {
              "outlinewidth": 0,
              "ticks": ""
             }
            },
            "type": "scattermapbox"
           }
          ],
          "scatterpolar": [
           {
            "marker": {
             "colorbar": {
              "outlinewidth": 0,
              "ticks": ""
             }
            },
            "type": "scatterpolar"
           }
          ],
          "scatterpolargl": [
           {
            "marker": {
             "colorbar": {
              "outlinewidth": 0,
              "ticks": ""
             }
            },
            "type": "scatterpolargl"
           }
          ],
          "scatterternary": [
           {
            "marker": {
             "colorbar": {
              "outlinewidth": 0,
              "ticks": ""
             }
            },
            "type": "scatterternary"
           }
          ],
          "surface": [
           {
            "colorbar": {
             "outlinewidth": 0,
             "ticks": ""
            },
            "colorscale": [
             [
              0,
              "#0d0887"
             ],
             [
              0.1111111111111111,
              "#46039f"
             ],
             [
              0.2222222222222222,
              "#7201a8"
             ],
             [
              0.3333333333333333,
              "#9c179e"
             ],
             [
              0.4444444444444444,
              "#bd3786"
             ],
             [
              0.5555555555555556,
              "#d8576b"
             ],
             [
              0.6666666666666666,
              "#ed7953"
             ],
             [
              0.7777777777777778,
              "#fb9f3a"
             ],
             [
              0.8888888888888888,
              "#fdca26"
             ],
             [
              1,
              "#f0f921"
             ]
            ],
            "type": "surface"
           }
          ],
          "table": [
           {
            "cells": {
             "fill": {
              "color": "#EBF0F8"
             },
             "line": {
              "color": "white"
             }
            },
            "header": {
             "fill": {
              "color": "#C8D4E3"
             },
             "line": {
              "color": "white"
             }
            },
            "type": "table"
           }
          ]
         },
         "layout": {
          "annotationdefaults": {
           "arrowcolor": "#2a3f5f",
           "arrowhead": 0,
           "arrowwidth": 1
          },
          "autotypenumbers": "strict",
          "coloraxis": {
           "colorbar": {
            "outlinewidth": 0,
            "ticks": ""
           }
          },
          "colorscale": {
           "diverging": [
            [
             0,
             "#8e0152"
            ],
            [
             0.1,
             "#c51b7d"
            ],
            [
             0.2,
             "#de77ae"
            ],
            [
             0.3,
             "#f1b6da"
            ],
            [
             0.4,
             "#fde0ef"
            ],
            [
             0.5,
             "#f7f7f7"
            ],
            [
             0.6,
             "#e6f5d0"
            ],
            [
             0.7,
             "#b8e186"
            ],
            [
             0.8,
             "#7fbc41"
            ],
            [
             0.9,
             "#4d9221"
            ],
            [
             1,
             "#276419"
            ]
           ],
           "sequential": [
            [
             0,
             "#0d0887"
            ],
            [
             0.1111111111111111,
             "#46039f"
            ],
            [
             0.2222222222222222,
             "#7201a8"
            ],
            [
             0.3333333333333333,
             "#9c179e"
            ],
            [
             0.4444444444444444,
             "#bd3786"
            ],
            [
             0.5555555555555556,
             "#d8576b"
            ],
            [
             0.6666666666666666,
             "#ed7953"
            ],
            [
             0.7777777777777778,
             "#fb9f3a"
            ],
            [
             0.8888888888888888,
             "#fdca26"
            ],
            [
             1,
             "#f0f921"
            ]
           ],
           "sequentialminus": [
            [
             0,
             "#0d0887"
            ],
            [
             0.1111111111111111,
             "#46039f"
            ],
            [
             0.2222222222222222,
             "#7201a8"
            ],
            [
             0.3333333333333333,
             "#9c179e"
            ],
            [
             0.4444444444444444,
             "#bd3786"
            ],
            [
             0.5555555555555556,
             "#d8576b"
            ],
            [
             0.6666666666666666,
             "#ed7953"
            ],
            [
             0.7777777777777778,
             "#fb9f3a"
            ],
            [
             0.8888888888888888,
             "#fdca26"
            ],
            [
             1,
             "#f0f921"
            ]
           ]
          },
          "colorway": [
           "#636efa",
           "#EF553B",
           "#00cc96",
           "#ab63fa",
           "#FFA15A",
           "#19d3f3",
           "#FF6692",
           "#B6E880",
           "#FF97FF",
           "#FECB52"
          ],
          "font": {
           "color": "#2a3f5f"
          },
          "geo": {
           "bgcolor": "white",
           "lakecolor": "white",
           "landcolor": "#E5ECF6",
           "showlakes": true,
           "showland": true,
           "subunitcolor": "white"
          },
          "hoverlabel": {
           "align": "left"
          },
          "hovermode": "closest",
          "mapbox": {
           "style": "light"
          },
          "paper_bgcolor": "white",
          "plot_bgcolor": "#E5ECF6",
          "polar": {
           "angularaxis": {
            "gridcolor": "white",
            "linecolor": "white",
            "ticks": ""
           },
           "bgcolor": "#E5ECF6",
           "radialaxis": {
            "gridcolor": "white",
            "linecolor": "white",
            "ticks": ""
           }
          },
          "scene": {
           "xaxis": {
            "backgroundcolor": "#E5ECF6",
            "gridcolor": "white",
            "gridwidth": 2,
            "linecolor": "white",
            "showbackground": true,
            "ticks": "",
            "zerolinecolor": "white"
           },
           "yaxis": {
            "backgroundcolor": "#E5ECF6",
            "gridcolor": "white",
            "gridwidth": 2,
            "linecolor": "white",
            "showbackground": true,
            "ticks": "",
            "zerolinecolor": "white"
           },
           "zaxis": {
            "backgroundcolor": "#E5ECF6",
            "gridcolor": "white",
            "gridwidth": 2,
            "linecolor": "white",
            "showbackground": true,
            "ticks": "",
            "zerolinecolor": "white"
           }
          },
          "shapedefaults": {
           "line": {
            "color": "#2a3f5f"
           }
          },
          "ternary": {
           "aaxis": {
            "gridcolor": "white",
            "linecolor": "white",
            "ticks": ""
           },
           "baxis": {
            "gridcolor": "white",
            "linecolor": "white",
            "ticks": ""
           },
           "bgcolor": "#E5ECF6",
           "caxis": {
            "gridcolor": "white",
            "linecolor": "white",
            "ticks": ""
           }
          },
          "title": {
           "x": 0.05
          },
          "xaxis": {
           "automargin": true,
           "gridcolor": "white",
           "linecolor": "white",
           "ticks": "",
           "title": {
            "standoff": 15
           },
           "zerolinecolor": "white",
           "zerolinewidth": 2
          },
          "yaxis": {
           "automargin": true,
           "gridcolor": "white",
           "linecolor": "white",
           "ticks": "",
           "title": {
            "standoff": 15
           },
           "zerolinecolor": "white",
           "zerolinewidth": 2
          }
         }
        },
        "updatemenus": [
         {
          "buttons": [
           {
            "args": [
             null,
             {
              "frame": {
               "duration": 500,
               "redraw": true
              },
              "fromcurrent": true,
              "mode": "immediate",
              "transition": {
               "duration": 500,
               "easing": "linear"
              }
             }
            ],
            "label": "&#9654;",
            "method": "animate"
           },
           {
            "args": [
             [
              null
             ],
             {
              "frame": {
               "duration": 0,
               "redraw": true
              },
              "fromcurrent": true,
              "mode": "immediate",
              "transition": {
               "duration": 0,
               "easing": "linear"
              }
             }
            ],
            "label": "&#9724;",
            "method": "animate"
           }
          ],
          "direction": "left",
          "pad": {
           "r": 10,
           "t": 70
          },
          "showactive": false,
          "type": "buttons",
          "x": 0.1,
          "xanchor": "right",
          "y": 0,
          "yanchor": "top"
         }
        ],
        "xaxis": {
         "anchor": "y",
         "domain": [
          0,
          1
         ],
         "range": [
          0,
          160000
         ],
         "title": {
          "text": "acumulado"
         }
        },
        "yaxis": {
         "anchor": "x",
         "categoryarray": [
          "Loja 6",
          "Loja 5",
          "Loja 4",
          "Loja 3",
          "Loja 2",
          "Loja 1"
         ],
         "categoryorder": "array",
         "domain": [
          0,
          1
         ],
         "title": {
          "text": "loja"
         }
        }
       }
      },
      "text/html": [
       "<div>                            <div id=\"a4117c82-c852-4413-b70c-c07dd3ab9759\" class=\"plotly-graph-div\" style=\"height:525px; width:100%;\"></div>            <script type=\"text/javascript\">                require([\"plotly\"], function(Plotly) {                    window.PLOTLYENV=window.PLOTLYENV || {};                                    if (document.getElementById(\"a4117c82-c852-4413-b70c-c07dd3ab9759\")) {                    Plotly.newPlot(                        \"a4117c82-c852-4413-b70c-c07dd3ab9759\",                        [{\"alignmentgroup\":\"True\",\"hovertemplate\":\"loja=%{y}<br>ano_mes=2020-01<br>acumulado=%{x}<extra></extra>\",\"legendgroup\":\"Loja 1\",\"marker\":{\"color\":\"#636efa\",\"pattern\":{\"shape\":\"\"}},\"name\":\"Loja 1\",\"offsetgroup\":\"Loja 1\",\"orientation\":\"h\",\"showlegend\":true,\"textposition\":\"auto\",\"texttemplate\":\"%{x}\",\"x\":[2155],\"xaxis\":\"x\",\"y\":[\"Loja 1\"],\"yaxis\":\"y\",\"type\":\"bar\"},{\"alignmentgroup\":\"True\",\"hovertemplate\":\"loja=%{y}<br>ano_mes=2020-01<br>acumulado=%{x}<extra></extra>\",\"legendgroup\":\"Loja 2\",\"marker\":{\"color\":\"#EF553B\",\"pattern\":{\"shape\":\"\"}},\"name\":\"Loja 2\",\"offsetgroup\":\"Loja 2\",\"orientation\":\"h\",\"showlegend\":true,\"textposition\":\"auto\",\"texttemplate\":\"%{x}\",\"x\":[1202],\"xaxis\":\"x\",\"y\":[\"Loja 2\"],\"yaxis\":\"y\",\"type\":\"bar\"},{\"alignmentgroup\":\"True\",\"hovertemplate\":\"loja=%{y}<br>ano_mes=2020-01<br>acumulado=%{x}<extra></extra>\",\"legendgroup\":\"Loja 3\",\"marker\":{\"color\":\"#00cc96\",\"pattern\":{\"shape\":\"\"}},\"name\":\"Loja 3\",\"offsetgroup\":\"Loja 3\",\"orientation\":\"h\",\"showlegend\":true,\"textposition\":\"auto\",\"texttemplate\":\"%{x}\",\"x\":[2084],\"xaxis\":\"x\",\"y\":[\"Loja 3\"],\"yaxis\":\"y\",\"type\":\"bar\"},{\"alignmentgroup\":\"True\",\"hovertemplate\":\"loja=%{y}<br>ano_mes=2020-01<br>acumulado=%{x}<extra></extra>\",\"legendgroup\":\"Loja 4\",\"marker\":{\"color\":\"#ab63fa\",\"pattern\":{\"shape\":\"\"}},\"name\":\"Loja 4\",\"offsetgroup\":\"Loja 4\",\"orientation\":\"h\",\"showlegend\":true,\"textposition\":\"auto\",\"texttemplate\":\"%{x}\",\"x\":[2584],\"xaxis\":\"x\",\"y\":[\"Loja 4\"],\"yaxis\":\"y\",\"type\":\"bar\"},{\"alignmentgroup\":\"True\",\"hovertemplate\":\"loja=%{y}<br>ano_mes=2020-01<br>acumulado=%{x}<extra></extra>\",\"legendgroup\":\"Loja 5\",\"marker\":{\"color\":\"#FFA15A\",\"pattern\":{\"shape\":\"\"}},\"name\":\"Loja 5\",\"offsetgroup\":\"Loja 5\",\"orientation\":\"h\",\"showlegend\":true,\"textposition\":\"auto\",\"texttemplate\":\"%{x}\",\"x\":[2226],\"xaxis\":\"x\",\"y\":[\"Loja 5\"],\"yaxis\":\"y\",\"type\":\"bar\"},{\"alignmentgroup\":\"True\",\"hovertemplate\":\"loja=%{y}<br>ano_mes=2020-01<br>acumulado=%{x}<extra></extra>\",\"legendgroup\":\"Loja 6\",\"marker\":{\"color\":\"#19d3f3\",\"pattern\":{\"shape\":\"\"}},\"name\":\"Loja 6\",\"offsetgroup\":\"Loja 6\",\"orientation\":\"h\",\"showlegend\":true,\"textposition\":\"auto\",\"texttemplate\":\"%{x}\",\"x\":[1608],\"xaxis\":\"x\",\"y\":[\"Loja 6\"],\"yaxis\":\"y\",\"type\":\"bar\"}],                        {\"template\":{\"data\":{\"histogram2dcontour\":[{\"type\":\"histogram2dcontour\",\"colorbar\":{\"outlinewidth\":0,\"ticks\":\"\"},\"colorscale\":[[0.0,\"#0d0887\"],[0.1111111111111111,\"#46039f\"],[0.2222222222222222,\"#7201a8\"],[0.3333333333333333,\"#9c179e\"],[0.4444444444444444,\"#bd3786\"],[0.5555555555555556,\"#d8576b\"],[0.6666666666666666,\"#ed7953\"],[0.7777777777777778,\"#fb9f3a\"],[0.8888888888888888,\"#fdca26\"],[1.0,\"#f0f921\"]]}],\"choropleth\":[{\"type\":\"choropleth\",\"colorbar\":{\"outlinewidth\":0,\"ticks\":\"\"}}],\"histogram2d\":[{\"type\":\"histogram2d\",\"colorbar\":{\"outlinewidth\":0,\"ticks\":\"\"},\"colorscale\":[[0.0,\"#0d0887\"],[0.1111111111111111,\"#46039f\"],[0.2222222222222222,\"#7201a8\"],[0.3333333333333333,\"#9c179e\"],[0.4444444444444444,\"#bd3786\"],[0.5555555555555556,\"#d8576b\"],[0.6666666666666666,\"#ed7953\"],[0.7777777777777778,\"#fb9f3a\"],[0.8888888888888888,\"#fdca26\"],[1.0,\"#f0f921\"]]}],\"heatmap\":[{\"type\":\"heatmap\",\"colorbar\":{\"outlinewidth\":0,\"ticks\":\"\"},\"colorscale\":[[0.0,\"#0d0887\"],[0.1111111111111111,\"#46039f\"],[0.2222222222222222,\"#7201a8\"],[0.3333333333333333,\"#9c179e\"],[0.4444444444444444,\"#bd3786\"],[0.5555555555555556,\"#d8576b\"],[0.6666666666666666,\"#ed7953\"],[0.7777777777777778,\"#fb9f3a\"],[0.8888888888888888,\"#fdca26\"],[1.0,\"#f0f921\"]]}],\"heatmapgl\":[{\"type\":\"heatmapgl\",\"colorbar\":{\"outlinewidth\":0,\"ticks\":\"\"},\"colorscale\":[[0.0,\"#0d0887\"],[0.1111111111111111,\"#46039f\"],[0.2222222222222222,\"#7201a8\"],[0.3333333333333333,\"#9c179e\"],[0.4444444444444444,\"#bd3786\"],[0.5555555555555556,\"#d8576b\"],[0.6666666666666666,\"#ed7953\"],[0.7777777777777778,\"#fb9f3a\"],[0.8888888888888888,\"#fdca26\"],[1.0,\"#f0f921\"]]}],\"contourcarpet\":[{\"type\":\"contourcarpet\",\"colorbar\":{\"outlinewidth\":0,\"ticks\":\"\"}}],\"contour\":[{\"type\":\"contour\",\"colorbar\":{\"outlinewidth\":0,\"ticks\":\"\"},\"colorscale\":[[0.0,\"#0d0887\"],[0.1111111111111111,\"#46039f\"],[0.2222222222222222,\"#7201a8\"],[0.3333333333333333,\"#9c179e\"],[0.4444444444444444,\"#bd3786\"],[0.5555555555555556,\"#d8576b\"],[0.6666666666666666,\"#ed7953\"],[0.7777777777777778,\"#fb9f3a\"],[0.8888888888888888,\"#fdca26\"],[1.0,\"#f0f921\"]]}],\"surface\":[{\"type\":\"surface\",\"colorbar\":{\"outlinewidth\":0,\"ticks\":\"\"},\"colorscale\":[[0.0,\"#0d0887\"],[0.1111111111111111,\"#46039f\"],[0.2222222222222222,\"#7201a8\"],[0.3333333333333333,\"#9c179e\"],[0.4444444444444444,\"#bd3786\"],[0.5555555555555556,\"#d8576b\"],[0.6666666666666666,\"#ed7953\"],[0.7777777777777778,\"#fb9f3a\"],[0.8888888888888888,\"#fdca26\"],[1.0,\"#f0f921\"]]}],\"mesh3d\":[{\"type\":\"mesh3d\",\"colorbar\":{\"outlinewidth\":0,\"ticks\":\"\"}}],\"scatter\":[{\"fillpattern\":{\"fillmode\":\"overlay\",\"size\":10,\"solidity\":0.2},\"type\":\"scatter\"}],\"parcoords\":[{\"type\":\"parcoords\",\"line\":{\"colorbar\":{\"outlinewidth\":0,\"ticks\":\"\"}}}],\"scatterpolargl\":[{\"type\":\"scatterpolargl\",\"marker\":{\"colorbar\":{\"outlinewidth\":0,\"ticks\":\"\"}}}],\"bar\":[{\"error_x\":{\"color\":\"#2a3f5f\"},\"error_y\":{\"color\":\"#2a3f5f\"},\"marker\":{\"line\":{\"color\":\"#E5ECF6\",\"width\":0.5},\"pattern\":{\"fillmode\":\"overlay\",\"size\":10,\"solidity\":0.2}},\"type\":\"bar\"}],\"scattergeo\":[{\"type\":\"scattergeo\",\"marker\":{\"colorbar\":{\"outlinewidth\":0,\"ticks\":\"\"}}}],\"scatterpolar\":[{\"type\":\"scatterpolar\",\"marker\":{\"colorbar\":{\"outlinewidth\":0,\"ticks\":\"\"}}}],\"histogram\":[{\"marker\":{\"pattern\":{\"fillmode\":\"overlay\",\"size\":10,\"solidity\":0.2}},\"type\":\"histogram\"}],\"scattergl\":[{\"type\":\"scattergl\",\"marker\":{\"colorbar\":{\"outlinewidth\":0,\"ticks\":\"\"}}}],\"scatter3d\":[{\"type\":\"scatter3d\",\"line\":{\"colorbar\":{\"outlinewidth\":0,\"ticks\":\"\"}},\"marker\":{\"colorbar\":{\"outlinewidth\":0,\"ticks\":\"\"}}}],\"scattermapbox\":[{\"type\":\"scattermapbox\",\"marker\":{\"colorbar\":{\"outlinewidth\":0,\"ticks\":\"\"}}}],\"scatterternary\":[{\"type\":\"scatterternary\",\"marker\":{\"colorbar\":{\"outlinewidth\":0,\"ticks\":\"\"}}}],\"scattercarpet\":[{\"type\":\"scattercarpet\",\"marker\":{\"colorbar\":{\"outlinewidth\":0,\"ticks\":\"\"}}}],\"carpet\":[{\"aaxis\":{\"endlinecolor\":\"#2a3f5f\",\"gridcolor\":\"white\",\"linecolor\":\"white\",\"minorgridcolor\":\"white\",\"startlinecolor\":\"#2a3f5f\"},\"baxis\":{\"endlinecolor\":\"#2a3f5f\",\"gridcolor\":\"white\",\"linecolor\":\"white\",\"minorgridcolor\":\"white\",\"startlinecolor\":\"#2a3f5f\"},\"type\":\"carpet\"}],\"table\":[{\"cells\":{\"fill\":{\"color\":\"#EBF0F8\"},\"line\":{\"color\":\"white\"}},\"header\":{\"fill\":{\"color\":\"#C8D4E3\"},\"line\":{\"color\":\"white\"}},\"type\":\"table\"}],\"barpolar\":[{\"marker\":{\"line\":{\"color\":\"#E5ECF6\",\"width\":0.5},\"pattern\":{\"fillmode\":\"overlay\",\"size\":10,\"solidity\":0.2}},\"type\":\"barpolar\"}],\"pie\":[{\"automargin\":true,\"type\":\"pie\"}]},\"layout\":{\"autotypenumbers\":\"strict\",\"colorway\":[\"#636efa\",\"#EF553B\",\"#00cc96\",\"#ab63fa\",\"#FFA15A\",\"#19d3f3\",\"#FF6692\",\"#B6E880\",\"#FF97FF\",\"#FECB52\"],\"font\":{\"color\":\"#2a3f5f\"},\"hovermode\":\"closest\",\"hoverlabel\":{\"align\":\"left\"},\"paper_bgcolor\":\"white\",\"plot_bgcolor\":\"#E5ECF6\",\"polar\":{\"bgcolor\":\"#E5ECF6\",\"angularaxis\":{\"gridcolor\":\"white\",\"linecolor\":\"white\",\"ticks\":\"\"},\"radialaxis\":{\"gridcolor\":\"white\",\"linecolor\":\"white\",\"ticks\":\"\"}},\"ternary\":{\"bgcolor\":\"#E5ECF6\",\"aaxis\":{\"gridcolor\":\"white\",\"linecolor\":\"white\",\"ticks\":\"\"},\"baxis\":{\"gridcolor\":\"white\",\"linecolor\":\"white\",\"ticks\":\"\"},\"caxis\":{\"gridcolor\":\"white\",\"linecolor\":\"white\",\"ticks\":\"\"}},\"coloraxis\":{\"colorbar\":{\"outlinewidth\":0,\"ticks\":\"\"}},\"colorscale\":{\"sequential\":[[0.0,\"#0d0887\"],[0.1111111111111111,\"#46039f\"],[0.2222222222222222,\"#7201a8\"],[0.3333333333333333,\"#9c179e\"],[0.4444444444444444,\"#bd3786\"],[0.5555555555555556,\"#d8576b\"],[0.6666666666666666,\"#ed7953\"],[0.7777777777777778,\"#fb9f3a\"],[0.8888888888888888,\"#fdca26\"],[1.0,\"#f0f921\"]],\"sequentialminus\":[[0.0,\"#0d0887\"],[0.1111111111111111,\"#46039f\"],[0.2222222222222222,\"#7201a8\"],[0.3333333333333333,\"#9c179e\"],[0.4444444444444444,\"#bd3786\"],[0.5555555555555556,\"#d8576b\"],[0.6666666666666666,\"#ed7953\"],[0.7777777777777778,\"#fb9f3a\"],[0.8888888888888888,\"#fdca26\"],[1.0,\"#f0f921\"]],\"diverging\":[[0,\"#8e0152\"],[0.1,\"#c51b7d\"],[0.2,\"#de77ae\"],[0.3,\"#f1b6da\"],[0.4,\"#fde0ef\"],[0.5,\"#f7f7f7\"],[0.6,\"#e6f5d0\"],[0.7,\"#b8e186\"],[0.8,\"#7fbc41\"],[0.9,\"#4d9221\"],[1,\"#276419\"]]},\"xaxis\":{\"gridcolor\":\"white\",\"linecolor\":\"white\",\"ticks\":\"\",\"title\":{\"standoff\":15},\"zerolinecolor\":\"white\",\"automargin\":true,\"zerolinewidth\":2},\"yaxis\":{\"gridcolor\":\"white\",\"linecolor\":\"white\",\"ticks\":\"\",\"title\":{\"standoff\":15},\"zerolinecolor\":\"white\",\"automargin\":true,\"zerolinewidth\":2},\"scene\":{\"xaxis\":{\"backgroundcolor\":\"#E5ECF6\",\"gridcolor\":\"white\",\"linecolor\":\"white\",\"showbackground\":true,\"ticks\":\"\",\"zerolinecolor\":\"white\",\"gridwidth\":2},\"yaxis\":{\"backgroundcolor\":\"#E5ECF6\",\"gridcolor\":\"white\",\"linecolor\":\"white\",\"showbackground\":true,\"ticks\":\"\",\"zerolinecolor\":\"white\",\"gridwidth\":2},\"zaxis\":{\"backgroundcolor\":\"#E5ECF6\",\"gridcolor\":\"white\",\"linecolor\":\"white\",\"showbackground\":true,\"ticks\":\"\",\"zerolinecolor\":\"white\",\"gridwidth\":2}},\"shapedefaults\":{\"line\":{\"color\":\"#2a3f5f\"}},\"annotationdefaults\":{\"arrowcolor\":\"#2a3f5f\",\"arrowhead\":0,\"arrowwidth\":1},\"geo\":{\"bgcolor\":\"white\",\"landcolor\":\"#E5ECF6\",\"subunitcolor\":\"white\",\"showland\":true,\"showlakes\":true,\"lakecolor\":\"white\"},\"title\":{\"x\":0.05},\"mapbox\":{\"style\":\"light\"}}},\"xaxis\":{\"anchor\":\"y\",\"domain\":[0.0,1.0],\"title\":{\"text\":\"acumulado\"},\"range\":[0,160000]},\"yaxis\":{\"anchor\":\"x\",\"domain\":[0.0,1.0],\"title\":{\"text\":\"loja\"},\"categoryorder\":\"array\",\"categoryarray\":[\"Loja 6\",\"Loja 5\",\"Loja 4\",\"Loja 3\",\"Loja 2\",\"Loja 1\"]},\"legend\":{\"title\":{\"text\":\"loja\"},\"tracegroupgap\":0},\"margin\":{\"t\":60},\"barmode\":\"relative\",\"updatemenus\":[{\"buttons\":[{\"args\":[null,{\"frame\":{\"duration\":500,\"redraw\":true},\"mode\":\"immediate\",\"fromcurrent\":true,\"transition\":{\"duration\":500,\"easing\":\"linear\"}}],\"label\":\"&#9654;\",\"method\":\"animate\"},{\"args\":[[null],{\"frame\":{\"duration\":0,\"redraw\":true},\"mode\":\"immediate\",\"fromcurrent\":true,\"transition\":{\"duration\":0,\"easing\":\"linear\"}}],\"label\":\"&#9724;\",\"method\":\"animate\"}],\"direction\":\"left\",\"pad\":{\"r\":10,\"t\":70},\"showactive\":false,\"type\":\"buttons\",\"x\":0.1,\"xanchor\":\"right\",\"y\":0,\"yanchor\":\"top\"}],\"sliders\":[{\"active\":0,\"currentvalue\":{\"prefix\":\"ano_mes=\"},\"len\":0.9,\"pad\":{\"b\":10,\"t\":60},\"steps\":[{\"args\":[[\"2020-01\"],{\"frame\":{\"duration\":0,\"redraw\":true},\"mode\":\"immediate\",\"fromcurrent\":true,\"transition\":{\"duration\":0,\"easing\":\"linear\"}}],\"label\":\"2020-01\",\"method\":\"animate\"},{\"args\":[[\"2020-02\"],{\"frame\":{\"duration\":0,\"redraw\":true},\"mode\":\"immediate\",\"fromcurrent\":true,\"transition\":{\"duration\":0,\"easing\":\"linear\"}}],\"label\":\"2020-02\",\"method\":\"animate\"},{\"args\":[[\"2020-03\"],{\"frame\":{\"duration\":0,\"redraw\":true},\"mode\":\"immediate\",\"fromcurrent\":true,\"transition\":{\"duration\":0,\"easing\":\"linear\"}}],\"label\":\"2020-03\",\"method\":\"animate\"},{\"args\":[[\"2020-04\"],{\"frame\":{\"duration\":0,\"redraw\":true},\"mode\":\"immediate\",\"fromcurrent\":true,\"transition\":{\"duration\":0,\"easing\":\"linear\"}}],\"label\":\"2020-04\",\"method\":\"animate\"},{\"args\":[[\"2020-05\"],{\"frame\":{\"duration\":0,\"redraw\":true},\"mode\":\"immediate\",\"fromcurrent\":true,\"transition\":{\"duration\":0,\"easing\":\"linear\"}}],\"label\":\"2020-05\",\"method\":\"animate\"},{\"args\":[[\"2020-06\"],{\"frame\":{\"duration\":0,\"redraw\":true},\"mode\":\"immediate\",\"fromcurrent\":true,\"transition\":{\"duration\":0,\"easing\":\"linear\"}}],\"label\":\"2020-06\",\"method\":\"animate\"},{\"args\":[[\"2020-07\"],{\"frame\":{\"duration\":0,\"redraw\":true},\"mode\":\"immediate\",\"fromcurrent\":true,\"transition\":{\"duration\":0,\"easing\":\"linear\"}}],\"label\":\"2020-07\",\"method\":\"animate\"},{\"args\":[[\"2020-08\"],{\"frame\":{\"duration\":0,\"redraw\":true},\"mode\":\"immediate\",\"fromcurrent\":true,\"transition\":{\"duration\":0,\"easing\":\"linear\"}}],\"label\":\"2020-08\",\"method\":\"animate\"},{\"args\":[[\"2020-09\"],{\"frame\":{\"duration\":0,\"redraw\":true},\"mode\":\"immediate\",\"fromcurrent\":true,\"transition\":{\"duration\":0,\"easing\":\"linear\"}}],\"label\":\"2020-09\",\"method\":\"animate\"},{\"args\":[[\"2020-10\"],{\"frame\":{\"duration\":0,\"redraw\":true},\"mode\":\"immediate\",\"fromcurrent\":true,\"transition\":{\"duration\":0,\"easing\":\"linear\"}}],\"label\":\"2020-10\",\"method\":\"animate\"},{\"args\":[[\"2020-11\"],{\"frame\":{\"duration\":0,\"redraw\":true},\"mode\":\"immediate\",\"fromcurrent\":true,\"transition\":{\"duration\":0,\"easing\":\"linear\"}}],\"label\":\"2020-11\",\"method\":\"animate\"},{\"args\":[[\"2020-12\"],{\"frame\":{\"duration\":0,\"redraw\":true},\"mode\":\"immediate\",\"fromcurrent\":true,\"transition\":{\"duration\":0,\"easing\":\"linear\"}}],\"label\":\"2020-12\",\"method\":\"animate\"},{\"args\":[[\"2021-01\"],{\"frame\":{\"duration\":0,\"redraw\":true},\"mode\":\"immediate\",\"fromcurrent\":true,\"transition\":{\"duration\":0,\"easing\":\"linear\"}}],\"label\":\"2021-01\",\"method\":\"animate\"},{\"args\":[[\"2021-02\"],{\"frame\":{\"duration\":0,\"redraw\":true},\"mode\":\"immediate\",\"fromcurrent\":true,\"transition\":{\"duration\":0,\"easing\":\"linear\"}}],\"label\":\"2021-02\",\"method\":\"animate\"},{\"args\":[[\"2021-03\"],{\"frame\":{\"duration\":0,\"redraw\":true},\"mode\":\"immediate\",\"fromcurrent\":true,\"transition\":{\"duration\":0,\"easing\":\"linear\"}}],\"label\":\"2021-03\",\"method\":\"animate\"},{\"args\":[[\"2021-04\"],{\"frame\":{\"duration\":0,\"redraw\":true},\"mode\":\"immediate\",\"fromcurrent\":true,\"transition\":{\"duration\":0,\"easing\":\"linear\"}}],\"label\":\"2021-04\",\"method\":\"animate\"},{\"args\":[[\"2021-05\"],{\"frame\":{\"duration\":0,\"redraw\":true},\"mode\":\"immediate\",\"fromcurrent\":true,\"transition\":{\"duration\":0,\"easing\":\"linear\"}}],\"label\":\"2021-05\",\"method\":\"animate\"},{\"args\":[[\"2021-06\"],{\"frame\":{\"duration\":0,\"redraw\":true},\"mode\":\"immediate\",\"fromcurrent\":true,\"transition\":{\"duration\":0,\"easing\":\"linear\"}}],\"label\":\"2021-06\",\"method\":\"animate\"},{\"args\":[[\"2021-07\"],{\"frame\":{\"duration\":0,\"redraw\":true},\"mode\":\"immediate\",\"fromcurrent\":true,\"transition\":{\"duration\":0,\"easing\":\"linear\"}}],\"label\":\"2021-07\",\"method\":\"animate\"},{\"args\":[[\"2021-08\"],{\"frame\":{\"duration\":0,\"redraw\":true},\"mode\":\"immediate\",\"fromcurrent\":true,\"transition\":{\"duration\":0,\"easing\":\"linear\"}}],\"label\":\"2021-08\",\"method\":\"animate\"},{\"args\":[[\"2021-09\"],{\"frame\":{\"duration\":0,\"redraw\":true},\"mode\":\"immediate\",\"fromcurrent\":true,\"transition\":{\"duration\":0,\"easing\":\"linear\"}}],\"label\":\"2021-09\",\"method\":\"animate\"},{\"args\":[[\"2021-10\"],{\"frame\":{\"duration\":0,\"redraw\":true},\"mode\":\"immediate\",\"fromcurrent\":true,\"transition\":{\"duration\":0,\"easing\":\"linear\"}}],\"label\":\"2021-10\",\"method\":\"animate\"},{\"args\":[[\"2021-11\"],{\"frame\":{\"duration\":0,\"redraw\":true},\"mode\":\"immediate\",\"fromcurrent\":true,\"transition\":{\"duration\":0,\"easing\":\"linear\"}}],\"label\":\"2021-11\",\"method\":\"animate\"},{\"args\":[[\"2021-12\"],{\"frame\":{\"duration\":0,\"redraw\":true},\"mode\":\"immediate\",\"fromcurrent\":true,\"transition\":{\"duration\":0,\"easing\":\"linear\"}}],\"label\":\"2021-12\",\"method\":\"animate\"},{\"args\":[[\"2022-01\"],{\"frame\":{\"duration\":0,\"redraw\":true},\"mode\":\"immediate\",\"fromcurrent\":true,\"transition\":{\"duration\":0,\"easing\":\"linear\"}}],\"label\":\"2022-01\",\"method\":\"animate\"},{\"args\":[[\"2022-02\"],{\"frame\":{\"duration\":0,\"redraw\":true},\"mode\":\"immediate\",\"fromcurrent\":true,\"transition\":{\"duration\":0,\"easing\":\"linear\"}}],\"label\":\"2022-02\",\"method\":\"animate\"},{\"args\":[[\"2022-03\"],{\"frame\":{\"duration\":0,\"redraw\":true},\"mode\":\"immediate\",\"fromcurrent\":true,\"transition\":{\"duration\":0,\"easing\":\"linear\"}}],\"label\":\"2022-03\",\"method\":\"animate\"},{\"args\":[[\"2022-04\"],{\"frame\":{\"duration\":0,\"redraw\":true},\"mode\":\"immediate\",\"fromcurrent\":true,\"transition\":{\"duration\":0,\"easing\":\"linear\"}}],\"label\":\"2022-04\",\"method\":\"animate\"},{\"args\":[[\"2022-05\"],{\"frame\":{\"duration\":0,\"redraw\":true},\"mode\":\"immediate\",\"fromcurrent\":true,\"transition\":{\"duration\":0,\"easing\":\"linear\"}}],\"label\":\"2022-05\",\"method\":\"animate\"},{\"args\":[[\"2022-06\"],{\"frame\":{\"duration\":0,\"redraw\":true},\"mode\":\"immediate\",\"fromcurrent\":true,\"transition\":{\"duration\":0,\"easing\":\"linear\"}}],\"label\":\"2022-06\",\"method\":\"animate\"},{\"args\":[[\"2022-07\"],{\"frame\":{\"duration\":0,\"redraw\":true},\"mode\":\"immediate\",\"fromcurrent\":true,\"transition\":{\"duration\":0,\"easing\":\"linear\"}}],\"label\":\"2022-07\",\"method\":\"animate\"},{\"args\":[[\"2022-08\"],{\"frame\":{\"duration\":0,\"redraw\":true},\"mode\":\"immediate\",\"fromcurrent\":true,\"transition\":{\"duration\":0,\"easing\":\"linear\"}}],\"label\":\"2022-08\",\"method\":\"animate\"},{\"args\":[[\"2022-09\"],{\"frame\":{\"duration\":0,\"redraw\":true},\"mode\":\"immediate\",\"fromcurrent\":true,\"transition\":{\"duration\":0,\"easing\":\"linear\"}}],\"label\":\"2022-09\",\"method\":\"animate\"},{\"args\":[[\"2022-10\"],{\"frame\":{\"duration\":0,\"redraw\":true},\"mode\":\"immediate\",\"fromcurrent\":true,\"transition\":{\"duration\":0,\"easing\":\"linear\"}}],\"label\":\"2022-10\",\"method\":\"animate\"},{\"args\":[[\"2022-11\"],{\"frame\":{\"duration\":0,\"redraw\":true},\"mode\":\"immediate\",\"fromcurrent\":true,\"transition\":{\"duration\":0,\"easing\":\"linear\"}}],\"label\":\"2022-11\",\"method\":\"animate\"},{\"args\":[[\"2022-12\"],{\"frame\":{\"duration\":0,\"redraw\":true},\"mode\":\"immediate\",\"fromcurrent\":true,\"transition\":{\"duration\":0,\"easing\":\"linear\"}}],\"label\":\"2022-12\",\"method\":\"animate\"}],\"x\":0.1,\"xanchor\":\"left\",\"y\":0,\"yanchor\":\"top\"}]},                        {\"responsive\": true}                    ).then(function(){\n",
       "                            Plotly.addFrames('a4117c82-c852-4413-b70c-c07dd3ab9759', [{\"data\":[{\"alignmentgroup\":\"True\",\"hovertemplate\":\"loja=%{y}<br>ano_mes=2020-01<br>acumulado=%{x}<extra></extra>\",\"legendgroup\":\"Loja 1\",\"marker\":{\"color\":\"#636efa\",\"pattern\":{\"shape\":\"\"}},\"name\":\"Loja 1\",\"offsetgroup\":\"Loja 1\",\"orientation\":\"h\",\"showlegend\":true,\"textposition\":\"auto\",\"texttemplate\":\"%{x}\",\"x\":[2155],\"xaxis\":\"x\",\"y\":[\"Loja 1\"],\"yaxis\":\"y\",\"type\":\"bar\"},{\"alignmentgroup\":\"True\",\"hovertemplate\":\"loja=%{y}<br>ano_mes=2020-01<br>acumulado=%{x}<extra></extra>\",\"legendgroup\":\"Loja 2\",\"marker\":{\"color\":\"#EF553B\",\"pattern\":{\"shape\":\"\"}},\"name\":\"Loja 2\",\"offsetgroup\":\"Loja 2\",\"orientation\":\"h\",\"showlegend\":true,\"textposition\":\"auto\",\"texttemplate\":\"%{x}\",\"x\":[1202],\"xaxis\":\"x\",\"y\":[\"Loja 2\"],\"yaxis\":\"y\",\"type\":\"bar\"},{\"alignmentgroup\":\"True\",\"hovertemplate\":\"loja=%{y}<br>ano_mes=2020-01<br>acumulado=%{x}<extra></extra>\",\"legendgroup\":\"Loja 3\",\"marker\":{\"color\":\"#00cc96\",\"pattern\":{\"shape\":\"\"}},\"name\":\"Loja 3\",\"offsetgroup\":\"Loja 3\",\"orientation\":\"h\",\"showlegend\":true,\"textposition\":\"auto\",\"texttemplate\":\"%{x}\",\"x\":[2084],\"xaxis\":\"x\",\"y\":[\"Loja 3\"],\"yaxis\":\"y\",\"type\":\"bar\"},{\"alignmentgroup\":\"True\",\"hovertemplate\":\"loja=%{y}<br>ano_mes=2020-01<br>acumulado=%{x}<extra></extra>\",\"legendgroup\":\"Loja 4\",\"marker\":{\"color\":\"#ab63fa\",\"pattern\":{\"shape\":\"\"}},\"name\":\"Loja 4\",\"offsetgroup\":\"Loja 4\",\"orientation\":\"h\",\"showlegend\":true,\"textposition\":\"auto\",\"texttemplate\":\"%{x}\",\"x\":[2584],\"xaxis\":\"x\",\"y\":[\"Loja 4\"],\"yaxis\":\"y\",\"type\":\"bar\"},{\"alignmentgroup\":\"True\",\"hovertemplate\":\"loja=%{y}<br>ano_mes=2020-01<br>acumulado=%{x}<extra></extra>\",\"legendgroup\":\"Loja 5\",\"marker\":{\"color\":\"#FFA15A\",\"pattern\":{\"shape\":\"\"}},\"name\":\"Loja 5\",\"offsetgroup\":\"Loja 5\",\"orientation\":\"h\",\"showlegend\":true,\"textposition\":\"auto\",\"texttemplate\":\"%{x}\",\"x\":[2226],\"xaxis\":\"x\",\"y\":[\"Loja 5\"],\"yaxis\":\"y\",\"type\":\"bar\"},{\"alignmentgroup\":\"True\",\"hovertemplate\":\"loja=%{y}<br>ano_mes=2020-01<br>acumulado=%{x}<extra></extra>\",\"legendgroup\":\"Loja 6\",\"marker\":{\"color\":\"#19d3f3\",\"pattern\":{\"shape\":\"\"}},\"name\":\"Loja 6\",\"offsetgroup\":\"Loja 6\",\"orientation\":\"h\",\"showlegend\":true,\"textposition\":\"auto\",\"texttemplate\":\"%{x}\",\"x\":[1608],\"xaxis\":\"x\",\"y\":[\"Loja 6\"],\"yaxis\":\"y\",\"type\":\"bar\"}],\"name\":\"2020-01\"},{\"data\":[{\"alignmentgroup\":\"True\",\"hovertemplate\":\"loja=%{y}<br>ano_mes=2020-02<br>acumulado=%{x}<extra></extra>\",\"legendgroup\":\"Loja 1\",\"marker\":{\"color\":\"#636efa\",\"pattern\":{\"shape\":\"\"}},\"name\":\"Loja 1\",\"offsetgroup\":\"Loja 1\",\"orientation\":\"h\",\"showlegend\":true,\"textposition\":\"auto\",\"texttemplate\":\"%{x}\",\"x\":[4100],\"xaxis\":\"x\",\"y\":[\"Loja 1\"],\"yaxis\":\"y\",\"type\":\"bar\"},{\"alignmentgroup\":\"True\",\"hovertemplate\":\"loja=%{y}<br>ano_mes=2020-02<br>acumulado=%{x}<extra></extra>\",\"legendgroup\":\"Loja 2\",\"marker\":{\"color\":\"#EF553B\",\"pattern\":{\"shape\":\"\"}},\"name\":\"Loja 2\",\"offsetgroup\":\"Loja 2\",\"orientation\":\"h\",\"showlegend\":true,\"textposition\":\"auto\",\"texttemplate\":\"%{x}\",\"x\":[2408],\"xaxis\":\"x\",\"y\":[\"Loja 2\"],\"yaxis\":\"y\",\"type\":\"bar\"},{\"alignmentgroup\":\"True\",\"hovertemplate\":\"loja=%{y}<br>ano_mes=2020-02<br>acumulado=%{x}<extra></extra>\",\"legendgroup\":\"Loja 3\",\"marker\":{\"color\":\"#00cc96\",\"pattern\":{\"shape\":\"\"}},\"name\":\"Loja 3\",\"offsetgroup\":\"Loja 3\",\"orientation\":\"h\",\"showlegend\":true,\"textposition\":\"auto\",\"texttemplate\":\"%{x}\",\"x\":[4100],\"xaxis\":\"x\",\"y\":[\"Loja 3\"],\"yaxis\":\"y\",\"type\":\"bar\"},{\"alignmentgroup\":\"True\",\"hovertemplate\":\"loja=%{y}<br>ano_mes=2020-02<br>acumulado=%{x}<extra></extra>\",\"legendgroup\":\"Loja 4\",\"marker\":{\"color\":\"#ab63fa\",\"pattern\":{\"shape\":\"\"}},\"name\":\"Loja 4\",\"offsetgroup\":\"Loja 4\",\"orientation\":\"h\",\"showlegend\":true,\"textposition\":\"auto\",\"texttemplate\":\"%{x}\",\"x\":[5709],\"xaxis\":\"x\",\"y\":[\"Loja 4\"],\"yaxis\":\"y\",\"type\":\"bar\"},{\"alignmentgroup\":\"True\",\"hovertemplate\":\"loja=%{y}<br>ano_mes=2020-02<br>acumulado=%{x}<extra></extra>\",\"legendgroup\":\"Loja 5\",\"marker\":{\"color\":\"#FFA15A\",\"pattern\":{\"shape\":\"\"}},\"name\":\"Loja 5\",\"offsetgroup\":\"Loja 5\",\"orientation\":\"h\",\"showlegend\":true,\"textposition\":\"auto\",\"texttemplate\":\"%{x}\",\"x\":[4200],\"xaxis\":\"x\",\"y\":[\"Loja 5\"],\"yaxis\":\"y\",\"type\":\"bar\"},{\"alignmentgroup\":\"True\",\"hovertemplate\":\"loja=%{y}<br>ano_mes=2020-02<br>acumulado=%{x}<extra></extra>\",\"legendgroup\":\"Loja 6\",\"marker\":{\"color\":\"#19d3f3\",\"pattern\":{\"shape\":\"\"}},\"name\":\"Loja 6\",\"offsetgroup\":\"Loja 6\",\"orientation\":\"h\",\"showlegend\":true,\"textposition\":\"auto\",\"texttemplate\":\"%{x}\",\"x\":[2571],\"xaxis\":\"x\",\"y\":[\"Loja 6\"],\"yaxis\":\"y\",\"type\":\"bar\"}],\"name\":\"2020-02\"},{\"data\":[{\"alignmentgroup\":\"True\",\"hovertemplate\":\"loja=%{y}<br>ano_mes=2020-03<br>acumulado=%{x}<extra></extra>\",\"legendgroup\":\"Loja 1\",\"marker\":{\"color\":\"#636efa\",\"pattern\":{\"shape\":\"\"}},\"name\":\"Loja 1\",\"offsetgroup\":\"Loja 1\",\"orientation\":\"h\",\"showlegend\":true,\"textposition\":\"auto\",\"texttemplate\":\"%{x}\",\"x\":[6398],\"xaxis\":\"x\",\"y\":[\"Loja 1\"],\"yaxis\":\"y\",\"type\":\"bar\"},{\"alignmentgroup\":\"True\",\"hovertemplate\":\"loja=%{y}<br>ano_mes=2020-03<br>acumulado=%{x}<extra></extra>\",\"legendgroup\":\"Loja 2\",\"marker\":{\"color\":\"#EF553B\",\"pattern\":{\"shape\":\"\"}},\"name\":\"Loja 2\",\"offsetgroup\":\"Loja 2\",\"orientation\":\"h\",\"showlegend\":true,\"textposition\":\"auto\",\"texttemplate\":\"%{x}\",\"x\":[4249],\"xaxis\":\"x\",\"y\":[\"Loja 2\"],\"yaxis\":\"y\",\"type\":\"bar\"},{\"alignmentgroup\":\"True\",\"hovertemplate\":\"loja=%{y}<br>ano_mes=2020-03<br>acumulado=%{x}<extra></extra>\",\"legendgroup\":\"Loja 3\",\"marker\":{\"color\":\"#00cc96\",\"pattern\":{\"shape\":\"\"}},\"name\":\"Loja 3\",\"offsetgroup\":\"Loja 3\",\"orientation\":\"h\",\"showlegend\":true,\"textposition\":\"auto\",\"texttemplate\":\"%{x}\",\"x\":[6277],\"xaxis\":\"x\",\"y\":[\"Loja 3\"],\"yaxis\":\"y\",\"type\":\"bar\"},{\"alignmentgroup\":\"True\",\"hovertemplate\":\"loja=%{y}<br>ano_mes=2020-03<br>acumulado=%{x}<extra></extra>\",\"legendgroup\":\"Loja 4\",\"marker\":{\"color\":\"#ab63fa\",\"pattern\":{\"shape\":\"\"}},\"name\":\"Loja 4\",\"offsetgroup\":\"Loja 4\",\"orientation\":\"h\",\"showlegend\":true,\"textposition\":\"auto\",\"texttemplate\":\"%{x}\",\"x\":[8805],\"xaxis\":\"x\",\"y\":[\"Loja 4\"],\"yaxis\":\"y\",\"type\":\"bar\"},{\"alignmentgroup\":\"True\",\"hovertemplate\":\"loja=%{y}<br>ano_mes=2020-03<br>acumulado=%{x}<extra></extra>\",\"legendgroup\":\"Loja 5\",\"marker\":{\"color\":\"#FFA15A\",\"pattern\":{\"shape\":\"\"}},\"name\":\"Loja 5\",\"offsetgroup\":\"Loja 5\",\"orientation\":\"h\",\"showlegend\":true,\"textposition\":\"auto\",\"texttemplate\":\"%{x}\",\"x\":[6624],\"xaxis\":\"x\",\"y\":[\"Loja 5\"],\"yaxis\":\"y\",\"type\":\"bar\"},{\"alignmentgroup\":\"True\",\"hovertemplate\":\"loja=%{y}<br>ano_mes=2020-03<br>acumulado=%{x}<extra></extra>\",\"legendgroup\":\"Loja 6\",\"marker\":{\"color\":\"#19d3f3\",\"pattern\":{\"shape\":\"\"}},\"name\":\"Loja 6\",\"offsetgroup\":\"Loja 6\",\"orientation\":\"h\",\"showlegend\":true,\"textposition\":\"auto\",\"texttemplate\":\"%{x}\",\"x\":[4250],\"xaxis\":\"x\",\"y\":[\"Loja 6\"],\"yaxis\":\"y\",\"type\":\"bar\"}],\"name\":\"2020-03\"},{\"data\":[{\"alignmentgroup\":\"True\",\"hovertemplate\":\"loja=%{y}<br>ano_mes=2020-04<br>acumulado=%{x}<extra></extra>\",\"legendgroup\":\"Loja 1\",\"marker\":{\"color\":\"#636efa\",\"pattern\":{\"shape\":\"\"}},\"name\":\"Loja 1\",\"offsetgroup\":\"Loja 1\",\"orientation\":\"h\",\"showlegend\":true,\"textposition\":\"auto\",\"texttemplate\":\"%{x}\",\"x\":[8259],\"xaxis\":\"x\",\"y\":[\"Loja 1\"],\"yaxis\":\"y\",\"type\":\"bar\"},{\"alignmentgroup\":\"True\",\"hovertemplate\":\"loja=%{y}<br>ano_mes=2020-04<br>acumulado=%{x}<extra></extra>\",\"legendgroup\":\"Loja 2\",\"marker\":{\"color\":\"#EF553B\",\"pattern\":{\"shape\":\"\"}},\"name\":\"Loja 2\",\"offsetgroup\":\"Loja 2\",\"orientation\":\"h\",\"showlegend\":true,\"textposition\":\"auto\",\"texttemplate\":\"%{x}\",\"x\":[5359],\"xaxis\":\"x\",\"y\":[\"Loja 2\"],\"yaxis\":\"y\",\"type\":\"bar\"},{\"alignmentgroup\":\"True\",\"hovertemplate\":\"loja=%{y}<br>ano_mes=2020-04<br>acumulado=%{x}<extra></extra>\",\"legendgroup\":\"Loja 3\",\"marker\":{\"color\":\"#00cc96\",\"pattern\":{\"shape\":\"\"}},\"name\":\"Loja 3\",\"offsetgroup\":\"Loja 3\",\"orientation\":\"h\",\"showlegend\":true,\"textposition\":\"auto\",\"texttemplate\":\"%{x}\",\"x\":[8337],\"xaxis\":\"x\",\"y\":[\"Loja 3\"],\"yaxis\":\"y\",\"type\":\"bar\"},{\"alignmentgroup\":\"True\",\"hovertemplate\":\"loja=%{y}<br>ano_mes=2020-04<br>acumulado=%{x}<extra></extra>\",\"legendgroup\":\"Loja 4\",\"marker\":{\"color\":\"#ab63fa\",\"pattern\":{\"shape\":\"\"}},\"name\":\"Loja 4\",\"offsetgroup\":\"Loja 4\",\"orientation\":\"h\",\"showlegend\":true,\"textposition\":\"auto\",\"texttemplate\":\"%{x}\",\"x\":[11867],\"xaxis\":\"x\",\"y\":[\"Loja 4\"],\"yaxis\":\"y\",\"type\":\"bar\"},{\"alignmentgroup\":\"True\",\"hovertemplate\":\"loja=%{y}<br>ano_mes=2020-04<br>acumulado=%{x}<extra></extra>\",\"legendgroup\":\"Loja 5\",\"marker\":{\"color\":\"#FFA15A\",\"pattern\":{\"shape\":\"\"}},\"name\":\"Loja 5\",\"offsetgroup\":\"Loja 5\",\"orientation\":\"h\",\"showlegend\":true,\"textposition\":\"auto\",\"texttemplate\":\"%{x}\",\"x\":[8675],\"xaxis\":\"x\",\"y\":[\"Loja 5\"],\"yaxis\":\"y\",\"type\":\"bar\"},{\"alignmentgroup\":\"True\",\"hovertemplate\":\"loja=%{y}<br>ano_mes=2020-04<br>acumulado=%{x}<extra></extra>\",\"legendgroup\":\"Loja 6\",\"marker\":{\"color\":\"#19d3f3\",\"pattern\":{\"shape\":\"\"}},\"name\":\"Loja 6\",\"offsetgroup\":\"Loja 6\",\"orientation\":\"h\",\"showlegend\":true,\"textposition\":\"auto\",\"texttemplate\":\"%{x}\",\"x\":[5436],\"xaxis\":\"x\",\"y\":[\"Loja 6\"],\"yaxis\":\"y\",\"type\":\"bar\"}],\"name\":\"2020-04\"},{\"data\":[{\"alignmentgroup\":\"True\",\"hovertemplate\":\"loja=%{y}<br>ano_mes=2020-05<br>acumulado=%{x}<extra></extra>\",\"legendgroup\":\"Loja 1\",\"marker\":{\"color\":\"#636efa\",\"pattern\":{\"shape\":\"\"}},\"name\":\"Loja 1\",\"offsetgroup\":\"Loja 1\",\"orientation\":\"h\",\"showlegend\":true,\"textposition\":\"auto\",\"texttemplate\":\"%{x}\",\"x\":[10380],\"xaxis\":\"x\",\"y\":[\"Loja 1\"],\"yaxis\":\"y\",\"type\":\"bar\"},{\"alignmentgroup\":\"True\",\"hovertemplate\":\"loja=%{y}<br>ano_mes=2020-05<br>acumulado=%{x}<extra></extra>\",\"legendgroup\":\"Loja 2\",\"marker\":{\"color\":\"#EF553B\",\"pattern\":{\"shape\":\"\"}},\"name\":\"Loja 2\",\"offsetgroup\":\"Loja 2\",\"orientation\":\"h\",\"showlegend\":true,\"textposition\":\"auto\",\"texttemplate\":\"%{x}\",\"x\":[6849],\"xaxis\":\"x\",\"y\":[\"Loja 2\"],\"yaxis\":\"y\",\"type\":\"bar\"},{\"alignmentgroup\":\"True\",\"hovertemplate\":\"loja=%{y}<br>ano_mes=2020-05<br>acumulado=%{x}<extra></extra>\",\"legendgroup\":\"Loja 3\",\"marker\":{\"color\":\"#00cc96\",\"pattern\":{\"shape\":\"\"}},\"name\":\"Loja 3\",\"offsetgroup\":\"Loja 3\",\"orientation\":\"h\",\"showlegend\":true,\"textposition\":\"auto\",\"texttemplate\":\"%{x}\",\"x\":[10577],\"xaxis\":\"x\",\"y\":[\"Loja 3\"],\"yaxis\":\"y\",\"type\":\"bar\"},{\"alignmentgroup\":\"True\",\"hovertemplate\":\"loja=%{y}<br>ano_mes=2020-05<br>acumulado=%{x}<extra></extra>\",\"legendgroup\":\"Loja 4\",\"marker\":{\"color\":\"#ab63fa\",\"pattern\":{\"shape\":\"\"}},\"name\":\"Loja 4\",\"offsetgroup\":\"Loja 4\",\"orientation\":\"h\",\"showlegend\":true,\"textposition\":\"auto\",\"texttemplate\":\"%{x}\",\"x\":[14966],\"xaxis\":\"x\",\"y\":[\"Loja 4\"],\"yaxis\":\"y\",\"type\":\"bar\"},{\"alignmentgroup\":\"True\",\"hovertemplate\":\"loja=%{y}<br>ano_mes=2020-05<br>acumulado=%{x}<extra></extra>\",\"legendgroup\":\"Loja 5\",\"marker\":{\"color\":\"#FFA15A\",\"pattern\":{\"shape\":\"\"}},\"name\":\"Loja 5\",\"offsetgroup\":\"Loja 5\",\"orientation\":\"h\",\"showlegend\":true,\"textposition\":\"auto\",\"texttemplate\":\"%{x}\",\"x\":[10819],\"xaxis\":\"x\",\"y\":[\"Loja 5\"],\"yaxis\":\"y\",\"type\":\"bar\"},{\"alignmentgroup\":\"True\",\"hovertemplate\":\"loja=%{y}<br>ano_mes=2020-05<br>acumulado=%{x}<extra></extra>\",\"legendgroup\":\"Loja 6\",\"marker\":{\"color\":\"#19d3f3\",\"pattern\":{\"shape\":\"\"}},\"name\":\"Loja 6\",\"offsetgroup\":\"Loja 6\",\"orientation\":\"h\",\"showlegend\":true,\"textposition\":\"auto\",\"texttemplate\":\"%{x}\",\"x\":[6596],\"xaxis\":\"x\",\"y\":[\"Loja 6\"],\"yaxis\":\"y\",\"type\":\"bar\"}],\"name\":\"2020-05\"},{\"data\":[{\"alignmentgroup\":\"True\",\"hovertemplate\":\"loja=%{y}<br>ano_mes=2020-06<br>acumulado=%{x}<extra></extra>\",\"legendgroup\":\"Loja 1\",\"marker\":{\"color\":\"#636efa\",\"pattern\":{\"shape\":\"\"}},\"name\":\"Loja 1\",\"offsetgroup\":\"Loja 1\",\"orientation\":\"h\",\"showlegend\":true,\"textposition\":\"auto\",\"texttemplate\":\"%{x}\",\"x\":[12720],\"xaxis\":\"x\",\"y\":[\"Loja 1\"],\"yaxis\":\"y\",\"type\":\"bar\"},{\"alignmentgroup\":\"True\",\"hovertemplate\":\"loja=%{y}<br>ano_mes=2020-06<br>acumulado=%{x}<extra></extra>\",\"legendgroup\":\"Loja 2\",\"marker\":{\"color\":\"#EF553B\",\"pattern\":{\"shape\":\"\"}},\"name\":\"Loja 2\",\"offsetgroup\":\"Loja 2\",\"orientation\":\"h\",\"showlegend\":true,\"textposition\":\"auto\",\"texttemplate\":\"%{x}\",\"x\":[8390],\"xaxis\":\"x\",\"y\":[\"Loja 2\"],\"yaxis\":\"y\",\"type\":\"bar\"},{\"alignmentgroup\":\"True\",\"hovertemplate\":\"loja=%{y}<br>ano_mes=2020-06<br>acumulado=%{x}<extra></extra>\",\"legendgroup\":\"Loja 3\",\"marker\":{\"color\":\"#00cc96\",\"pattern\":{\"shape\":\"\"}},\"name\":\"Loja 3\",\"offsetgroup\":\"Loja 3\",\"orientation\":\"h\",\"showlegend\":true,\"textposition\":\"auto\",\"texttemplate\":\"%{x}\",\"x\":[12766],\"xaxis\":\"x\",\"y\":[\"Loja 3\"],\"yaxis\":\"y\",\"type\":\"bar\"},{\"alignmentgroup\":\"True\",\"hovertemplate\":\"loja=%{y}<br>ano_mes=2020-06<br>acumulado=%{x}<extra></extra>\",\"legendgroup\":\"Loja 4\",\"marker\":{\"color\":\"#ab63fa\",\"pattern\":{\"shape\":\"\"}},\"name\":\"Loja 4\",\"offsetgroup\":\"Loja 4\",\"orientation\":\"h\",\"showlegend\":true,\"textposition\":\"auto\",\"texttemplate\":\"%{x}\",\"x\":[17846],\"xaxis\":\"x\",\"y\":[\"Loja 4\"],\"yaxis\":\"y\",\"type\":\"bar\"},{\"alignmentgroup\":\"True\",\"hovertemplate\":\"loja=%{y}<br>ano_mes=2020-06<br>acumulado=%{x}<extra></extra>\",\"legendgroup\":\"Loja 5\",\"marker\":{\"color\":\"#FFA15A\",\"pattern\":{\"shape\":\"\"}},\"name\":\"Loja 5\",\"offsetgroup\":\"Loja 5\",\"orientation\":\"h\",\"showlegend\":true,\"textposition\":\"auto\",\"texttemplate\":\"%{x}\",\"x\":[12924],\"xaxis\":\"x\",\"y\":[\"Loja 5\"],\"yaxis\":\"y\",\"type\":\"bar\"},{\"alignmentgroup\":\"True\",\"hovertemplate\":\"loja=%{y}<br>ano_mes=2020-06<br>acumulado=%{x}<extra></extra>\",\"legendgroup\":\"Loja 6\",\"marker\":{\"color\":\"#19d3f3\",\"pattern\":{\"shape\":\"\"}},\"name\":\"Loja 6\",\"offsetgroup\":\"Loja 6\",\"orientation\":\"h\",\"showlegend\":true,\"textposition\":\"auto\",\"texttemplate\":\"%{x}\",\"x\":[7913],\"xaxis\":\"x\",\"y\":[\"Loja 6\"],\"yaxis\":\"y\",\"type\":\"bar\"}],\"name\":\"2020-06\"},{\"data\":[{\"alignmentgroup\":\"True\",\"hovertemplate\":\"loja=%{y}<br>ano_mes=2020-07<br>acumulado=%{x}<extra></extra>\",\"legendgroup\":\"Loja 1\",\"marker\":{\"color\":\"#636efa\",\"pattern\":{\"shape\":\"\"}},\"name\":\"Loja 1\",\"offsetgroup\":\"Loja 1\",\"orientation\":\"h\",\"showlegend\":true,\"textposition\":\"auto\",\"texttemplate\":\"%{x}\",\"x\":[15040],\"xaxis\":\"x\",\"y\":[\"Loja 1\"],\"yaxis\":\"y\",\"type\":\"bar\"},{\"alignmentgroup\":\"True\",\"hovertemplate\":\"loja=%{y}<br>ano_mes=2020-07<br>acumulado=%{x}<extra></extra>\",\"legendgroup\":\"Loja 2\",\"marker\":{\"color\":\"#EF553B\",\"pattern\":{\"shape\":\"\"}},\"name\":\"Loja 2\",\"offsetgroup\":\"Loja 2\",\"orientation\":\"h\",\"showlegend\":true,\"textposition\":\"auto\",\"texttemplate\":\"%{x}\",\"x\":[9851],\"xaxis\":\"x\",\"y\":[\"Loja 2\"],\"yaxis\":\"y\",\"type\":\"bar\"},{\"alignmentgroup\":\"True\",\"hovertemplate\":\"loja=%{y}<br>ano_mes=2020-07<br>acumulado=%{x}<extra></extra>\",\"legendgroup\":\"Loja 3\",\"marker\":{\"color\":\"#00cc96\",\"pattern\":{\"shape\":\"\"}},\"name\":\"Loja 3\",\"offsetgroup\":\"Loja 3\",\"orientation\":\"h\",\"showlegend\":true,\"textposition\":\"auto\",\"texttemplate\":\"%{x}\",\"x\":[14529],\"xaxis\":\"x\",\"y\":[\"Loja 3\"],\"yaxis\":\"y\",\"type\":\"bar\"},{\"alignmentgroup\":\"True\",\"hovertemplate\":\"loja=%{y}<br>ano_mes=2020-07<br>acumulado=%{x}<extra></extra>\",\"legendgroup\":\"Loja 4\",\"marker\":{\"color\":\"#ab63fa\",\"pattern\":{\"shape\":\"\"}},\"name\":\"Loja 4\",\"offsetgroup\":\"Loja 4\",\"orientation\":\"h\",\"showlegend\":true,\"textposition\":\"auto\",\"texttemplate\":\"%{x}\",\"x\":[20694],\"xaxis\":\"x\",\"y\":[\"Loja 4\"],\"yaxis\":\"y\",\"type\":\"bar\"},{\"alignmentgroup\":\"True\",\"hovertemplate\":\"loja=%{y}<br>ano_mes=2020-07<br>acumulado=%{x}<extra></extra>\",\"legendgroup\":\"Loja 5\",\"marker\":{\"color\":\"#FFA15A\",\"pattern\":{\"shape\":\"\"}},\"name\":\"Loja 5\",\"offsetgroup\":\"Loja 5\",\"orientation\":\"h\",\"showlegend\":true,\"textposition\":\"auto\",\"texttemplate\":\"%{x}\",\"x\":[14972],\"xaxis\":\"x\",\"y\":[\"Loja 5\"],\"yaxis\":\"y\",\"type\":\"bar\"},{\"alignmentgroup\":\"True\",\"hovertemplate\":\"loja=%{y}<br>ano_mes=2020-07<br>acumulado=%{x}<extra></extra>\",\"legendgroup\":\"Loja 6\",\"marker\":{\"color\":\"#19d3f3\",\"pattern\":{\"shape\":\"\"}},\"name\":\"Loja 6\",\"offsetgroup\":\"Loja 6\",\"orientation\":\"h\",\"showlegend\":true,\"textposition\":\"auto\",\"texttemplate\":\"%{x}\",\"x\":[10128],\"xaxis\":\"x\",\"y\":[\"Loja 6\"],\"yaxis\":\"y\",\"type\":\"bar\"}],\"name\":\"2020-07\"},{\"data\":[{\"alignmentgroup\":\"True\",\"hovertemplate\":\"loja=%{y}<br>ano_mes=2020-08<br>acumulado=%{x}<extra></extra>\",\"legendgroup\":\"Loja 1\",\"marker\":{\"color\":\"#636efa\",\"pattern\":{\"shape\":\"\"}},\"name\":\"Loja 1\",\"offsetgroup\":\"Loja 1\",\"orientation\":\"h\",\"showlegend\":true,\"textposition\":\"auto\",\"texttemplate\":\"%{x}\",\"x\":[17474],\"xaxis\":\"x\",\"y\":[\"Loja 1\"],\"yaxis\":\"y\",\"type\":\"bar\"},{\"alignmentgroup\":\"True\",\"hovertemplate\":\"loja=%{y}<br>ano_mes=2020-08<br>acumulado=%{x}<extra></extra>\",\"legendgroup\":\"Loja 2\",\"marker\":{\"color\":\"#EF553B\",\"pattern\":{\"shape\":\"\"}},\"name\":\"Loja 2\",\"offsetgroup\":\"Loja 2\",\"orientation\":\"h\",\"showlegend\":true,\"textposition\":\"auto\",\"texttemplate\":\"%{x}\",\"x\":[11329],\"xaxis\":\"x\",\"y\":[\"Loja 2\"],\"yaxis\":\"y\",\"type\":\"bar\"},{\"alignmentgroup\":\"True\",\"hovertemplate\":\"loja=%{y}<br>ano_mes=2020-08<br>acumulado=%{x}<extra></extra>\",\"legendgroup\":\"Loja 3\",\"marker\":{\"color\":\"#00cc96\",\"pattern\":{\"shape\":\"\"}},\"name\":\"Loja 3\",\"offsetgroup\":\"Loja 3\",\"orientation\":\"h\",\"showlegend\":true,\"textposition\":\"auto\",\"texttemplate\":\"%{x}\",\"x\":[16020],\"xaxis\":\"x\",\"y\":[\"Loja 3\"],\"yaxis\":\"y\",\"type\":\"bar\"},{\"alignmentgroup\":\"True\",\"hovertemplate\":\"loja=%{y}<br>ano_mes=2020-08<br>acumulado=%{x}<extra></extra>\",\"legendgroup\":\"Loja 4\",\"marker\":{\"color\":\"#ab63fa\",\"pattern\":{\"shape\":\"\"}},\"name\":\"Loja 4\",\"offsetgroup\":\"Loja 4\",\"orientation\":\"h\",\"showlegend\":true,\"textposition\":\"auto\",\"texttemplate\":\"%{x}\",\"x\":[23674],\"xaxis\":\"x\",\"y\":[\"Loja 4\"],\"yaxis\":\"y\",\"type\":\"bar\"},{\"alignmentgroup\":\"True\",\"hovertemplate\":\"loja=%{y}<br>ano_mes=2020-08<br>acumulado=%{x}<extra></extra>\",\"legendgroup\":\"Loja 5\",\"marker\":{\"color\":\"#FFA15A\",\"pattern\":{\"shape\":\"\"}},\"name\":\"Loja 5\",\"offsetgroup\":\"Loja 5\",\"orientation\":\"h\",\"showlegend\":true,\"textposition\":\"auto\",\"texttemplate\":\"%{x}\",\"x\":[16771],\"xaxis\":\"x\",\"y\":[\"Loja 5\"],\"yaxis\":\"y\",\"type\":\"bar\"},{\"alignmentgroup\":\"True\",\"hovertemplate\":\"loja=%{y}<br>ano_mes=2020-08<br>acumulado=%{x}<extra></extra>\",\"legendgroup\":\"Loja 6\",\"marker\":{\"color\":\"#19d3f3\",\"pattern\":{\"shape\":\"\"}},\"name\":\"Loja 6\",\"offsetgroup\":\"Loja 6\",\"orientation\":\"h\",\"showlegend\":true,\"textposition\":\"auto\",\"texttemplate\":\"%{x}\",\"x\":[11928],\"xaxis\":\"x\",\"y\":[\"Loja 6\"],\"yaxis\":\"y\",\"type\":\"bar\"}],\"name\":\"2020-08\"},{\"data\":[{\"alignmentgroup\":\"True\",\"hovertemplate\":\"loja=%{y}<br>ano_mes=2020-09<br>acumulado=%{x}<extra></extra>\",\"legendgroup\":\"Loja 1\",\"marker\":{\"color\":\"#636efa\",\"pattern\":{\"shape\":\"\"}},\"name\":\"Loja 1\",\"offsetgroup\":\"Loja 1\",\"orientation\":\"h\",\"showlegend\":true,\"textposition\":\"auto\",\"texttemplate\":\"%{x}\",\"x\":[19586],\"xaxis\":\"x\",\"y\":[\"Loja 1\"],\"yaxis\":\"y\",\"type\":\"bar\"},{\"alignmentgroup\":\"True\",\"hovertemplate\":\"loja=%{y}<br>ano_mes=2020-09<br>acumulado=%{x}<extra></extra>\",\"legendgroup\":\"Loja 2\",\"marker\":{\"color\":\"#EF553B\",\"pattern\":{\"shape\":\"\"}},\"name\":\"Loja 2\",\"offsetgroup\":\"Loja 2\",\"orientation\":\"h\",\"showlegend\":true,\"textposition\":\"auto\",\"texttemplate\":\"%{x}\",\"x\":[12787],\"xaxis\":\"x\",\"y\":[\"Loja 2\"],\"yaxis\":\"y\",\"type\":\"bar\"},{\"alignmentgroup\":\"True\",\"hovertemplate\":\"loja=%{y}<br>ano_mes=2020-09<br>acumulado=%{x}<extra></extra>\",\"legendgroup\":\"Loja 3\",\"marker\":{\"color\":\"#00cc96\",\"pattern\":{\"shape\":\"\"}},\"name\":\"Loja 3\",\"offsetgroup\":\"Loja 3\",\"orientation\":\"h\",\"showlegend\":true,\"textposition\":\"auto\",\"texttemplate\":\"%{x}\",\"x\":[17940],\"xaxis\":\"x\",\"y\":[\"Loja 3\"],\"yaxis\":\"y\",\"type\":\"bar\"},{\"alignmentgroup\":\"True\",\"hovertemplate\":\"loja=%{y}<br>ano_mes=2020-09<br>acumulado=%{x}<extra></extra>\",\"legendgroup\":\"Loja 4\",\"marker\":{\"color\":\"#ab63fa\",\"pattern\":{\"shape\":\"\"}},\"name\":\"Loja 4\",\"offsetgroup\":\"Loja 4\",\"orientation\":\"h\",\"showlegend\":true,\"textposition\":\"auto\",\"texttemplate\":\"%{x}\",\"x\":[26167],\"xaxis\":\"x\",\"y\":[\"Loja 4\"],\"yaxis\":\"y\",\"type\":\"bar\"},{\"alignmentgroup\":\"True\",\"hovertemplate\":\"loja=%{y}<br>ano_mes=2020-09<br>acumulado=%{x}<extra></extra>\",\"legendgroup\":\"Loja 5\",\"marker\":{\"color\":\"#FFA15A\",\"pattern\":{\"shape\":\"\"}},\"name\":\"Loja 5\",\"offsetgroup\":\"Loja 5\",\"orientation\":\"h\",\"showlegend\":true,\"textposition\":\"auto\",\"texttemplate\":\"%{x}\",\"x\":[18812],\"xaxis\":\"x\",\"y\":[\"Loja 5\"],\"yaxis\":\"y\",\"type\":\"bar\"},{\"alignmentgroup\":\"True\",\"hovertemplate\":\"loja=%{y}<br>ano_mes=2020-09<br>acumulado=%{x}<extra></extra>\",\"legendgroup\":\"Loja 6\",\"marker\":{\"color\":\"#19d3f3\",\"pattern\":{\"shape\":\"\"}},\"name\":\"Loja 6\",\"offsetgroup\":\"Loja 6\",\"orientation\":\"h\",\"showlegend\":true,\"textposition\":\"auto\",\"texttemplate\":\"%{x}\",\"x\":[13351],\"xaxis\":\"x\",\"y\":[\"Loja 6\"],\"yaxis\":\"y\",\"type\":\"bar\"}],\"name\":\"2020-09\"},{\"data\":[{\"alignmentgroup\":\"True\",\"hovertemplate\":\"loja=%{y}<br>ano_mes=2020-10<br>acumulado=%{x}<extra></extra>\",\"legendgroup\":\"Loja 1\",\"marker\":{\"color\":\"#636efa\",\"pattern\":{\"shape\":\"\"}},\"name\":\"Loja 1\",\"offsetgroup\":\"Loja 1\",\"orientation\":\"h\",\"showlegend\":true,\"textposition\":\"auto\",\"texttemplate\":\"%{x}\",\"x\":[22064],\"xaxis\":\"x\",\"y\":[\"Loja 1\"],\"yaxis\":\"y\",\"type\":\"bar\"},{\"alignmentgroup\":\"True\",\"hovertemplate\":\"loja=%{y}<br>ano_mes=2020-10<br>acumulado=%{x}<extra></extra>\",\"legendgroup\":\"Loja 2\",\"marker\":{\"color\":\"#EF553B\",\"pattern\":{\"shape\":\"\"}},\"name\":\"Loja 2\",\"offsetgroup\":\"Loja 2\",\"orientation\":\"h\",\"showlegend\":true,\"textposition\":\"auto\",\"texttemplate\":\"%{x}\",\"x\":[14076],\"xaxis\":\"x\",\"y\":[\"Loja 2\"],\"yaxis\":\"y\",\"type\":\"bar\"},{\"alignmentgroup\":\"True\",\"hovertemplate\":\"loja=%{y}<br>ano_mes=2020-10<br>acumulado=%{x}<extra></extra>\",\"legendgroup\":\"Loja 3\",\"marker\":{\"color\":\"#00cc96\",\"pattern\":{\"shape\":\"\"}},\"name\":\"Loja 3\",\"offsetgroup\":\"Loja 3\",\"orientation\":\"h\",\"showlegend\":true,\"textposition\":\"auto\",\"texttemplate\":\"%{x}\",\"x\":[20295],\"xaxis\":\"x\",\"y\":[\"Loja 3\"],\"yaxis\":\"y\",\"type\":\"bar\"},{\"alignmentgroup\":\"True\",\"hovertemplate\":\"loja=%{y}<br>ano_mes=2020-10<br>acumulado=%{x}<extra></extra>\",\"legendgroup\":\"Loja 4\",\"marker\":{\"color\":\"#ab63fa\",\"pattern\":{\"shape\":\"\"}},\"name\":\"Loja 4\",\"offsetgroup\":\"Loja 4\",\"orientation\":\"h\",\"showlegend\":true,\"textposition\":\"auto\",\"texttemplate\":\"%{x}\",\"x\":[29810],\"xaxis\":\"x\",\"y\":[\"Loja 4\"],\"yaxis\":\"y\",\"type\":\"bar\"},{\"alignmentgroup\":\"True\",\"hovertemplate\":\"loja=%{y}<br>ano_mes=2020-10<br>acumulado=%{x}<extra></extra>\",\"legendgroup\":\"Loja 5\",\"marker\":{\"color\":\"#FFA15A\",\"pattern\":{\"shape\":\"\"}},\"name\":\"Loja 5\",\"offsetgroup\":\"Loja 5\",\"orientation\":\"h\",\"showlegend\":true,\"textposition\":\"auto\",\"texttemplate\":\"%{x}\",\"x\":[21135],\"xaxis\":\"x\",\"y\":[\"Loja 5\"],\"yaxis\":\"y\",\"type\":\"bar\"},{\"alignmentgroup\":\"True\",\"hovertemplate\":\"loja=%{y}<br>ano_mes=2020-10<br>acumulado=%{x}<extra></extra>\",\"legendgroup\":\"Loja 6\",\"marker\":{\"color\":\"#19d3f3\",\"pattern\":{\"shape\":\"\"}},\"name\":\"Loja 6\",\"offsetgroup\":\"Loja 6\",\"orientation\":\"h\",\"showlegend\":true,\"textposition\":\"auto\",\"texttemplate\":\"%{x}\",\"x\":[14455],\"xaxis\":\"x\",\"y\":[\"Loja 6\"],\"yaxis\":\"y\",\"type\":\"bar\"}],\"name\":\"2020-10\"},{\"data\":[{\"alignmentgroup\":\"True\",\"hovertemplate\":\"loja=%{y}<br>ano_mes=2020-11<br>acumulado=%{x}<extra></extra>\",\"legendgroup\":\"Loja 1\",\"marker\":{\"color\":\"#636efa\",\"pattern\":{\"shape\":\"\"}},\"name\":\"Loja 1\",\"offsetgroup\":\"Loja 1\",\"orientation\":\"h\",\"showlegend\":true,\"textposition\":\"auto\",\"texttemplate\":\"%{x}\",\"x\":[24206],\"xaxis\":\"x\",\"y\":[\"Loja 1\"],\"yaxis\":\"y\",\"type\":\"bar\"},{\"alignmentgroup\":\"True\",\"hovertemplate\":\"loja=%{y}<br>ano_mes=2020-11<br>acumulado=%{x}<extra></extra>\",\"legendgroup\":\"Loja 2\",\"marker\":{\"color\":\"#EF553B\",\"pattern\":{\"shape\":\"\"}},\"name\":\"Loja 2\",\"offsetgroup\":\"Loja 2\",\"orientation\":\"h\",\"showlegend\":true,\"textposition\":\"auto\",\"texttemplate\":\"%{x}\",\"x\":[15525],\"xaxis\":\"x\",\"y\":[\"Loja 2\"],\"yaxis\":\"y\",\"type\":\"bar\"},{\"alignmentgroup\":\"True\",\"hovertemplate\":\"loja=%{y}<br>ano_mes=2020-11<br>acumulado=%{x}<extra></extra>\",\"legendgroup\":\"Loja 3\",\"marker\":{\"color\":\"#00cc96\",\"pattern\":{\"shape\":\"\"}},\"name\":\"Loja 3\",\"offsetgroup\":\"Loja 3\",\"orientation\":\"h\",\"showlegend\":true,\"textposition\":\"auto\",\"texttemplate\":\"%{x}\",\"x\":[22301],\"xaxis\":\"x\",\"y\":[\"Loja 3\"],\"yaxis\":\"y\",\"type\":\"bar\"},{\"alignmentgroup\":\"True\",\"hovertemplate\":\"loja=%{y}<br>ano_mes=2020-11<br>acumulado=%{x}<extra></extra>\",\"legendgroup\":\"Loja 4\",\"marker\":{\"color\":\"#ab63fa\",\"pattern\":{\"shape\":\"\"}},\"name\":\"Loja 4\",\"offsetgroup\":\"Loja 4\",\"orientation\":\"h\",\"showlegend\":true,\"textposition\":\"auto\",\"texttemplate\":\"%{x}\",\"x\":[32470],\"xaxis\":\"x\",\"y\":[\"Loja 4\"],\"yaxis\":\"y\",\"type\":\"bar\"},{\"alignmentgroup\":\"True\",\"hovertemplate\":\"loja=%{y}<br>ano_mes=2020-11<br>acumulado=%{x}<extra></extra>\",\"legendgroup\":\"Loja 5\",\"marker\":{\"color\":\"#FFA15A\",\"pattern\":{\"shape\":\"\"}},\"name\":\"Loja 5\",\"offsetgroup\":\"Loja 5\",\"orientation\":\"h\",\"showlegend\":true,\"textposition\":\"auto\",\"texttemplate\":\"%{x}\",\"x\":[23223],\"xaxis\":\"x\",\"y\":[\"Loja 5\"],\"yaxis\":\"y\",\"type\":\"bar\"},{\"alignmentgroup\":\"True\",\"hovertemplate\":\"loja=%{y}<br>ano_mes=2020-11<br>acumulado=%{x}<extra></extra>\",\"legendgroup\":\"Loja 6\",\"marker\":{\"color\":\"#19d3f3\",\"pattern\":{\"shape\":\"\"}},\"name\":\"Loja 6\",\"offsetgroup\":\"Loja 6\",\"orientation\":\"h\",\"showlegend\":true,\"textposition\":\"auto\",\"texttemplate\":\"%{x}\",\"x\":[16060],\"xaxis\":\"x\",\"y\":[\"Loja 6\"],\"yaxis\":\"y\",\"type\":\"bar\"}],\"name\":\"2020-11\"},{\"data\":[{\"alignmentgroup\":\"True\",\"hovertemplate\":\"loja=%{y}<br>ano_mes=2020-12<br>acumulado=%{x}<extra></extra>\",\"legendgroup\":\"Loja 1\",\"marker\":{\"color\":\"#636efa\",\"pattern\":{\"shape\":\"\"}},\"name\":\"Loja 1\",\"offsetgroup\":\"Loja 1\",\"orientation\":\"h\",\"showlegend\":true,\"textposition\":\"auto\",\"texttemplate\":\"%{x}\",\"x\":[26280],\"xaxis\":\"x\",\"y\":[\"Loja 1\"],\"yaxis\":\"y\",\"type\":\"bar\"},{\"alignmentgroup\":\"True\",\"hovertemplate\":\"loja=%{y}<br>ano_mes=2020-12<br>acumulado=%{x}<extra></extra>\",\"legendgroup\":\"Loja 2\",\"marker\":{\"color\":\"#EF553B\",\"pattern\":{\"shape\":\"\"}},\"name\":\"Loja 2\",\"offsetgroup\":\"Loja 2\",\"orientation\":\"h\",\"showlegend\":true,\"textposition\":\"auto\",\"texttemplate\":\"%{x}\",\"x\":[16936],\"xaxis\":\"x\",\"y\":[\"Loja 2\"],\"yaxis\":\"y\",\"type\":\"bar\"},{\"alignmentgroup\":\"True\",\"hovertemplate\":\"loja=%{y}<br>ano_mes=2020-12<br>acumulado=%{x}<extra></extra>\",\"legendgroup\":\"Loja 3\",\"marker\":{\"color\":\"#00cc96\",\"pattern\":{\"shape\":\"\"}},\"name\":\"Loja 3\",\"offsetgroup\":\"Loja 3\",\"orientation\":\"h\",\"showlegend\":true,\"textposition\":\"auto\",\"texttemplate\":\"%{x}\",\"x\":[24583],\"xaxis\":\"x\",\"y\":[\"Loja 3\"],\"yaxis\":\"y\",\"type\":\"bar\"},{\"alignmentgroup\":\"True\",\"hovertemplate\":\"loja=%{y}<br>ano_mes=2020-12<br>acumulado=%{x}<extra></extra>\",\"legendgroup\":\"Loja 4\",\"marker\":{\"color\":\"#ab63fa\",\"pattern\":{\"shape\":\"\"}},\"name\":\"Loja 4\",\"offsetgroup\":\"Loja 4\",\"orientation\":\"h\",\"showlegend\":true,\"textposition\":\"auto\",\"texttemplate\":\"%{x}\",\"x\":[36772],\"xaxis\":\"x\",\"y\":[\"Loja 4\"],\"yaxis\":\"y\",\"type\":\"bar\"},{\"alignmentgroup\":\"True\",\"hovertemplate\":\"loja=%{y}<br>ano_mes=2020-12<br>acumulado=%{x}<extra></extra>\",\"legendgroup\":\"Loja 5\",\"marker\":{\"color\":\"#FFA15A\",\"pattern\":{\"shape\":\"\"}},\"name\":\"Loja 5\",\"offsetgroup\":\"Loja 5\",\"orientation\":\"h\",\"showlegend\":true,\"textposition\":\"auto\",\"texttemplate\":\"%{x}\",\"x\":[25273],\"xaxis\":\"x\",\"y\":[\"Loja 5\"],\"yaxis\":\"y\",\"type\":\"bar\"},{\"alignmentgroup\":\"True\",\"hovertemplate\":\"loja=%{y}<br>ano_mes=2020-12<br>acumulado=%{x}<extra></extra>\",\"legendgroup\":\"Loja 6\",\"marker\":{\"color\":\"#19d3f3\",\"pattern\":{\"shape\":\"\"}},\"name\":\"Loja 6\",\"offsetgroup\":\"Loja 6\",\"orientation\":\"h\",\"showlegend\":true,\"textposition\":\"auto\",\"texttemplate\":\"%{x}\",\"x\":[16225],\"xaxis\":\"x\",\"y\":[\"Loja 6\"],\"yaxis\":\"y\",\"type\":\"bar\"}],\"name\":\"2020-12\"},{\"data\":[{\"alignmentgroup\":\"True\",\"hovertemplate\":\"loja=%{y}<br>ano_mes=2021-01<br>acumulado=%{x}<extra></extra>\",\"legendgroup\":\"Loja 1\",\"marker\":{\"color\":\"#636efa\",\"pattern\":{\"shape\":\"\"}},\"name\":\"Loja 1\",\"offsetgroup\":\"Loja 1\",\"orientation\":\"h\",\"showlegend\":true,\"textposition\":\"auto\",\"texttemplate\":\"%{x}\",\"x\":[28255],\"xaxis\":\"x\",\"y\":[\"Loja 1\"],\"yaxis\":\"y\",\"type\":\"bar\"},{\"alignmentgroup\":\"True\",\"hovertemplate\":\"loja=%{y}<br>ano_mes=2021-01<br>acumulado=%{x}<extra></extra>\",\"legendgroup\":\"Loja 2\",\"marker\":{\"color\":\"#EF553B\",\"pattern\":{\"shape\":\"\"}},\"name\":\"Loja 2\",\"offsetgroup\":\"Loja 2\",\"orientation\":\"h\",\"showlegend\":true,\"textposition\":\"auto\",\"texttemplate\":\"%{x}\",\"x\":[18452],\"xaxis\":\"x\",\"y\":[\"Loja 2\"],\"yaxis\":\"y\",\"type\":\"bar\"},{\"alignmentgroup\":\"True\",\"hovertemplate\":\"loja=%{y}<br>ano_mes=2021-01<br>acumulado=%{x}<extra></extra>\",\"legendgroup\":\"Loja 3\",\"marker\":{\"color\":\"#00cc96\",\"pattern\":{\"shape\":\"\"}},\"name\":\"Loja 3\",\"offsetgroup\":\"Loja 3\",\"orientation\":\"h\",\"showlegend\":true,\"textposition\":\"auto\",\"texttemplate\":\"%{x}\",\"x\":[26702],\"xaxis\":\"x\",\"y\":[\"Loja 3\"],\"yaxis\":\"y\",\"type\":\"bar\"},{\"alignmentgroup\":\"True\",\"hovertemplate\":\"loja=%{y}<br>ano_mes=2021-01<br>acumulado=%{x}<extra></extra>\",\"legendgroup\":\"Loja 4\",\"marker\":{\"color\":\"#ab63fa\",\"pattern\":{\"shape\":\"\"}},\"name\":\"Loja 4\",\"offsetgroup\":\"Loja 4\",\"orientation\":\"h\",\"showlegend\":true,\"textposition\":\"auto\",\"texttemplate\":\"%{x}\",\"x\":[40231],\"xaxis\":\"x\",\"y\":[\"Loja 4\"],\"yaxis\":\"y\",\"type\":\"bar\"},{\"alignmentgroup\":\"True\",\"hovertemplate\":\"loja=%{y}<br>ano_mes=2021-01<br>acumulado=%{x}<extra></extra>\",\"legendgroup\":\"Loja 5\",\"marker\":{\"color\":\"#FFA15A\",\"pattern\":{\"shape\":\"\"}},\"name\":\"Loja 5\",\"offsetgroup\":\"Loja 5\",\"orientation\":\"h\",\"showlegend\":true,\"textposition\":\"auto\",\"texttemplate\":\"%{x}\",\"x\":[27569],\"xaxis\":\"x\",\"y\":[\"Loja 5\"],\"yaxis\":\"y\",\"type\":\"bar\"},{\"alignmentgroup\":\"True\",\"hovertemplate\":\"loja=%{y}<br>ano_mes=2021-01<br>acumulado=%{x}<extra></extra>\",\"legendgroup\":\"Loja 6\",\"marker\":{\"color\":\"#19d3f3\",\"pattern\":{\"shape\":\"\"}},\"name\":\"Loja 6\",\"offsetgroup\":\"Loja 6\",\"orientation\":\"h\",\"showlegend\":true,\"textposition\":\"auto\",\"texttemplate\":\"%{x}\",\"x\":[17031],\"xaxis\":\"x\",\"y\":[\"Loja 6\"],\"yaxis\":\"y\",\"type\":\"bar\"}],\"name\":\"2021-01\"},{\"data\":[{\"alignmentgroup\":\"True\",\"hovertemplate\":\"loja=%{y}<br>ano_mes=2021-02<br>acumulado=%{x}<extra></extra>\",\"legendgroup\":\"Loja 1\",\"marker\":{\"color\":\"#636efa\",\"pattern\":{\"shape\":\"\"}},\"name\":\"Loja 1\",\"offsetgroup\":\"Loja 1\",\"orientation\":\"h\",\"showlegend\":true,\"textposition\":\"auto\",\"texttemplate\":\"%{x}\",\"x\":[30106],\"xaxis\":\"x\",\"y\":[\"Loja 1\"],\"yaxis\":\"y\",\"type\":\"bar\"},{\"alignmentgroup\":\"True\",\"hovertemplate\":\"loja=%{y}<br>ano_mes=2021-02<br>acumulado=%{x}<extra></extra>\",\"legendgroup\":\"Loja 2\",\"marker\":{\"color\":\"#EF553B\",\"pattern\":{\"shape\":\"\"}},\"name\":\"Loja 2\",\"offsetgroup\":\"Loja 2\",\"orientation\":\"h\",\"showlegend\":true,\"textposition\":\"auto\",\"texttemplate\":\"%{x}\",\"x\":[19794],\"xaxis\":\"x\",\"y\":[\"Loja 2\"],\"yaxis\":\"y\",\"type\":\"bar\"},{\"alignmentgroup\":\"True\",\"hovertemplate\":\"loja=%{y}<br>ano_mes=2021-02<br>acumulado=%{x}<extra></extra>\",\"legendgroup\":\"Loja 3\",\"marker\":{\"color\":\"#00cc96\",\"pattern\":{\"shape\":\"\"}},\"name\":\"Loja 3\",\"offsetgroup\":\"Loja 3\",\"orientation\":\"h\",\"showlegend\":true,\"textposition\":\"auto\",\"texttemplate\":\"%{x}\",\"x\":[28601],\"xaxis\":\"x\",\"y\":[\"Loja 3\"],\"yaxis\":\"y\",\"type\":\"bar\"},{\"alignmentgroup\":\"True\",\"hovertemplate\":\"loja=%{y}<br>ano_mes=2021-02<br>acumulado=%{x}<extra></extra>\",\"legendgroup\":\"Loja 4\",\"marker\":{\"color\":\"#ab63fa\",\"pattern\":{\"shape\":\"\"}},\"name\":\"Loja 4\",\"offsetgroup\":\"Loja 4\",\"orientation\":\"h\",\"showlegend\":true,\"textposition\":\"auto\",\"texttemplate\":\"%{x}\",\"x\":[43749],\"xaxis\":\"x\",\"y\":[\"Loja 4\"],\"yaxis\":\"y\",\"type\":\"bar\"},{\"alignmentgroup\":\"True\",\"hovertemplate\":\"loja=%{y}<br>ano_mes=2021-02<br>acumulado=%{x}<extra></extra>\",\"legendgroup\":\"Loja 5\",\"marker\":{\"color\":\"#FFA15A\",\"pattern\":{\"shape\":\"\"}},\"name\":\"Loja 5\",\"offsetgroup\":\"Loja 5\",\"orientation\":\"h\",\"showlegend\":true,\"textposition\":\"auto\",\"texttemplate\":\"%{x}\",\"x\":[29509],\"xaxis\":\"x\",\"y\":[\"Loja 5\"],\"yaxis\":\"y\",\"type\":\"bar\"},{\"alignmentgroup\":\"True\",\"hovertemplate\":\"loja=%{y}<br>ano_mes=2021-02<br>acumulado=%{x}<extra></extra>\",\"legendgroup\":\"Loja 6\",\"marker\":{\"color\":\"#19d3f3\",\"pattern\":{\"shape\":\"\"}},\"name\":\"Loja 6\",\"offsetgroup\":\"Loja 6\",\"orientation\":\"h\",\"showlegend\":true,\"textposition\":\"auto\",\"texttemplate\":\"%{x}\",\"x\":[17423],\"xaxis\":\"x\",\"y\":[\"Loja 6\"],\"yaxis\":\"y\",\"type\":\"bar\"}],\"name\":\"2021-02\"},{\"data\":[{\"alignmentgroup\":\"True\",\"hovertemplate\":\"loja=%{y}<br>ano_mes=2021-03<br>acumulado=%{x}<extra></extra>\",\"legendgroup\":\"Loja 1\",\"marker\":{\"color\":\"#636efa\",\"pattern\":{\"shape\":\"\"}},\"name\":\"Loja 1\",\"offsetgroup\":\"Loja 1\",\"orientation\":\"h\",\"showlegend\":true,\"textposition\":\"auto\",\"texttemplate\":\"%{x}\",\"x\":[32318],\"xaxis\":\"x\",\"y\":[\"Loja 1\"],\"yaxis\":\"y\",\"type\":\"bar\"},{\"alignmentgroup\":\"True\",\"hovertemplate\":\"loja=%{y}<br>ano_mes=2021-03<br>acumulado=%{x}<extra></extra>\",\"legendgroup\":\"Loja 2\",\"marker\":{\"color\":\"#EF553B\",\"pattern\":{\"shape\":\"\"}},\"name\":\"Loja 2\",\"offsetgroup\":\"Loja 2\",\"orientation\":\"h\",\"showlegend\":true,\"textposition\":\"auto\",\"texttemplate\":\"%{x}\",\"x\":[21326],\"xaxis\":\"x\",\"y\":[\"Loja 2\"],\"yaxis\":\"y\",\"type\":\"bar\"},{\"alignmentgroup\":\"True\",\"hovertemplate\":\"loja=%{y}<br>ano_mes=2021-03<br>acumulado=%{x}<extra></extra>\",\"legendgroup\":\"Loja 3\",\"marker\":{\"color\":\"#00cc96\",\"pattern\":{\"shape\":\"\"}},\"name\":\"Loja 3\",\"offsetgroup\":\"Loja 3\",\"orientation\":\"h\",\"showlegend\":true,\"textposition\":\"auto\",\"texttemplate\":\"%{x}\",\"x\":[30934],\"xaxis\":\"x\",\"y\":[\"Loja 3\"],\"yaxis\":\"y\",\"type\":\"bar\"},{\"alignmentgroup\":\"True\",\"hovertemplate\":\"loja=%{y}<br>ano_mes=2021-03<br>acumulado=%{x}<extra></extra>\",\"legendgroup\":\"Loja 4\",\"marker\":{\"color\":\"#ab63fa\",\"pattern\":{\"shape\":\"\"}},\"name\":\"Loja 4\",\"offsetgroup\":\"Loja 4\",\"orientation\":\"h\",\"showlegend\":true,\"textposition\":\"auto\",\"texttemplate\":\"%{x}\",\"x\":[47170],\"xaxis\":\"x\",\"y\":[\"Loja 4\"],\"yaxis\":\"y\",\"type\":\"bar\"},{\"alignmentgroup\":\"True\",\"hovertemplate\":\"loja=%{y}<br>ano_mes=2021-03<br>acumulado=%{x}<extra></extra>\",\"legendgroup\":\"Loja 5\",\"marker\":{\"color\":\"#FFA15A\",\"pattern\":{\"shape\":\"\"}},\"name\":\"Loja 5\",\"offsetgroup\":\"Loja 5\",\"orientation\":\"h\",\"showlegend\":true,\"textposition\":\"auto\",\"texttemplate\":\"%{x}\",\"x\":[31986],\"xaxis\":\"x\",\"y\":[\"Loja 5\"],\"yaxis\":\"y\",\"type\":\"bar\"},{\"alignmentgroup\":\"True\",\"hovertemplate\":\"loja=%{y}<br>ano_mes=2021-03<br>acumulado=%{x}<extra></extra>\",\"legendgroup\":\"Loja 6\",\"marker\":{\"color\":\"#19d3f3\",\"pattern\":{\"shape\":\"\"}},\"name\":\"Loja 6\",\"offsetgroup\":\"Loja 6\",\"orientation\":\"h\",\"showlegend\":true,\"textposition\":\"auto\",\"texttemplate\":\"%{x}\",\"x\":[18794],\"xaxis\":\"x\",\"y\":[\"Loja 6\"],\"yaxis\":\"y\",\"type\":\"bar\"}],\"name\":\"2021-03\"},{\"data\":[{\"alignmentgroup\":\"True\",\"hovertemplate\":\"loja=%{y}<br>ano_mes=2021-04<br>acumulado=%{x}<extra></extra>\",\"legendgroup\":\"Loja 1\",\"marker\":{\"color\":\"#636efa\",\"pattern\":{\"shape\":\"\"}},\"name\":\"Loja 1\",\"offsetgroup\":\"Loja 1\",\"orientation\":\"h\",\"showlegend\":true,\"textposition\":\"auto\",\"texttemplate\":\"%{x}\",\"x\":[34239],\"xaxis\":\"x\",\"y\":[\"Loja 1\"],\"yaxis\":\"y\",\"type\":\"bar\"},{\"alignmentgroup\":\"True\",\"hovertemplate\":\"loja=%{y}<br>ano_mes=2021-04<br>acumulado=%{x}<extra></extra>\",\"legendgroup\":\"Loja 2\",\"marker\":{\"color\":\"#EF553B\",\"pattern\":{\"shape\":\"\"}},\"name\":\"Loja 2\",\"offsetgroup\":\"Loja 2\",\"orientation\":\"h\",\"showlegend\":true,\"textposition\":\"auto\",\"texttemplate\":\"%{x}\",\"x\":[22662],\"xaxis\":\"x\",\"y\":[\"Loja 2\"],\"yaxis\":\"y\",\"type\":\"bar\"},{\"alignmentgroup\":\"True\",\"hovertemplate\":\"loja=%{y}<br>ano_mes=2021-04<br>acumulado=%{x}<extra></extra>\",\"legendgroup\":\"Loja 3\",\"marker\":{\"color\":\"#00cc96\",\"pattern\":{\"shape\":\"\"}},\"name\":\"Loja 3\",\"offsetgroup\":\"Loja 3\",\"orientation\":\"h\",\"showlegend\":true,\"textposition\":\"auto\",\"texttemplate\":\"%{x}\",\"x\":[32761],\"xaxis\":\"x\",\"y\":[\"Loja 3\"],\"yaxis\":\"y\",\"type\":\"bar\"},{\"alignmentgroup\":\"True\",\"hovertemplate\":\"loja=%{y}<br>ano_mes=2021-04<br>acumulado=%{x}<extra></extra>\",\"legendgroup\":\"Loja 4\",\"marker\":{\"color\":\"#ab63fa\",\"pattern\":{\"shape\":\"\"}},\"name\":\"Loja 4\",\"offsetgroup\":\"Loja 4\",\"orientation\":\"h\",\"showlegend\":true,\"textposition\":\"auto\",\"texttemplate\":\"%{x}\",\"x\":[50065],\"xaxis\":\"x\",\"y\":[\"Loja 4\"],\"yaxis\":\"y\",\"type\":\"bar\"},{\"alignmentgroup\":\"True\",\"hovertemplate\":\"loja=%{y}<br>ano_mes=2021-04<br>acumulado=%{x}<extra></extra>\",\"legendgroup\":\"Loja 5\",\"marker\":{\"color\":\"#FFA15A\",\"pattern\":{\"shape\":\"\"}},\"name\":\"Loja 5\",\"offsetgroup\":\"Loja 5\",\"orientation\":\"h\",\"showlegend\":true,\"textposition\":\"auto\",\"texttemplate\":\"%{x}\",\"x\":[34020],\"xaxis\":\"x\",\"y\":[\"Loja 5\"],\"yaxis\":\"y\",\"type\":\"bar\"},{\"alignmentgroup\":\"True\",\"hovertemplate\":\"loja=%{y}<br>ano_mes=2021-04<br>acumulado=%{x}<extra></extra>\",\"legendgroup\":\"Loja 6\",\"marker\":{\"color\":\"#19d3f3\",\"pattern\":{\"shape\":\"\"}},\"name\":\"Loja 6\",\"offsetgroup\":\"Loja 6\",\"orientation\":\"h\",\"showlegend\":true,\"textposition\":\"auto\",\"texttemplate\":\"%{x}\",\"x\":[20049],\"xaxis\":\"x\",\"y\":[\"Loja 6\"],\"yaxis\":\"y\",\"type\":\"bar\"}],\"name\":\"2021-04\"},{\"data\":[{\"alignmentgroup\":\"True\",\"hovertemplate\":\"loja=%{y}<br>ano_mes=2021-05<br>acumulado=%{x}<extra></extra>\",\"legendgroup\":\"Loja 1\",\"marker\":{\"color\":\"#636efa\",\"pattern\":{\"shape\":\"\"}},\"name\":\"Loja 1\",\"offsetgroup\":\"Loja 1\",\"orientation\":\"h\",\"showlegend\":true,\"textposition\":\"auto\",\"texttemplate\":\"%{x}\",\"x\":[36252],\"xaxis\":\"x\",\"y\":[\"Loja 1\"],\"yaxis\":\"y\",\"type\":\"bar\"},{\"alignmentgroup\":\"True\",\"hovertemplate\":\"loja=%{y}<br>ano_mes=2021-05<br>acumulado=%{x}<extra></extra>\",\"legendgroup\":\"Loja 2\",\"marker\":{\"color\":\"#EF553B\",\"pattern\":{\"shape\":\"\"}},\"name\":\"Loja 2\",\"offsetgroup\":\"Loja 2\",\"orientation\":\"h\",\"showlegend\":true,\"textposition\":\"auto\",\"texttemplate\":\"%{x}\",\"x\":[24319],\"xaxis\":\"x\",\"y\":[\"Loja 2\"],\"yaxis\":\"y\",\"type\":\"bar\"},{\"alignmentgroup\":\"True\",\"hovertemplate\":\"loja=%{y}<br>ano_mes=2021-05<br>acumulado=%{x}<extra></extra>\",\"legendgroup\":\"Loja 3\",\"marker\":{\"color\":\"#00cc96\",\"pattern\":{\"shape\":\"\"}},\"name\":\"Loja 3\",\"offsetgroup\":\"Loja 3\",\"orientation\":\"h\",\"showlegend\":true,\"textposition\":\"auto\",\"texttemplate\":\"%{x}\",\"x\":[35123],\"xaxis\":\"x\",\"y\":[\"Loja 3\"],\"yaxis\":\"y\",\"type\":\"bar\"},{\"alignmentgroup\":\"True\",\"hovertemplate\":\"loja=%{y}<br>ano_mes=2021-05<br>acumulado=%{x}<extra></extra>\",\"legendgroup\":\"Loja 4\",\"marker\":{\"color\":\"#ab63fa\",\"pattern\":{\"shape\":\"\"}},\"name\":\"Loja 4\",\"offsetgroup\":\"Loja 4\",\"orientation\":\"h\",\"showlegend\":true,\"textposition\":\"auto\",\"texttemplate\":\"%{x}\",\"x\":[51651],\"xaxis\":\"x\",\"y\":[\"Loja 4\"],\"yaxis\":\"y\",\"type\":\"bar\"},{\"alignmentgroup\":\"True\",\"hovertemplate\":\"loja=%{y}<br>ano_mes=2021-05<br>acumulado=%{x}<extra></extra>\",\"legendgroup\":\"Loja 5\",\"marker\":{\"color\":\"#FFA15A\",\"pattern\":{\"shape\":\"\"}},\"name\":\"Loja 5\",\"offsetgroup\":\"Loja 5\",\"orientation\":\"h\",\"showlegend\":true,\"textposition\":\"auto\",\"texttemplate\":\"%{x}\",\"x\":[36261],\"xaxis\":\"x\",\"y\":[\"Loja 5\"],\"yaxis\":\"y\",\"type\":\"bar\"},{\"alignmentgroup\":\"True\",\"hovertemplate\":\"loja=%{y}<br>ano_mes=2021-05<br>acumulado=%{x}<extra></extra>\",\"legendgroup\":\"Loja 6\",\"marker\":{\"color\":\"#19d3f3\",\"pattern\":{\"shape\":\"\"}},\"name\":\"Loja 6\",\"offsetgroup\":\"Loja 6\",\"orientation\":\"h\",\"showlegend\":true,\"textposition\":\"auto\",\"texttemplate\":\"%{x}\",\"x\":[22492],\"xaxis\":\"x\",\"y\":[\"Loja 6\"],\"yaxis\":\"y\",\"type\":\"bar\"}],\"name\":\"2021-05\"},{\"data\":[{\"alignmentgroup\":\"True\",\"hovertemplate\":\"loja=%{y}<br>ano_mes=2021-06<br>acumulado=%{x}<extra></extra>\",\"legendgroup\":\"Loja 1\",\"marker\":{\"color\":\"#636efa\",\"pattern\":{\"shape\":\"\"}},\"name\":\"Loja 1\",\"offsetgroup\":\"Loja 1\",\"orientation\":\"h\",\"showlegend\":true,\"textposition\":\"auto\",\"texttemplate\":\"%{x}\",\"x\":[38266],\"xaxis\":\"x\",\"y\":[\"Loja 1\"],\"yaxis\":\"y\",\"type\":\"bar\"},{\"alignmentgroup\":\"True\",\"hovertemplate\":\"loja=%{y}<br>ano_mes=2021-06<br>acumulado=%{x}<extra></extra>\",\"legendgroup\":\"Loja 2\",\"marker\":{\"color\":\"#EF553B\",\"pattern\":{\"shape\":\"\"}},\"name\":\"Loja 2\",\"offsetgroup\":\"Loja 2\",\"orientation\":\"h\",\"showlegend\":true,\"textposition\":\"auto\",\"texttemplate\":\"%{x}\",\"x\":[25642],\"xaxis\":\"x\",\"y\":[\"Loja 2\"],\"yaxis\":\"y\",\"type\":\"bar\"},{\"alignmentgroup\":\"True\",\"hovertemplate\":\"loja=%{y}<br>ano_mes=2021-06<br>acumulado=%{x}<extra></extra>\",\"legendgroup\":\"Loja 3\",\"marker\":{\"color\":\"#00cc96\",\"pattern\":{\"shape\":\"\"}},\"name\":\"Loja 3\",\"offsetgroup\":\"Loja 3\",\"orientation\":\"h\",\"showlegend\":true,\"textposition\":\"auto\",\"texttemplate\":\"%{x}\",\"x\":[36943],\"xaxis\":\"x\",\"y\":[\"Loja 3\"],\"yaxis\":\"y\",\"type\":\"bar\"},{\"alignmentgroup\":\"True\",\"hovertemplate\":\"loja=%{y}<br>ano_mes=2021-06<br>acumulado=%{x}<extra></extra>\",\"legendgroup\":\"Loja 4\",\"marker\":{\"color\":\"#ab63fa\",\"pattern\":{\"shape\":\"\"}},\"name\":\"Loja 4\",\"offsetgroup\":\"Loja 4\",\"orientation\":\"h\",\"showlegend\":true,\"textposition\":\"auto\",\"texttemplate\":\"%{x}\",\"x\":[53165],\"xaxis\":\"x\",\"y\":[\"Loja 4\"],\"yaxis\":\"y\",\"type\":\"bar\"},{\"alignmentgroup\":\"True\",\"hovertemplate\":\"loja=%{y}<br>ano_mes=2021-06<br>acumulado=%{x}<extra></extra>\",\"legendgroup\":\"Loja 5\",\"marker\":{\"color\":\"#FFA15A\",\"pattern\":{\"shape\":\"\"}},\"name\":\"Loja 5\",\"offsetgroup\":\"Loja 5\",\"orientation\":\"h\",\"showlegend\":true,\"textposition\":\"auto\",\"texttemplate\":\"%{x}\",\"x\":[38210],\"xaxis\":\"x\",\"y\":[\"Loja 5\"],\"yaxis\":\"y\",\"type\":\"bar\"},{\"alignmentgroup\":\"True\",\"hovertemplate\":\"loja=%{y}<br>ano_mes=2021-06<br>acumulado=%{x}<extra></extra>\",\"legendgroup\":\"Loja 6\",\"marker\":{\"color\":\"#19d3f3\",\"pattern\":{\"shape\":\"\"}},\"name\":\"Loja 6\",\"offsetgroup\":\"Loja 6\",\"orientation\":\"h\",\"showlegend\":true,\"textposition\":\"auto\",\"texttemplate\":\"%{x}\",\"x\":[25132],\"xaxis\":\"x\",\"y\":[\"Loja 6\"],\"yaxis\":\"y\",\"type\":\"bar\"}],\"name\":\"2021-06\"},{\"data\":[{\"alignmentgroup\":\"True\",\"hovertemplate\":\"loja=%{y}<br>ano_mes=2021-07<br>acumulado=%{x}<extra></extra>\",\"legendgroup\":\"Loja 1\",\"marker\":{\"color\":\"#636efa\",\"pattern\":{\"shape\":\"\"}},\"name\":\"Loja 1\",\"offsetgroup\":\"Loja 1\",\"orientation\":\"h\",\"showlegend\":true,\"textposition\":\"auto\",\"texttemplate\":\"%{x}\",\"x\":[40720],\"xaxis\":\"x\",\"y\":[\"Loja 1\"],\"yaxis\":\"y\",\"type\":\"bar\"},{\"alignmentgroup\":\"True\",\"hovertemplate\":\"loja=%{y}<br>ano_mes=2021-07<br>acumulado=%{x}<extra></extra>\",\"legendgroup\":\"Loja 2\",\"marker\":{\"color\":\"#EF553B\",\"pattern\":{\"shape\":\"\"}},\"name\":\"Loja 2\",\"offsetgroup\":\"Loja 2\",\"orientation\":\"h\",\"showlegend\":true,\"textposition\":\"auto\",\"texttemplate\":\"%{x}\",\"x\":[27036],\"xaxis\":\"x\",\"y\":[\"Loja 2\"],\"yaxis\":\"y\",\"type\":\"bar\"},{\"alignmentgroup\":\"True\",\"hovertemplate\":\"loja=%{y}<br>ano_mes=2021-07<br>acumulado=%{x}<extra></extra>\",\"legendgroup\":\"Loja 3\",\"marker\":{\"color\":\"#00cc96\",\"pattern\":{\"shape\":\"\"}},\"name\":\"Loja 3\",\"offsetgroup\":\"Loja 3\",\"orientation\":\"h\",\"showlegend\":true,\"textposition\":\"auto\",\"texttemplate\":\"%{x}\",\"x\":[39197],\"xaxis\":\"x\",\"y\":[\"Loja 3\"],\"yaxis\":\"y\",\"type\":\"bar\"},{\"alignmentgroup\":\"True\",\"hovertemplate\":\"loja=%{y}<br>ano_mes=2021-07<br>acumulado=%{x}<extra></extra>\",\"legendgroup\":\"Loja 4\",\"marker\":{\"color\":\"#ab63fa\",\"pattern\":{\"shape\":\"\"}},\"name\":\"Loja 4\",\"offsetgroup\":\"Loja 4\",\"orientation\":\"h\",\"showlegend\":true,\"textposition\":\"auto\",\"texttemplate\":\"%{x}\",\"x\":[55036],\"xaxis\":\"x\",\"y\":[\"Loja 4\"],\"yaxis\":\"y\",\"type\":\"bar\"},{\"alignmentgroup\":\"True\",\"hovertemplate\":\"loja=%{y}<br>ano_mes=2021-07<br>acumulado=%{x}<extra></extra>\",\"legendgroup\":\"Loja 5\",\"marker\":{\"color\":\"#FFA15A\",\"pattern\":{\"shape\":\"\"}},\"name\":\"Loja 5\",\"offsetgroup\":\"Loja 5\",\"orientation\":\"h\",\"showlegend\":true,\"textposition\":\"auto\",\"texttemplate\":\"%{x}\",\"x\":[40291],\"xaxis\":\"x\",\"y\":[\"Loja 5\"],\"yaxis\":\"y\",\"type\":\"bar\"},{\"alignmentgroup\":\"True\",\"hovertemplate\":\"loja=%{y}<br>ano_mes=2021-07<br>acumulado=%{x}<extra></extra>\",\"legendgroup\":\"Loja 6\",\"marker\":{\"color\":\"#19d3f3\",\"pattern\":{\"shape\":\"\"}},\"name\":\"Loja 6\",\"offsetgroup\":\"Loja 6\",\"orientation\":\"h\",\"showlegend\":true,\"textposition\":\"auto\",\"texttemplate\":\"%{x}\",\"x\":[27900],\"xaxis\":\"x\",\"y\":[\"Loja 6\"],\"yaxis\":\"y\",\"type\":\"bar\"}],\"name\":\"2021-07\"},{\"data\":[{\"alignmentgroup\":\"True\",\"hovertemplate\":\"loja=%{y}<br>ano_mes=2021-08<br>acumulado=%{x}<extra></extra>\",\"legendgroup\":\"Loja 1\",\"marker\":{\"color\":\"#636efa\",\"pattern\":{\"shape\":\"\"}},\"name\":\"Loja 1\",\"offsetgroup\":\"Loja 1\",\"orientation\":\"h\",\"showlegend\":true,\"textposition\":\"auto\",\"texttemplate\":\"%{x}\",\"x\":[42885],\"xaxis\":\"x\",\"y\":[\"Loja 1\"],\"yaxis\":\"y\",\"type\":\"bar\"},{\"alignmentgroup\":\"True\",\"hovertemplate\":\"loja=%{y}<br>ano_mes=2021-08<br>acumulado=%{x}<extra></extra>\",\"legendgroup\":\"Loja 2\",\"marker\":{\"color\":\"#EF553B\",\"pattern\":{\"shape\":\"\"}},\"name\":\"Loja 2\",\"offsetgroup\":\"Loja 2\",\"orientation\":\"h\",\"showlegend\":true,\"textposition\":\"auto\",\"texttemplate\":\"%{x}\",\"x\":[28504],\"xaxis\":\"x\",\"y\":[\"Loja 2\"],\"yaxis\":\"y\",\"type\":\"bar\"},{\"alignmentgroup\":\"True\",\"hovertemplate\":\"loja=%{y}<br>ano_mes=2021-08<br>acumulado=%{x}<extra></extra>\",\"legendgroup\":\"Loja 3\",\"marker\":{\"color\":\"#00cc96\",\"pattern\":{\"shape\":\"\"}},\"name\":\"Loja 3\",\"offsetgroup\":\"Loja 3\",\"orientation\":\"h\",\"showlegend\":true,\"textposition\":\"auto\",\"texttemplate\":\"%{x}\",\"x\":[41189],\"xaxis\":\"x\",\"y\":[\"Loja 3\"],\"yaxis\":\"y\",\"type\":\"bar\"},{\"alignmentgroup\":\"True\",\"hovertemplate\":\"loja=%{y}<br>ano_mes=2021-08<br>acumulado=%{x}<extra></extra>\",\"legendgroup\":\"Loja 4\",\"marker\":{\"color\":\"#ab63fa\",\"pattern\":{\"shape\":\"\"}},\"name\":\"Loja 4\",\"offsetgroup\":\"Loja 4\",\"orientation\":\"h\",\"showlegend\":true,\"textposition\":\"auto\",\"texttemplate\":\"%{x}\",\"x\":[57723],\"xaxis\":\"x\",\"y\":[\"Loja 4\"],\"yaxis\":\"y\",\"type\":\"bar\"},{\"alignmentgroup\":\"True\",\"hovertemplate\":\"loja=%{y}<br>ano_mes=2021-08<br>acumulado=%{x}<extra></extra>\",\"legendgroup\":\"Loja 5\",\"marker\":{\"color\":\"#FFA15A\",\"pattern\":{\"shape\":\"\"}},\"name\":\"Loja 5\",\"offsetgroup\":\"Loja 5\",\"orientation\":\"h\",\"showlegend\":true,\"textposition\":\"auto\",\"texttemplate\":\"%{x}\",\"x\":[42508],\"xaxis\":\"x\",\"y\":[\"Loja 5\"],\"yaxis\":\"y\",\"type\":\"bar\"},{\"alignmentgroup\":\"True\",\"hovertemplate\":\"loja=%{y}<br>ano_mes=2021-08<br>acumulado=%{x}<extra></extra>\",\"legendgroup\":\"Loja 6\",\"marker\":{\"color\":\"#19d3f3\",\"pattern\":{\"shape\":\"\"}},\"name\":\"Loja 6\",\"offsetgroup\":\"Loja 6\",\"orientation\":\"h\",\"showlegend\":true,\"textposition\":\"auto\",\"texttemplate\":\"%{x}\",\"x\":[29598],\"xaxis\":\"x\",\"y\":[\"Loja 6\"],\"yaxis\":\"y\",\"type\":\"bar\"}],\"name\":\"2021-08\"},{\"data\":[{\"alignmentgroup\":\"True\",\"hovertemplate\":\"loja=%{y}<br>ano_mes=2021-09<br>acumulado=%{x}<extra></extra>\",\"legendgroup\":\"Loja 1\",\"marker\":{\"color\":\"#636efa\",\"pattern\":{\"shape\":\"\"}},\"name\":\"Loja 1\",\"offsetgroup\":\"Loja 1\",\"orientation\":\"h\",\"showlegend\":true,\"textposition\":\"auto\",\"texttemplate\":\"%{x}\",\"x\":[45016],\"xaxis\":\"x\",\"y\":[\"Loja 1\"],\"yaxis\":\"y\",\"type\":\"bar\"},{\"alignmentgroup\":\"True\",\"hovertemplate\":\"loja=%{y}<br>ano_mes=2021-09<br>acumulado=%{x}<extra></extra>\",\"legendgroup\":\"Loja 2\",\"marker\":{\"color\":\"#EF553B\",\"pattern\":{\"shape\":\"\"}},\"name\":\"Loja 2\",\"offsetgroup\":\"Loja 2\",\"orientation\":\"h\",\"showlegend\":true,\"textposition\":\"auto\",\"texttemplate\":\"%{x}\",\"x\":[30012],\"xaxis\":\"x\",\"y\":[\"Loja 2\"],\"yaxis\":\"y\",\"type\":\"bar\"},{\"alignmentgroup\":\"True\",\"hovertemplate\":\"loja=%{y}<br>ano_mes=2021-09<br>acumulado=%{x}<extra></extra>\",\"legendgroup\":\"Loja 3\",\"marker\":{\"color\":\"#00cc96\",\"pattern\":{\"shape\":\"\"}},\"name\":\"Loja 3\",\"offsetgroup\":\"Loja 3\",\"orientation\":\"h\",\"showlegend\":true,\"textposition\":\"auto\",\"texttemplate\":\"%{x}\",\"x\":[43258],\"xaxis\":\"x\",\"y\":[\"Loja 3\"],\"yaxis\":\"y\",\"type\":\"bar\"},{\"alignmentgroup\":\"True\",\"hovertemplate\":\"loja=%{y}<br>ano_mes=2021-09<br>acumulado=%{x}<extra></extra>\",\"legendgroup\":\"Loja 4\",\"marker\":{\"color\":\"#ab63fa\",\"pattern\":{\"shape\":\"\"}},\"name\":\"Loja 4\",\"offsetgroup\":\"Loja 4\",\"orientation\":\"h\",\"showlegend\":true,\"textposition\":\"auto\",\"texttemplate\":\"%{x}\",\"x\":[60019],\"xaxis\":\"x\",\"y\":[\"Loja 4\"],\"yaxis\":\"y\",\"type\":\"bar\"},{\"alignmentgroup\":\"True\",\"hovertemplate\":\"loja=%{y}<br>ano_mes=2021-09<br>acumulado=%{x}<extra></extra>\",\"legendgroup\":\"Loja 5\",\"marker\":{\"color\":\"#FFA15A\",\"pattern\":{\"shape\":\"\"}},\"name\":\"Loja 5\",\"offsetgroup\":\"Loja 5\",\"orientation\":\"h\",\"showlegend\":true,\"textposition\":\"auto\",\"texttemplate\":\"%{x}\",\"x\":[44650],\"xaxis\":\"x\",\"y\":[\"Loja 5\"],\"yaxis\":\"y\",\"type\":\"bar\"},{\"alignmentgroup\":\"True\",\"hovertemplate\":\"loja=%{y}<br>ano_mes=2021-09<br>acumulado=%{x}<extra></extra>\",\"legendgroup\":\"Loja 6\",\"marker\":{\"color\":\"#19d3f3\",\"pattern\":{\"shape\":\"\"}},\"name\":\"Loja 6\",\"offsetgroup\":\"Loja 6\",\"orientation\":\"h\",\"showlegend\":true,\"textposition\":\"auto\",\"texttemplate\":\"%{x}\",\"x\":[31375],\"xaxis\":\"x\",\"y\":[\"Loja 6\"],\"yaxis\":\"y\",\"type\":\"bar\"}],\"name\":\"2021-09\"},{\"data\":[{\"alignmentgroup\":\"True\",\"hovertemplate\":\"loja=%{y}<br>ano_mes=2021-10<br>acumulado=%{x}<extra></extra>\",\"legendgroup\":\"Loja 1\",\"marker\":{\"color\":\"#636efa\",\"pattern\":{\"shape\":\"\"}},\"name\":\"Loja 1\",\"offsetgroup\":\"Loja 1\",\"orientation\":\"h\",\"showlegend\":true,\"textposition\":\"auto\",\"texttemplate\":\"%{x}\",\"x\":[47192],\"xaxis\":\"x\",\"y\":[\"Loja 1\"],\"yaxis\":\"y\",\"type\":\"bar\"},{\"alignmentgroup\":\"True\",\"hovertemplate\":\"loja=%{y}<br>ano_mes=2021-10<br>acumulado=%{x}<extra></extra>\",\"legendgroup\":\"Loja 2\",\"marker\":{\"color\":\"#EF553B\",\"pattern\":{\"shape\":\"\"}},\"name\":\"Loja 2\",\"offsetgroup\":\"Loja 2\",\"orientation\":\"h\",\"showlegend\":true,\"textposition\":\"auto\",\"texttemplate\":\"%{x}\",\"x\":[31521],\"xaxis\":\"x\",\"y\":[\"Loja 2\"],\"yaxis\":\"y\",\"type\":\"bar\"},{\"alignmentgroup\":\"True\",\"hovertemplate\":\"loja=%{y}<br>ano_mes=2021-10<br>acumulado=%{x}<extra></extra>\",\"legendgroup\":\"Loja 3\",\"marker\":{\"color\":\"#00cc96\",\"pattern\":{\"shape\":\"\"}},\"name\":\"Loja 3\",\"offsetgroup\":\"Loja 3\",\"orientation\":\"h\",\"showlegend\":true,\"textposition\":\"auto\",\"texttemplate\":\"%{x}\",\"x\":[45671],\"xaxis\":\"x\",\"y\":[\"Loja 3\"],\"yaxis\":\"y\",\"type\":\"bar\"},{\"alignmentgroup\":\"True\",\"hovertemplate\":\"loja=%{y}<br>ano_mes=2021-10<br>acumulado=%{x}<extra></extra>\",\"legendgroup\":\"Loja 4\",\"marker\":{\"color\":\"#ab63fa\",\"pattern\":{\"shape\":\"\"}},\"name\":\"Loja 4\",\"offsetgroup\":\"Loja 4\",\"orientation\":\"h\",\"showlegend\":true,\"textposition\":\"auto\",\"texttemplate\":\"%{x}\",\"x\":[62355],\"xaxis\":\"x\",\"y\":[\"Loja 4\"],\"yaxis\":\"y\",\"type\":\"bar\"},{\"alignmentgroup\":\"True\",\"hovertemplate\":\"loja=%{y}<br>ano_mes=2021-10<br>acumulado=%{x}<extra></extra>\",\"legendgroup\":\"Loja 5\",\"marker\":{\"color\":\"#FFA15A\",\"pattern\":{\"shape\":\"\"}},\"name\":\"Loja 5\",\"offsetgroup\":\"Loja 5\",\"orientation\":\"h\",\"showlegend\":true,\"textposition\":\"auto\",\"texttemplate\":\"%{x}\",\"x\":[46657],\"xaxis\":\"x\",\"y\":[\"Loja 5\"],\"yaxis\":\"y\",\"type\":\"bar\"},{\"alignmentgroup\":\"True\",\"hovertemplate\":\"loja=%{y}<br>ano_mes=2021-10<br>acumulado=%{x}<extra></extra>\",\"legendgroup\":\"Loja 6\",\"marker\":{\"color\":\"#19d3f3\",\"pattern\":{\"shape\":\"\"}},\"name\":\"Loja 6\",\"offsetgroup\":\"Loja 6\",\"orientation\":\"h\",\"showlegend\":true,\"textposition\":\"auto\",\"texttemplate\":\"%{x}\",\"x\":[33302],\"xaxis\":\"x\",\"y\":[\"Loja 6\"],\"yaxis\":\"y\",\"type\":\"bar\"}],\"name\":\"2021-10\"},{\"data\":[{\"alignmentgroup\":\"True\",\"hovertemplate\":\"loja=%{y}<br>ano_mes=2021-11<br>acumulado=%{x}<extra></extra>\",\"legendgroup\":\"Loja 1\",\"marker\":{\"color\":\"#636efa\",\"pattern\":{\"shape\":\"\"}},\"name\":\"Loja 1\",\"offsetgroup\":\"Loja 1\",\"orientation\":\"h\",\"showlegend\":true,\"textposition\":\"auto\",\"texttemplate\":\"%{x}\",\"x\":[49249],\"xaxis\":\"x\",\"y\":[\"Loja 1\"],\"yaxis\":\"y\",\"type\":\"bar\"},{\"alignmentgroup\":\"True\",\"hovertemplate\":\"loja=%{y}<br>ano_mes=2021-11<br>acumulado=%{x}<extra></extra>\",\"legendgroup\":\"Loja 2\",\"marker\":{\"color\":\"#EF553B\",\"pattern\":{\"shape\":\"\"}},\"name\":\"Loja 2\",\"offsetgroup\":\"Loja 2\",\"orientation\":\"h\",\"showlegend\":true,\"textposition\":\"auto\",\"texttemplate\":\"%{x}\",\"x\":[32924],\"xaxis\":\"x\",\"y\":[\"Loja 2\"],\"yaxis\":\"y\",\"type\":\"bar\"},{\"alignmentgroup\":\"True\",\"hovertemplate\":\"loja=%{y}<br>ano_mes=2021-11<br>acumulado=%{x}<extra></extra>\",\"legendgroup\":\"Loja 3\",\"marker\":{\"color\":\"#00cc96\",\"pattern\":{\"shape\":\"\"}},\"name\":\"Loja 3\",\"offsetgroup\":\"Loja 3\",\"orientation\":\"h\",\"showlegend\":true,\"textposition\":\"auto\",\"texttemplate\":\"%{x}\",\"x\":[47919],\"xaxis\":\"x\",\"y\":[\"Loja 3\"],\"yaxis\":\"y\",\"type\":\"bar\"},{\"alignmentgroup\":\"True\",\"hovertemplate\":\"loja=%{y}<br>ano_mes=2021-11<br>acumulado=%{x}<extra></extra>\",\"legendgroup\":\"Loja 4\",\"marker\":{\"color\":\"#ab63fa\",\"pattern\":{\"shape\":\"\"}},\"name\":\"Loja 4\",\"offsetgroup\":\"Loja 4\",\"orientation\":\"h\",\"showlegend\":true,\"textposition\":\"auto\",\"texttemplate\":\"%{x}\",\"x\":[64707],\"xaxis\":\"x\",\"y\":[\"Loja 4\"],\"yaxis\":\"y\",\"type\":\"bar\"},{\"alignmentgroup\":\"True\",\"hovertemplate\":\"loja=%{y}<br>ano_mes=2021-11<br>acumulado=%{x}<extra></extra>\",\"legendgroup\":\"Loja 5\",\"marker\":{\"color\":\"#FFA15A\",\"pattern\":{\"shape\":\"\"}},\"name\":\"Loja 5\",\"offsetgroup\":\"Loja 5\",\"orientation\":\"h\",\"showlegend\":true,\"textposition\":\"auto\",\"texttemplate\":\"%{x}\",\"x\":[48876],\"xaxis\":\"x\",\"y\":[\"Loja 5\"],\"yaxis\":\"y\",\"type\":\"bar\"},{\"alignmentgroup\":\"True\",\"hovertemplate\":\"loja=%{y}<br>ano_mes=2021-11<br>acumulado=%{x}<extra></extra>\",\"legendgroup\":\"Loja 6\",\"marker\":{\"color\":\"#19d3f3\",\"pattern\":{\"shape\":\"\"}},\"name\":\"Loja 6\",\"offsetgroup\":\"Loja 6\",\"orientation\":\"h\",\"showlegend\":true,\"textposition\":\"auto\",\"texttemplate\":\"%{x}\",\"x\":[35226],\"xaxis\":\"x\",\"y\":[\"Loja 6\"],\"yaxis\":\"y\",\"type\":\"bar\"}],\"name\":\"2021-11\"},{\"data\":[{\"alignmentgroup\":\"True\",\"hovertemplate\":\"loja=%{y}<br>ano_mes=2021-12<br>acumulado=%{x}<extra></extra>\",\"legendgroup\":\"Loja 1\",\"marker\":{\"color\":\"#636efa\",\"pattern\":{\"shape\":\"\"}},\"name\":\"Loja 1\",\"offsetgroup\":\"Loja 1\",\"orientation\":\"h\",\"showlegend\":true,\"textposition\":\"auto\",\"texttemplate\":\"%{x}\",\"x\":[51340],\"xaxis\":\"x\",\"y\":[\"Loja 1\"],\"yaxis\":\"y\",\"type\":\"bar\"},{\"alignmentgroup\":\"True\",\"hovertemplate\":\"loja=%{y}<br>ano_mes=2021-12<br>acumulado=%{x}<extra></extra>\",\"legendgroup\":\"Loja 2\",\"marker\":{\"color\":\"#EF553B\",\"pattern\":{\"shape\":\"\"}},\"name\":\"Loja 2\",\"offsetgroup\":\"Loja 2\",\"orientation\":\"h\",\"showlegend\":true,\"textposition\":\"auto\",\"texttemplate\":\"%{x}\",\"x\":[34621],\"xaxis\":\"x\",\"y\":[\"Loja 2\"],\"yaxis\":\"y\",\"type\":\"bar\"},{\"alignmentgroup\":\"True\",\"hovertemplate\":\"loja=%{y}<br>ano_mes=2021-12<br>acumulado=%{x}<extra></extra>\",\"legendgroup\":\"Loja 3\",\"marker\":{\"color\":\"#00cc96\",\"pattern\":{\"shape\":\"\"}},\"name\":\"Loja 3\",\"offsetgroup\":\"Loja 3\",\"orientation\":\"h\",\"showlegend\":true,\"textposition\":\"auto\",\"texttemplate\":\"%{x}\",\"x\":[50071],\"xaxis\":\"x\",\"y\":[\"Loja 3\"],\"yaxis\":\"y\",\"type\":\"bar\"},{\"alignmentgroup\":\"True\",\"hovertemplate\":\"loja=%{y}<br>ano_mes=2021-12<br>acumulado=%{x}<extra></extra>\",\"legendgroup\":\"Loja 4\",\"marker\":{\"color\":\"#ab63fa\",\"pattern\":{\"shape\":\"\"}},\"name\":\"Loja 4\",\"offsetgroup\":\"Loja 4\",\"orientation\":\"h\",\"showlegend\":true,\"textposition\":\"auto\",\"texttemplate\":\"%{x}\",\"x\":[66139],\"xaxis\":\"x\",\"y\":[\"Loja 4\"],\"yaxis\":\"y\",\"type\":\"bar\"},{\"alignmentgroup\":\"True\",\"hovertemplate\":\"loja=%{y}<br>ano_mes=2021-12<br>acumulado=%{x}<extra></extra>\",\"legendgroup\":\"Loja 5\",\"marker\":{\"color\":\"#FFA15A\",\"pattern\":{\"shape\":\"\"}},\"name\":\"Loja 5\",\"offsetgroup\":\"Loja 5\",\"orientation\":\"h\",\"showlegend\":true,\"textposition\":\"auto\",\"texttemplate\":\"%{x}\",\"x\":[50857],\"xaxis\":\"x\",\"y\":[\"Loja 5\"],\"yaxis\":\"y\",\"type\":\"bar\"},{\"alignmentgroup\":\"True\",\"hovertemplate\":\"loja=%{y}<br>ano_mes=2021-12<br>acumulado=%{x}<extra></extra>\",\"legendgroup\":\"Loja 6\",\"marker\":{\"color\":\"#19d3f3\",\"pattern\":{\"shape\":\"\"}},\"name\":\"Loja 6\",\"offsetgroup\":\"Loja 6\",\"orientation\":\"h\",\"showlegend\":true,\"textposition\":\"auto\",\"texttemplate\":\"%{x}\",\"x\":[38258],\"xaxis\":\"x\",\"y\":[\"Loja 6\"],\"yaxis\":\"y\",\"type\":\"bar\"}],\"name\":\"2021-12\"},{\"data\":[{\"alignmentgroup\":\"True\",\"hovertemplate\":\"loja=%{y}<br>ano_mes=2022-01<br>acumulado=%{x}<extra></extra>\",\"legendgroup\":\"Loja 1\",\"marker\":{\"color\":\"#636efa\",\"pattern\":{\"shape\":\"\"}},\"name\":\"Loja 1\",\"offsetgroup\":\"Loja 1\",\"orientation\":\"h\",\"showlegend\":true,\"textposition\":\"auto\",\"texttemplate\":\"%{x}\",\"x\":[55453],\"xaxis\":\"x\",\"y\":[\"Loja 1\"],\"yaxis\":\"y\",\"type\":\"bar\"},{\"alignmentgroup\":\"True\",\"hovertemplate\":\"loja=%{y}<br>ano_mes=2022-01<br>acumulado=%{x}<extra></extra>\",\"legendgroup\":\"Loja 2\",\"marker\":{\"color\":\"#EF553B\",\"pattern\":{\"shape\":\"\"}},\"name\":\"Loja 2\",\"offsetgroup\":\"Loja 2\",\"orientation\":\"h\",\"showlegend\":true,\"textposition\":\"auto\",\"texttemplate\":\"%{x}\",\"x\":[37399],\"xaxis\":\"x\",\"y\":[\"Loja 2\"],\"yaxis\":\"y\",\"type\":\"bar\"},{\"alignmentgroup\":\"True\",\"hovertemplate\":\"loja=%{y}<br>ano_mes=2022-01<br>acumulado=%{x}<extra></extra>\",\"legendgroup\":\"Loja 3\",\"marker\":{\"color\":\"#00cc96\",\"pattern\":{\"shape\":\"\"}},\"name\":\"Loja 3\",\"offsetgroup\":\"Loja 3\",\"orientation\":\"h\",\"showlegend\":true,\"textposition\":\"auto\",\"texttemplate\":\"%{x}\",\"x\":[54524],\"xaxis\":\"x\",\"y\":[\"Loja 3\"],\"yaxis\":\"y\",\"type\":\"bar\"},{\"alignmentgroup\":\"True\",\"hovertemplate\":\"loja=%{y}<br>ano_mes=2022-01<br>acumulado=%{x}<extra></extra>\",\"legendgroup\":\"Loja 4\",\"marker\":{\"color\":\"#ab63fa\",\"pattern\":{\"shape\":\"\"}},\"name\":\"Loja 4\",\"offsetgroup\":\"Loja 4\",\"orientation\":\"h\",\"showlegend\":true,\"textposition\":\"auto\",\"texttemplate\":\"%{x}\",\"x\":[73894],\"xaxis\":\"x\",\"y\":[\"Loja 4\"],\"yaxis\":\"y\",\"type\":\"bar\"},{\"alignmentgroup\":\"True\",\"hovertemplate\":\"loja=%{y}<br>ano_mes=2022-01<br>acumulado=%{x}<extra></extra>\",\"legendgroup\":\"Loja 5\",\"marker\":{\"color\":\"#FFA15A\",\"pattern\":{\"shape\":\"\"}},\"name\":\"Loja 5\",\"offsetgroup\":\"Loja 5\",\"orientation\":\"h\",\"showlegend\":true,\"textposition\":\"auto\",\"texttemplate\":\"%{x}\",\"x\":[55261],\"xaxis\":\"x\",\"y\":[\"Loja 5\"],\"yaxis\":\"y\",\"type\":\"bar\"},{\"alignmentgroup\":\"True\",\"hovertemplate\":\"loja=%{y}<br>ano_mes=2022-01<br>acumulado=%{x}<extra></extra>\",\"legendgroup\":\"Loja 6\",\"marker\":{\"color\":\"#19d3f3\",\"pattern\":{\"shape\":\"\"}},\"name\":\"Loja 6\",\"offsetgroup\":\"Loja 6\",\"orientation\":\"h\",\"showlegend\":true,\"textposition\":\"auto\",\"texttemplate\":\"%{x}\",\"x\":[39041],\"xaxis\":\"x\",\"y\":[\"Loja 6\"],\"yaxis\":\"y\",\"type\":\"bar\"}],\"name\":\"2022-01\"},{\"data\":[{\"alignmentgroup\":\"True\",\"hovertemplate\":\"loja=%{y}<br>ano_mes=2022-02<br>acumulado=%{x}<extra></extra>\",\"legendgroup\":\"Loja 1\",\"marker\":{\"color\":\"#636efa\",\"pattern\":{\"shape\":\"\"}},\"name\":\"Loja 1\",\"offsetgroup\":\"Loja 1\",\"orientation\":\"h\",\"showlegend\":true,\"textposition\":\"auto\",\"texttemplate\":\"%{x}\",\"x\":[59526],\"xaxis\":\"x\",\"y\":[\"Loja 1\"],\"yaxis\":\"y\",\"type\":\"bar\"},{\"alignmentgroup\":\"True\",\"hovertemplate\":\"loja=%{y}<br>ano_mes=2022-02<br>acumulado=%{x}<extra></extra>\",\"legendgroup\":\"Loja 2\",\"marker\":{\"color\":\"#EF553B\",\"pattern\":{\"shape\":\"\"}},\"name\":\"Loja 2\",\"offsetgroup\":\"Loja 2\",\"orientation\":\"h\",\"showlegend\":true,\"textposition\":\"auto\",\"texttemplate\":\"%{x}\",\"x\":[39954],\"xaxis\":\"x\",\"y\":[\"Loja 2\"],\"yaxis\":\"y\",\"type\":\"bar\"},{\"alignmentgroup\":\"True\",\"hovertemplate\":\"loja=%{y}<br>ano_mes=2022-02<br>acumulado=%{x}<extra></extra>\",\"legendgroup\":\"Loja 3\",\"marker\":{\"color\":\"#00cc96\",\"pattern\":{\"shape\":\"\"}},\"name\":\"Loja 3\",\"offsetgroup\":\"Loja 3\",\"orientation\":\"h\",\"showlegend\":true,\"textposition\":\"auto\",\"texttemplate\":\"%{x}\",\"x\":[58346],\"xaxis\":\"x\",\"y\":[\"Loja 3\"],\"yaxis\":\"y\",\"type\":\"bar\"},{\"alignmentgroup\":\"True\",\"hovertemplate\":\"loja=%{y}<br>ano_mes=2022-02<br>acumulado=%{x}<extra></extra>\",\"legendgroup\":\"Loja 4\",\"marker\":{\"color\":\"#ab63fa\",\"pattern\":{\"shape\":\"\"}},\"name\":\"Loja 4\",\"offsetgroup\":\"Loja 4\",\"orientation\":\"h\",\"showlegend\":true,\"textposition\":\"auto\",\"texttemplate\":\"%{x}\",\"x\":[77636],\"xaxis\":\"x\",\"y\":[\"Loja 4\"],\"yaxis\":\"y\",\"type\":\"bar\"},{\"alignmentgroup\":\"True\",\"hovertemplate\":\"loja=%{y}<br>ano_mes=2022-02<br>acumulado=%{x}<extra></extra>\",\"legendgroup\":\"Loja 5\",\"marker\":{\"color\":\"#FFA15A\",\"pattern\":{\"shape\":\"\"}},\"name\":\"Loja 5\",\"offsetgroup\":\"Loja 5\",\"orientation\":\"h\",\"showlegend\":true,\"textposition\":\"auto\",\"texttemplate\":\"%{x}\",\"x\":[59090],\"xaxis\":\"x\",\"y\":[\"Loja 5\"],\"yaxis\":\"y\",\"type\":\"bar\"},{\"alignmentgroup\":\"True\",\"hovertemplate\":\"loja=%{y}<br>ano_mes=2022-02<br>acumulado=%{x}<extra></extra>\",\"legendgroup\":\"Loja 6\",\"marker\":{\"color\":\"#19d3f3\",\"pattern\":{\"shape\":\"\"}},\"name\":\"Loja 6\",\"offsetgroup\":\"Loja 6\",\"orientation\":\"h\",\"showlegend\":true,\"textposition\":\"auto\",\"texttemplate\":\"%{x}\",\"x\":[43274],\"xaxis\":\"x\",\"y\":[\"Loja 6\"],\"yaxis\":\"y\",\"type\":\"bar\"}],\"name\":\"2022-02\"},{\"data\":[{\"alignmentgroup\":\"True\",\"hovertemplate\":\"loja=%{y}<br>ano_mes=2022-03<br>acumulado=%{x}<extra></extra>\",\"legendgroup\":\"Loja 1\",\"marker\":{\"color\":\"#636efa\",\"pattern\":{\"shape\":\"\"}},\"name\":\"Loja 1\",\"offsetgroup\":\"Loja 1\",\"orientation\":\"h\",\"showlegend\":true,\"textposition\":\"auto\",\"texttemplate\":\"%{x}\",\"x\":[64157],\"xaxis\":\"x\",\"y\":[\"Loja 1\"],\"yaxis\":\"y\",\"type\":\"bar\"},{\"alignmentgroup\":\"True\",\"hovertemplate\":\"loja=%{y}<br>ano_mes=2022-03<br>acumulado=%{x}<extra></extra>\",\"legendgroup\":\"Loja 2\",\"marker\":{\"color\":\"#EF553B\",\"pattern\":{\"shape\":\"\"}},\"name\":\"Loja 2\",\"offsetgroup\":\"Loja 2\",\"orientation\":\"h\",\"showlegend\":true,\"textposition\":\"auto\",\"texttemplate\":\"%{x}\",\"x\":[42968],\"xaxis\":\"x\",\"y\":[\"Loja 2\"],\"yaxis\":\"y\",\"type\":\"bar\"},{\"alignmentgroup\":\"True\",\"hovertemplate\":\"loja=%{y}<br>ano_mes=2022-03<br>acumulado=%{x}<extra></extra>\",\"legendgroup\":\"Loja 3\",\"marker\":{\"color\":\"#00cc96\",\"pattern\":{\"shape\":\"\"}},\"name\":\"Loja 3\",\"offsetgroup\":\"Loja 3\",\"orientation\":\"h\",\"showlegend\":true,\"textposition\":\"auto\",\"texttemplate\":\"%{x}\",\"x\":[62928],\"xaxis\":\"x\",\"y\":[\"Loja 3\"],\"yaxis\":\"y\",\"type\":\"bar\"},{\"alignmentgroup\":\"True\",\"hovertemplate\":\"loja=%{y}<br>ano_mes=2022-03<br>acumulado=%{x}<extra></extra>\",\"legendgroup\":\"Loja 4\",\"marker\":{\"color\":\"#ab63fa\",\"pattern\":{\"shape\":\"\"}},\"name\":\"Loja 4\",\"offsetgroup\":\"Loja 4\",\"orientation\":\"h\",\"showlegend\":true,\"textposition\":\"auto\",\"texttemplate\":\"%{x}\",\"x\":[82448],\"xaxis\":\"x\",\"y\":[\"Loja 4\"],\"yaxis\":\"y\",\"type\":\"bar\"},{\"alignmentgroup\":\"True\",\"hovertemplate\":\"loja=%{y}<br>ano_mes=2022-03<br>acumulado=%{x}<extra></extra>\",\"legendgroup\":\"Loja 5\",\"marker\":{\"color\":\"#FFA15A\",\"pattern\":{\"shape\":\"\"}},\"name\":\"Loja 5\",\"offsetgroup\":\"Loja 5\",\"orientation\":\"h\",\"showlegend\":true,\"textposition\":\"auto\",\"texttemplate\":\"%{x}\",\"x\":[63924],\"xaxis\":\"x\",\"y\":[\"Loja 5\"],\"yaxis\":\"y\",\"type\":\"bar\"},{\"alignmentgroup\":\"True\",\"hovertemplate\":\"loja=%{y}<br>ano_mes=2022-03<br>acumulado=%{x}<extra></extra>\",\"legendgroup\":\"Loja 6\",\"marker\":{\"color\":\"#19d3f3\",\"pattern\":{\"shape\":\"\"}},\"name\":\"Loja 6\",\"offsetgroup\":\"Loja 6\",\"orientation\":\"h\",\"showlegend\":true,\"textposition\":\"auto\",\"texttemplate\":\"%{x}\",\"x\":[47517],\"xaxis\":\"x\",\"y\":[\"Loja 6\"],\"yaxis\":\"y\",\"type\":\"bar\"}],\"name\":\"2022-03\"},{\"data\":[{\"alignmentgroup\":\"True\",\"hovertemplate\":\"loja=%{y}<br>ano_mes=2022-04<br>acumulado=%{x}<extra></extra>\",\"legendgroup\":\"Loja 1\",\"marker\":{\"color\":\"#636efa\",\"pattern\":{\"shape\":\"\"}},\"name\":\"Loja 1\",\"offsetgroup\":\"Loja 1\",\"orientation\":\"h\",\"showlegend\":true,\"textposition\":\"auto\",\"texttemplate\":\"%{x}\",\"x\":[68481],\"xaxis\":\"x\",\"y\":[\"Loja 1\"],\"yaxis\":\"y\",\"type\":\"bar\"},{\"alignmentgroup\":\"True\",\"hovertemplate\":\"loja=%{y}<br>ano_mes=2022-04<br>acumulado=%{x}<extra></extra>\",\"legendgroup\":\"Loja 2\",\"marker\":{\"color\":\"#EF553B\",\"pattern\":{\"shape\":\"\"}},\"name\":\"Loja 2\",\"offsetgroup\":\"Loja 2\",\"orientation\":\"h\",\"showlegend\":true,\"textposition\":\"auto\",\"texttemplate\":\"%{x}\",\"x\":[45932],\"xaxis\":\"x\",\"y\":[\"Loja 2\"],\"yaxis\":\"y\",\"type\":\"bar\"},{\"alignmentgroup\":\"True\",\"hovertemplate\":\"loja=%{y}<br>ano_mes=2022-04<br>acumulado=%{x}<extra></extra>\",\"legendgroup\":\"Loja 3\",\"marker\":{\"color\":\"#00cc96\",\"pattern\":{\"shape\":\"\"}},\"name\":\"Loja 3\",\"offsetgroup\":\"Loja 3\",\"orientation\":\"h\",\"showlegend\":true,\"textposition\":\"auto\",\"texttemplate\":\"%{x}\",\"x\":[66844],\"xaxis\":\"x\",\"y\":[\"Loja 3\"],\"yaxis\":\"y\",\"type\":\"bar\"},{\"alignmentgroup\":\"True\",\"hovertemplate\":\"loja=%{y}<br>ano_mes=2022-04<br>acumulado=%{x}<extra></extra>\",\"legendgroup\":\"Loja 4\",\"marker\":{\"color\":\"#ab63fa\",\"pattern\":{\"shape\":\"\"}},\"name\":\"Loja 4\",\"offsetgroup\":\"Loja 4\",\"orientation\":\"h\",\"showlegend\":true,\"textposition\":\"auto\",\"texttemplate\":\"%{x}\",\"x\":[87000],\"xaxis\":\"x\",\"y\":[\"Loja 4\"],\"yaxis\":\"y\",\"type\":\"bar\"},{\"alignmentgroup\":\"True\",\"hovertemplate\":\"loja=%{y}<br>ano_mes=2022-04<br>acumulado=%{x}<extra></extra>\",\"legendgroup\":\"Loja 5\",\"marker\":{\"color\":\"#FFA15A\",\"pattern\":{\"shape\":\"\"}},\"name\":\"Loja 5\",\"offsetgroup\":\"Loja 5\",\"orientation\":\"h\",\"showlegend\":true,\"textposition\":\"auto\",\"texttemplate\":\"%{x}\",\"x\":[67679],\"xaxis\":\"x\",\"y\":[\"Loja 5\"],\"yaxis\":\"y\",\"type\":\"bar\"},{\"alignmentgroup\":\"True\",\"hovertemplate\":\"loja=%{y}<br>ano_mes=2022-04<br>acumulado=%{x}<extra></extra>\",\"legendgroup\":\"Loja 6\",\"marker\":{\"color\":\"#19d3f3\",\"pattern\":{\"shape\":\"\"}},\"name\":\"Loja 6\",\"offsetgroup\":\"Loja 6\",\"orientation\":\"h\",\"showlegend\":true,\"textposition\":\"auto\",\"texttemplate\":\"%{x}\",\"x\":[51403],\"xaxis\":\"x\",\"y\":[\"Loja 6\"],\"yaxis\":\"y\",\"type\":\"bar\"}],\"name\":\"2022-04\"},{\"data\":[{\"alignmentgroup\":\"True\",\"hovertemplate\":\"loja=%{y}<br>ano_mes=2022-05<br>acumulado=%{x}<extra></extra>\",\"legendgroup\":\"Loja 1\",\"marker\":{\"color\":\"#636efa\",\"pattern\":{\"shape\":\"\"}},\"name\":\"Loja 1\",\"offsetgroup\":\"Loja 1\",\"orientation\":\"h\",\"showlegend\":true,\"textposition\":\"auto\",\"texttemplate\":\"%{x}\",\"x\":[72999],\"xaxis\":\"x\",\"y\":[\"Loja 1\"],\"yaxis\":\"y\",\"type\":\"bar\"},{\"alignmentgroup\":\"True\",\"hovertemplate\":\"loja=%{y}<br>ano_mes=2022-05<br>acumulado=%{x}<extra></extra>\",\"legendgroup\":\"Loja 2\",\"marker\":{\"color\":\"#EF553B\",\"pattern\":{\"shape\":\"\"}},\"name\":\"Loja 2\",\"offsetgroup\":\"Loja 2\",\"orientation\":\"h\",\"showlegend\":true,\"textposition\":\"auto\",\"texttemplate\":\"%{x}\",\"x\":[48981],\"xaxis\":\"x\",\"y\":[\"Loja 2\"],\"yaxis\":\"y\",\"type\":\"bar\"},{\"alignmentgroup\":\"True\",\"hovertemplate\":\"loja=%{y}<br>ano_mes=2022-05<br>acumulado=%{x}<extra></extra>\",\"legendgroup\":\"Loja 3\",\"marker\":{\"color\":\"#00cc96\",\"pattern\":{\"shape\":\"\"}},\"name\":\"Loja 3\",\"offsetgroup\":\"Loja 3\",\"orientation\":\"h\",\"showlegend\":true,\"textposition\":\"auto\",\"texttemplate\":\"%{x}\",\"x\":[71304],\"xaxis\":\"x\",\"y\":[\"Loja 3\"],\"yaxis\":\"y\",\"type\":\"bar\"},{\"alignmentgroup\":\"True\",\"hovertemplate\":\"loja=%{y}<br>ano_mes=2022-05<br>acumulado=%{x}<extra></extra>\",\"legendgroup\":\"Loja 4\",\"marker\":{\"color\":\"#ab63fa\",\"pattern\":{\"shape\":\"\"}},\"name\":\"Loja 4\",\"offsetgroup\":\"Loja 4\",\"orientation\":\"h\",\"showlegend\":true,\"textposition\":\"auto\",\"texttemplate\":\"%{x}\",\"x\":[92755],\"xaxis\":\"x\",\"y\":[\"Loja 4\"],\"yaxis\":\"y\",\"type\":\"bar\"},{\"alignmentgroup\":\"True\",\"hovertemplate\":\"loja=%{y}<br>ano_mes=2022-05<br>acumulado=%{x}<extra></extra>\",\"legendgroup\":\"Loja 5\",\"marker\":{\"color\":\"#FFA15A\",\"pattern\":{\"shape\":\"\"}},\"name\":\"Loja 5\",\"offsetgroup\":\"Loja 5\",\"orientation\":\"h\",\"showlegend\":true,\"textposition\":\"auto\",\"texttemplate\":\"%{x}\",\"x\":[72200],\"xaxis\":\"x\",\"y\":[\"Loja 5\"],\"yaxis\":\"y\",\"type\":\"bar\"},{\"alignmentgroup\":\"True\",\"hovertemplate\":\"loja=%{y}<br>ano_mes=2022-05<br>acumulado=%{x}<extra></extra>\",\"legendgroup\":\"Loja 6\",\"marker\":{\"color\":\"#19d3f3\",\"pattern\":{\"shape\":\"\"}},\"name\":\"Loja 6\",\"offsetgroup\":\"Loja 6\",\"orientation\":\"h\",\"showlegend\":true,\"textposition\":\"auto\",\"texttemplate\":\"%{x}\",\"x\":[54545],\"xaxis\":\"x\",\"y\":[\"Loja 6\"],\"yaxis\":\"y\",\"type\":\"bar\"}],\"name\":\"2022-05\"},{\"data\":[{\"alignmentgroup\":\"True\",\"hovertemplate\":\"loja=%{y}<br>ano_mes=2022-06<br>acumulado=%{x}<extra></extra>\",\"legendgroup\":\"Loja 1\",\"marker\":{\"color\":\"#636efa\",\"pattern\":{\"shape\":\"\"}},\"name\":\"Loja 1\",\"offsetgroup\":\"Loja 1\",\"orientation\":\"h\",\"showlegend\":true,\"textposition\":\"auto\",\"texttemplate\":\"%{x}\",\"x\":[77511],\"xaxis\":\"x\",\"y\":[\"Loja 1\"],\"yaxis\":\"y\",\"type\":\"bar\"},{\"alignmentgroup\":\"True\",\"hovertemplate\":\"loja=%{y}<br>ano_mes=2022-06<br>acumulado=%{x}<extra></extra>\",\"legendgroup\":\"Loja 2\",\"marker\":{\"color\":\"#EF553B\",\"pattern\":{\"shape\":\"\"}},\"name\":\"Loja 2\",\"offsetgroup\":\"Loja 2\",\"orientation\":\"h\",\"showlegend\":true,\"textposition\":\"auto\",\"texttemplate\":\"%{x}\",\"x\":[51825],\"xaxis\":\"x\",\"y\":[\"Loja 2\"],\"yaxis\":\"y\",\"type\":\"bar\"},{\"alignmentgroup\":\"True\",\"hovertemplate\":\"loja=%{y}<br>ano_mes=2022-06<br>acumulado=%{x}<extra></extra>\",\"legendgroup\":\"Loja 3\",\"marker\":{\"color\":\"#00cc96\",\"pattern\":{\"shape\":\"\"}},\"name\":\"Loja 3\",\"offsetgroup\":\"Loja 3\",\"orientation\":\"h\",\"showlegend\":true,\"textposition\":\"auto\",\"texttemplate\":\"%{x}\",\"x\":[74925],\"xaxis\":\"x\",\"y\":[\"Loja 3\"],\"yaxis\":\"y\",\"type\":\"bar\"},{\"alignmentgroup\":\"True\",\"hovertemplate\":\"loja=%{y}<br>ano_mes=2022-06<br>acumulado=%{x}<extra></extra>\",\"legendgroup\":\"Loja 4\",\"marker\":{\"color\":\"#ab63fa\",\"pattern\":{\"shape\":\"\"}},\"name\":\"Loja 4\",\"offsetgroup\":\"Loja 4\",\"orientation\":\"h\",\"showlegend\":true,\"textposition\":\"auto\",\"texttemplate\":\"%{x}\",\"x\":[95444],\"xaxis\":\"x\",\"y\":[\"Loja 4\"],\"yaxis\":\"y\",\"type\":\"bar\"},{\"alignmentgroup\":\"True\",\"hovertemplate\":\"loja=%{y}<br>ano_mes=2022-06<br>acumulado=%{x}<extra></extra>\",\"legendgroup\":\"Loja 5\",\"marker\":{\"color\":\"#FFA15A\",\"pattern\":{\"shape\":\"\"}},\"name\":\"Loja 5\",\"offsetgroup\":\"Loja 5\",\"orientation\":\"h\",\"showlegend\":true,\"textposition\":\"auto\",\"texttemplate\":\"%{x}\",\"x\":[76568],\"xaxis\":\"x\",\"y\":[\"Loja 5\"],\"yaxis\":\"y\",\"type\":\"bar\"},{\"alignmentgroup\":\"True\",\"hovertemplate\":\"loja=%{y}<br>ano_mes=2022-06<br>acumulado=%{x}<extra></extra>\",\"legendgroup\":\"Loja 6\",\"marker\":{\"color\":\"#19d3f3\",\"pattern\":{\"shape\":\"\"}},\"name\":\"Loja 6\",\"offsetgroup\":\"Loja 6\",\"orientation\":\"h\",\"showlegend\":true,\"textposition\":\"auto\",\"texttemplate\":\"%{x}\",\"x\":[60602],\"xaxis\":\"x\",\"y\":[\"Loja 6\"],\"yaxis\":\"y\",\"type\":\"bar\"}],\"name\":\"2022-06\"},{\"data\":[{\"alignmentgroup\":\"True\",\"hovertemplate\":\"loja=%{y}<br>ano_mes=2022-07<br>acumulado=%{x}<extra></extra>\",\"legendgroup\":\"Loja 1\",\"marker\":{\"color\":\"#636efa\",\"pattern\":{\"shape\":\"\"}},\"name\":\"Loja 1\",\"offsetgroup\":\"Loja 1\",\"orientation\":\"h\",\"showlegend\":true,\"textposition\":\"auto\",\"texttemplate\":\"%{x}\",\"x\":[81579],\"xaxis\":\"x\",\"y\":[\"Loja 1\"],\"yaxis\":\"y\",\"type\":\"bar\"},{\"alignmentgroup\":\"True\",\"hovertemplate\":\"loja=%{y}<br>ano_mes=2022-07<br>acumulado=%{x}<extra></extra>\",\"legendgroup\":\"Loja 2\",\"marker\":{\"color\":\"#EF553B\",\"pattern\":{\"shape\":\"\"}},\"name\":\"Loja 2\",\"offsetgroup\":\"Loja 2\",\"orientation\":\"h\",\"showlegend\":true,\"textposition\":\"auto\",\"texttemplate\":\"%{x}\",\"x\":[55103],\"xaxis\":\"x\",\"y\":[\"Loja 2\"],\"yaxis\":\"y\",\"type\":\"bar\"},{\"alignmentgroup\":\"True\",\"hovertemplate\":\"loja=%{y}<br>ano_mes=2022-07<br>acumulado=%{x}<extra></extra>\",\"legendgroup\":\"Loja 3\",\"marker\":{\"color\":\"#00cc96\",\"pattern\":{\"shape\":\"\"}},\"name\":\"Loja 3\",\"offsetgroup\":\"Loja 3\",\"orientation\":\"h\",\"showlegend\":true,\"textposition\":\"auto\",\"texttemplate\":\"%{x}\",\"x\":[77650],\"xaxis\":\"x\",\"y\":[\"Loja 3\"],\"yaxis\":\"y\",\"type\":\"bar\"},{\"alignmentgroup\":\"True\",\"hovertemplate\":\"loja=%{y}<br>ano_mes=2022-07<br>acumulado=%{x}<extra></extra>\",\"legendgroup\":\"Loja 4\",\"marker\":{\"color\":\"#ab63fa\",\"pattern\":{\"shape\":\"\"}},\"name\":\"Loja 4\",\"offsetgroup\":\"Loja 4\",\"orientation\":\"h\",\"showlegend\":true,\"textposition\":\"auto\",\"texttemplate\":\"%{x}\",\"x\":[98264],\"xaxis\":\"x\",\"y\":[\"Loja 4\"],\"yaxis\":\"y\",\"type\":\"bar\"},{\"alignmentgroup\":\"True\",\"hovertemplate\":\"loja=%{y}<br>ano_mes=2022-07<br>acumulado=%{x}<extra></extra>\",\"legendgroup\":\"Loja 5\",\"marker\":{\"color\":\"#FFA15A\",\"pattern\":{\"shape\":\"\"}},\"name\":\"Loja 5\",\"offsetgroup\":\"Loja 5\",\"orientation\":\"h\",\"showlegend\":true,\"textposition\":\"auto\",\"texttemplate\":\"%{x}\",\"x\":[80931],\"xaxis\":\"x\",\"y\":[\"Loja 5\"],\"yaxis\":\"y\",\"type\":\"bar\"},{\"alignmentgroup\":\"True\",\"hovertemplate\":\"loja=%{y}<br>ano_mes=2022-07<br>acumulado=%{x}<extra></extra>\",\"legendgroup\":\"Loja 6\",\"marker\":{\"color\":\"#19d3f3\",\"pattern\":{\"shape\":\"\"}},\"name\":\"Loja 6\",\"offsetgroup\":\"Loja 6\",\"orientation\":\"h\",\"showlegend\":true,\"textposition\":\"auto\",\"texttemplate\":\"%{x}\",\"x\":[69240],\"xaxis\":\"x\",\"y\":[\"Loja 6\"],\"yaxis\":\"y\",\"type\":\"bar\"}],\"name\":\"2022-07\"},{\"data\":[{\"alignmentgroup\":\"True\",\"hovertemplate\":\"loja=%{y}<br>ano_mes=2022-08<br>acumulado=%{x}<extra></extra>\",\"legendgroup\":\"Loja 1\",\"marker\":{\"color\":\"#636efa\",\"pattern\":{\"shape\":\"\"}},\"name\":\"Loja 1\",\"offsetgroup\":\"Loja 1\",\"orientation\":\"h\",\"showlegend\":true,\"textposition\":\"auto\",\"texttemplate\":\"%{x}\",\"x\":[86138],\"xaxis\":\"x\",\"y\":[\"Loja 1\"],\"yaxis\":\"y\",\"type\":\"bar\"},{\"alignmentgroup\":\"True\",\"hovertemplate\":\"loja=%{y}<br>ano_mes=2022-08<br>acumulado=%{x}<extra></extra>\",\"legendgroup\":\"Loja 2\",\"marker\":{\"color\":\"#EF553B\",\"pattern\":{\"shape\":\"\"}},\"name\":\"Loja 2\",\"offsetgroup\":\"Loja 2\",\"orientation\":\"h\",\"showlegend\":true,\"textposition\":\"auto\",\"texttemplate\":\"%{x}\",\"x\":[57833],\"xaxis\":\"x\",\"y\":[\"Loja 2\"],\"yaxis\":\"y\",\"type\":\"bar\"},{\"alignmentgroup\":\"True\",\"hovertemplate\":\"loja=%{y}<br>ano_mes=2022-08<br>acumulado=%{x}<extra></extra>\",\"legendgroup\":\"Loja 3\",\"marker\":{\"color\":\"#00cc96\",\"pattern\":{\"shape\":\"\"}},\"name\":\"Loja 3\",\"offsetgroup\":\"Loja 3\",\"orientation\":\"h\",\"showlegend\":true,\"textposition\":\"auto\",\"texttemplate\":\"%{x}\",\"x\":[79685],\"xaxis\":\"x\",\"y\":[\"Loja 3\"],\"yaxis\":\"y\",\"type\":\"bar\"},{\"alignmentgroup\":\"True\",\"hovertemplate\":\"loja=%{y}<br>ano_mes=2022-08<br>acumulado=%{x}<extra></extra>\",\"legendgroup\":\"Loja 4\",\"marker\":{\"color\":\"#ab63fa\",\"pattern\":{\"shape\":\"\"}},\"name\":\"Loja 4\",\"offsetgroup\":\"Loja 4\",\"orientation\":\"h\",\"showlegend\":true,\"textposition\":\"auto\",\"texttemplate\":\"%{x}\",\"x\":[100834],\"xaxis\":\"x\",\"y\":[\"Loja 4\"],\"yaxis\":\"y\",\"type\":\"bar\"},{\"alignmentgroup\":\"True\",\"hovertemplate\":\"loja=%{y}<br>ano_mes=2022-08<br>acumulado=%{x}<extra></extra>\",\"legendgroup\":\"Loja 5\",\"marker\":{\"color\":\"#FFA15A\",\"pattern\":{\"shape\":\"\"}},\"name\":\"Loja 5\",\"offsetgroup\":\"Loja 5\",\"orientation\":\"h\",\"showlegend\":true,\"textposition\":\"auto\",\"texttemplate\":\"%{x}\",\"x\":[85049],\"xaxis\":\"x\",\"y\":[\"Loja 5\"],\"yaxis\":\"y\",\"type\":\"bar\"},{\"alignmentgroup\":\"True\",\"hovertemplate\":\"loja=%{y}<br>ano_mes=2022-08<br>acumulado=%{x}<extra></extra>\",\"legendgroup\":\"Loja 6\",\"marker\":{\"color\":\"#19d3f3\",\"pattern\":{\"shape\":\"\"}},\"name\":\"Loja 6\",\"offsetgroup\":\"Loja 6\",\"orientation\":\"h\",\"showlegend\":true,\"textposition\":\"auto\",\"texttemplate\":\"%{x}\",\"x\":[77097],\"xaxis\":\"x\",\"y\":[\"Loja 6\"],\"yaxis\":\"y\",\"type\":\"bar\"}],\"name\":\"2022-08\"},{\"data\":[{\"alignmentgroup\":\"True\",\"hovertemplate\":\"loja=%{y}<br>ano_mes=2022-09<br>acumulado=%{x}<extra></extra>\",\"legendgroup\":\"Loja 1\",\"marker\":{\"color\":\"#636efa\",\"pattern\":{\"shape\":\"\"}},\"name\":\"Loja 1\",\"offsetgroup\":\"Loja 1\",\"orientation\":\"h\",\"showlegend\":true,\"textposition\":\"auto\",\"texttemplate\":\"%{x}\",\"x\":[90224],\"xaxis\":\"x\",\"y\":[\"Loja 1\"],\"yaxis\":\"y\",\"type\":\"bar\"},{\"alignmentgroup\":\"True\",\"hovertemplate\":\"loja=%{y}<br>ano_mes=2022-09<br>acumulado=%{x}<extra></extra>\",\"legendgroup\":\"Loja 2\",\"marker\":{\"color\":\"#EF553B\",\"pattern\":{\"shape\":\"\"}},\"name\":\"Loja 2\",\"offsetgroup\":\"Loja 2\",\"orientation\":\"h\",\"showlegend\":true,\"textposition\":\"auto\",\"texttemplate\":\"%{x}\",\"x\":[60675],\"xaxis\":\"x\",\"y\":[\"Loja 2\"],\"yaxis\":\"y\",\"type\":\"bar\"},{\"alignmentgroup\":\"True\",\"hovertemplate\":\"loja=%{y}<br>ano_mes=2022-09<br>acumulado=%{x}<extra></extra>\",\"legendgroup\":\"Loja 3\",\"marker\":{\"color\":\"#00cc96\",\"pattern\":{\"shape\":\"\"}},\"name\":\"Loja 3\",\"offsetgroup\":\"Loja 3\",\"orientation\":\"h\",\"showlegend\":true,\"textposition\":\"auto\",\"texttemplate\":\"%{x}\",\"x\":[81696],\"xaxis\":\"x\",\"y\":[\"Loja 3\"],\"yaxis\":\"y\",\"type\":\"bar\"},{\"alignmentgroup\":\"True\",\"hovertemplate\":\"loja=%{y}<br>ano_mes=2022-09<br>acumulado=%{x}<extra></extra>\",\"legendgroup\":\"Loja 4\",\"marker\":{\"color\":\"#ab63fa\",\"pattern\":{\"shape\":\"\"}},\"name\":\"Loja 4\",\"offsetgroup\":\"Loja 4\",\"orientation\":\"h\",\"showlegend\":true,\"textposition\":\"auto\",\"texttemplate\":\"%{x}\",\"x\":[103612],\"xaxis\":\"x\",\"y\":[\"Loja 4\"],\"yaxis\":\"y\",\"type\":\"bar\"},{\"alignmentgroup\":\"True\",\"hovertemplate\":\"loja=%{y}<br>ano_mes=2022-09<br>acumulado=%{x}<extra></extra>\",\"legendgroup\":\"Loja 5\",\"marker\":{\"color\":\"#FFA15A\",\"pattern\":{\"shape\":\"\"}},\"name\":\"Loja 5\",\"offsetgroup\":\"Loja 5\",\"orientation\":\"h\",\"showlegend\":true,\"textposition\":\"auto\",\"texttemplate\":\"%{x}\",\"x\":[89080],\"xaxis\":\"x\",\"y\":[\"Loja 5\"],\"yaxis\":\"y\",\"type\":\"bar\"},{\"alignmentgroup\":\"True\",\"hovertemplate\":\"loja=%{y}<br>ano_mes=2022-09<br>acumulado=%{x}<extra></extra>\",\"legendgroup\":\"Loja 6\",\"marker\":{\"color\":\"#19d3f3\",\"pattern\":{\"shape\":\"\"}},\"name\":\"Loja 6\",\"offsetgroup\":\"Loja 6\",\"orientation\":\"h\",\"showlegend\":true,\"textposition\":\"auto\",\"texttemplate\":\"%{x}\",\"x\":[85144],\"xaxis\":\"x\",\"y\":[\"Loja 6\"],\"yaxis\":\"y\",\"type\":\"bar\"}],\"name\":\"2022-09\"},{\"data\":[{\"alignmentgroup\":\"True\",\"hovertemplate\":\"loja=%{y}<br>ano_mes=2022-10<br>acumulado=%{x}<extra></extra>\",\"legendgroup\":\"Loja 1\",\"marker\":{\"color\":\"#636efa\",\"pattern\":{\"shape\":\"\"}},\"name\":\"Loja 1\",\"offsetgroup\":\"Loja 1\",\"orientation\":\"h\",\"showlegend\":true,\"textposition\":\"auto\",\"texttemplate\":\"%{x}\",\"x\":[94918],\"xaxis\":\"x\",\"y\":[\"Loja 1\"],\"yaxis\":\"y\",\"type\":\"bar\"},{\"alignmentgroup\":\"True\",\"hovertemplate\":\"loja=%{y}<br>ano_mes=2022-10<br>acumulado=%{x}<extra></extra>\",\"legendgroup\":\"Loja 2\",\"marker\":{\"color\":\"#EF553B\",\"pattern\":{\"shape\":\"\"}},\"name\":\"Loja 2\",\"offsetgroup\":\"Loja 2\",\"orientation\":\"h\",\"showlegend\":true,\"textposition\":\"auto\",\"texttemplate\":\"%{x}\",\"x\":[63700],\"xaxis\":\"x\",\"y\":[\"Loja 2\"],\"yaxis\":\"y\",\"type\":\"bar\"},{\"alignmentgroup\":\"True\",\"hovertemplate\":\"loja=%{y}<br>ano_mes=2022-10<br>acumulado=%{x}<extra></extra>\",\"legendgroup\":\"Loja 3\",\"marker\":{\"color\":\"#00cc96\",\"pattern\":{\"shape\":\"\"}},\"name\":\"Loja 3\",\"offsetgroup\":\"Loja 3\",\"orientation\":\"h\",\"showlegend\":true,\"textposition\":\"auto\",\"texttemplate\":\"%{x}\",\"x\":[83533],\"xaxis\":\"x\",\"y\":[\"Loja 3\"],\"yaxis\":\"y\",\"type\":\"bar\"},{\"alignmentgroup\":\"True\",\"hovertemplate\":\"loja=%{y}<br>ano_mes=2022-10<br>acumulado=%{x}<extra></extra>\",\"legendgroup\":\"Loja 4\",\"marker\":{\"color\":\"#ab63fa\",\"pattern\":{\"shape\":\"\"}},\"name\":\"Loja 4\",\"offsetgroup\":\"Loja 4\",\"orientation\":\"h\",\"showlegend\":true,\"textposition\":\"auto\",\"texttemplate\":\"%{x}\",\"x\":[106464],\"xaxis\":\"x\",\"y\":[\"Loja 4\"],\"yaxis\":\"y\",\"type\":\"bar\"},{\"alignmentgroup\":\"True\",\"hovertemplate\":\"loja=%{y}<br>ano_mes=2022-10<br>acumulado=%{x}<extra></extra>\",\"legendgroup\":\"Loja 5\",\"marker\":{\"color\":\"#FFA15A\",\"pattern\":{\"shape\":\"\"}},\"name\":\"Loja 5\",\"offsetgroup\":\"Loja 5\",\"orientation\":\"h\",\"showlegend\":true,\"textposition\":\"auto\",\"texttemplate\":\"%{x}\",\"x\":[93425],\"xaxis\":\"x\",\"y\":[\"Loja 5\"],\"yaxis\":\"y\",\"type\":\"bar\"},{\"alignmentgroup\":\"True\",\"hovertemplate\":\"loja=%{y}<br>ano_mes=2022-10<br>acumulado=%{x}<extra></extra>\",\"legendgroup\":\"Loja 6\",\"marker\":{\"color\":\"#19d3f3\",\"pattern\":{\"shape\":\"\"}},\"name\":\"Loja 6\",\"offsetgroup\":\"Loja 6\",\"orientation\":\"h\",\"showlegend\":true,\"textposition\":\"auto\",\"texttemplate\":\"%{x}\",\"x\":[93696],\"xaxis\":\"x\",\"y\":[\"Loja 6\"],\"yaxis\":\"y\",\"type\":\"bar\"}],\"name\":\"2022-10\"},{\"data\":[{\"alignmentgroup\":\"True\",\"hovertemplate\":\"loja=%{y}<br>ano_mes=2022-11<br>acumulado=%{x}<extra></extra>\",\"legendgroup\":\"Loja 1\",\"marker\":{\"color\":\"#636efa\",\"pattern\":{\"shape\":\"\"}},\"name\":\"Loja 1\",\"offsetgroup\":\"Loja 1\",\"orientation\":\"h\",\"showlegend\":true,\"textposition\":\"auto\",\"texttemplate\":\"%{x}\",\"x\":[98707],\"xaxis\":\"x\",\"y\":[\"Loja 1\"],\"yaxis\":\"y\",\"type\":\"bar\"},{\"alignmentgroup\":\"True\",\"hovertemplate\":\"loja=%{y}<br>ano_mes=2022-11<br>acumulado=%{x}<extra></extra>\",\"legendgroup\":\"Loja 2\",\"marker\":{\"color\":\"#EF553B\",\"pattern\":{\"shape\":\"\"}},\"name\":\"Loja 2\",\"offsetgroup\":\"Loja 2\",\"orientation\":\"h\",\"showlegend\":true,\"textposition\":\"auto\",\"texttemplate\":\"%{x}\",\"x\":[66623],\"xaxis\":\"x\",\"y\":[\"Loja 2\"],\"yaxis\":\"y\",\"type\":\"bar\"},{\"alignmentgroup\":\"True\",\"hovertemplate\":\"loja=%{y}<br>ano_mes=2022-11<br>acumulado=%{x}<extra></extra>\",\"legendgroup\":\"Loja 3\",\"marker\":{\"color\":\"#00cc96\",\"pattern\":{\"shape\":\"\"}},\"name\":\"Loja 3\",\"offsetgroup\":\"Loja 3\",\"orientation\":\"h\",\"showlegend\":true,\"textposition\":\"auto\",\"texttemplate\":\"%{x}\",\"x\":[86092],\"xaxis\":\"x\",\"y\":[\"Loja 3\"],\"yaxis\":\"y\",\"type\":\"bar\"},{\"alignmentgroup\":\"True\",\"hovertemplate\":\"loja=%{y}<br>ano_mes=2022-11<br>acumulado=%{x}<extra></extra>\",\"legendgroup\":\"Loja 4\",\"marker\":{\"color\":\"#ab63fa\",\"pattern\":{\"shape\":\"\"}},\"name\":\"Loja 4\",\"offsetgroup\":\"Loja 4\",\"orientation\":\"h\",\"showlegend\":true,\"textposition\":\"auto\",\"texttemplate\":\"%{x}\",\"x\":[109411],\"xaxis\":\"x\",\"y\":[\"Loja 4\"],\"yaxis\":\"y\",\"type\":\"bar\"},{\"alignmentgroup\":\"True\",\"hovertemplate\":\"loja=%{y}<br>ano_mes=2022-11<br>acumulado=%{x}<extra></extra>\",\"legendgroup\":\"Loja 5\",\"marker\":{\"color\":\"#FFA15A\",\"pattern\":{\"shape\":\"\"}},\"name\":\"Loja 5\",\"offsetgroup\":\"Loja 5\",\"orientation\":\"h\",\"showlegend\":true,\"textposition\":\"auto\",\"texttemplate\":\"%{x}\",\"x\":[97634],\"xaxis\":\"x\",\"y\":[\"Loja 5\"],\"yaxis\":\"y\",\"type\":\"bar\"},{\"alignmentgroup\":\"True\",\"hovertemplate\":\"loja=%{y}<br>ano_mes=2022-11<br>acumulado=%{x}<extra></extra>\",\"legendgroup\":\"Loja 6\",\"marker\":{\"color\":\"#19d3f3\",\"pattern\":{\"shape\":\"\"}},\"name\":\"Loja 6\",\"offsetgroup\":\"Loja 6\",\"orientation\":\"h\",\"showlegend\":true,\"textposition\":\"auto\",\"texttemplate\":\"%{x}\",\"x\":[100968],\"xaxis\":\"x\",\"y\":[\"Loja 6\"],\"yaxis\":\"y\",\"type\":\"bar\"}],\"name\":\"2022-11\"},{\"data\":[{\"alignmentgroup\":\"True\",\"hovertemplate\":\"loja=%{y}<br>ano_mes=2022-12<br>acumulado=%{x}<extra></extra>\",\"legendgroup\":\"Loja 1\",\"marker\":{\"color\":\"#636efa\",\"pattern\":{\"shape\":\"\"}},\"name\":\"Loja 1\",\"offsetgroup\":\"Loja 1\",\"orientation\":\"h\",\"showlegend\":true,\"textposition\":\"auto\",\"texttemplate\":\"%{x}\",\"x\":[103162],\"xaxis\":\"x\",\"y\":[\"Loja 1\"],\"yaxis\":\"y\",\"type\":\"bar\"},{\"alignmentgroup\":\"True\",\"hovertemplate\":\"loja=%{y}<br>ano_mes=2022-12<br>acumulado=%{x}<extra></extra>\",\"legendgroup\":\"Loja 2\",\"marker\":{\"color\":\"#EF553B\",\"pattern\":{\"shape\":\"\"}},\"name\":\"Loja 2\",\"offsetgroup\":\"Loja 2\",\"orientation\":\"h\",\"showlegend\":true,\"textposition\":\"auto\",\"texttemplate\":\"%{x}\",\"x\":[69592],\"xaxis\":\"x\",\"y\":[\"Loja 2\"],\"yaxis\":\"y\",\"type\":\"bar\"},{\"alignmentgroup\":\"True\",\"hovertemplate\":\"loja=%{y}<br>ano_mes=2022-12<br>acumulado=%{x}<extra></extra>\",\"legendgroup\":\"Loja 3\",\"marker\":{\"color\":\"#00cc96\",\"pattern\":{\"shape\":\"\"}},\"name\":\"Loja 3\",\"offsetgroup\":\"Loja 3\",\"orientation\":\"h\",\"showlegend\":true,\"textposition\":\"auto\",\"texttemplate\":\"%{x}\",\"x\":[88357],\"xaxis\":\"x\",\"y\":[\"Loja 3\"],\"yaxis\":\"y\",\"type\":\"bar\"},{\"alignmentgroup\":\"True\",\"hovertemplate\":\"loja=%{y}<br>ano_mes=2022-12<br>acumulado=%{x}<extra></extra>\",\"legendgroup\":\"Loja 4\",\"marker\":{\"color\":\"#ab63fa\",\"pattern\":{\"shape\":\"\"}},\"name\":\"Loja 4\",\"offsetgroup\":\"Loja 4\",\"orientation\":\"h\",\"showlegend\":true,\"textposition\":\"auto\",\"texttemplate\":\"%{x}\",\"x\":[112379],\"xaxis\":\"x\",\"y\":[\"Loja 4\"],\"yaxis\":\"y\",\"type\":\"bar\"},{\"alignmentgroup\":\"True\",\"hovertemplate\":\"loja=%{y}<br>ano_mes=2022-12<br>acumulado=%{x}<extra></extra>\",\"legendgroup\":\"Loja 5\",\"marker\":{\"color\":\"#FFA15A\",\"pattern\":{\"shape\":\"\"}},\"name\":\"Loja 5\",\"offsetgroup\":\"Loja 5\",\"orientation\":\"h\",\"showlegend\":true,\"textposition\":\"auto\",\"texttemplate\":\"%{x}\",\"x\":[102189],\"xaxis\":\"x\",\"y\":[\"Loja 5\"],\"yaxis\":\"y\",\"type\":\"bar\"},{\"alignmentgroup\":\"True\",\"hovertemplate\":\"loja=%{y}<br>ano_mes=2022-12<br>acumulado=%{x}<extra></extra>\",\"legendgroup\":\"Loja 6\",\"marker\":{\"color\":\"#19d3f3\",\"pattern\":{\"shape\":\"\"}},\"name\":\"Loja 6\",\"offsetgroup\":\"Loja 6\",\"orientation\":\"h\",\"showlegend\":true,\"textposition\":\"auto\",\"texttemplate\":\"%{x}\",\"x\":[109185],\"xaxis\":\"x\",\"y\":[\"Loja 6\"],\"yaxis\":\"y\",\"type\":\"bar\"}],\"name\":\"2022-12\"}]);\n",
       "                        }).then(function(){\n",
       "                            \n",
       "var gd = document.getElementById('a4117c82-c852-4413-b70c-c07dd3ab9759');\n",
       "var x = new MutationObserver(function (mutations, observer) {{\n",
       "        var display = window.getComputedStyle(gd).display;\n",
       "        if (!display || display === 'none') {{\n",
       "            console.log([gd, 'removed!']);\n",
       "            Plotly.purge(gd);\n",
       "            observer.disconnect();\n",
       "        }}\n",
       "}});\n",
       "\n",
       "// Listen for the removal of the full notebook cells\n",
       "var notebookContainer = gd.closest('#notebook-container');\n",
       "if (notebookContainer) {{\n",
       "    x.observe(notebookContainer, {childList: true});\n",
       "}}\n",
       "\n",
       "// Listen for the clearing of the current output cell\n",
       "var outputEl = gd.closest('.output');\n",
       "if (outputEl) {{\n",
       "    x.observe(outputEl, {childList: true});\n",
       "}}\n",
       "\n",
       "                        })                };                });            </script>        </div>"
      ]
     },
     "metadata": {},
     "output_type": "display_data"
    }
   ],
   "source": [
    "fig = px.bar(dados_agrupados, x= 'acumulado', y= 'loja', color= 'loja', text_auto=True, range_x=[0,160000], animation_frame='ano_mes')\n",
    "fig.show()"
   ]
  },
  {
   "cell_type": "code",
   "execution_count": null,
   "id": "52115415",
   "metadata": {},
   "outputs": [],
   "source": [
    "#salvando em html\n",
    "#saving in html\n",
    "fig.write_html('grafico_animado.html')"
   ]
  }
 ],
 "metadata": {
  "kernelspec": {
   "display_name": "Python 3 (ipykernel)",
   "language": "python",
   "name": "python3"
  },
  "language_info": {
   "codemirror_mode": {
    "name": "ipython",
    "version": 3
   },
   "file_extension": ".py",
   "mimetype": "text/x-python",
   "name": "python",
   "nbconvert_exporter": "python",
   "pygments_lexer": "ipython3",
   "version": "3.9.13"
  }
 },
 "nbformat": 4,
 "nbformat_minor": 5
}
